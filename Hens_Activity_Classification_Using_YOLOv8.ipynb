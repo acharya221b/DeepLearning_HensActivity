{
 "cells": [
  {
   "cell_type": "code",
   "execution_count": 1,
   "id": "030ef5db",
   "metadata": {},
   "outputs": [
    {
     "name": "stdout",
     "output_type": "stream",
     "text": [
      "Ultralytics YOLOv8.1.45 🚀 Python-3.11.5 torch-2.1.1 CPU (Apple M2)\n",
      "Setup complete ✅ (8 CPUs, 8.0 GB RAM, 102.4/114.1 GB disk)\n"
     ]
    }
   ],
   "source": [
    "# %pip install ultralytics\n",
    "import ultralytics\n",
    "ultralytics.checks()"
   ]
  },
  {
   "cell_type": "code",
   "execution_count": 2,
   "id": "873ccaad",
   "metadata": {},
   "outputs": [],
   "source": [
    "# Run inference on an image with available YOLOv8n model\n",
    "# !yolo predict model=yolov8n.pt source='https://ultralytics.com/images/zidane.jpg'"
   ]
  },
  {
   "cell_type": "code",
   "execution_count": 3,
   "id": "b9062f16",
   "metadata": {},
   "outputs": [
    {
     "data": {
      "text/plain": [
       "'/Users/namrata/Downloads'"
      ]
     },
     "execution_count": 3,
     "metadata": {},
     "output_type": "execute_result"
    }
   ],
   "source": [
    "pwd"
   ]
  },
  {
   "cell_type": "code",
   "execution_count": 4,
   "id": "b6ab3d07",
   "metadata": {},
   "outputs": [],
   "source": [
    "from ultralytics import YOLO"
   ]
  },
  {
   "cell_type": "code",
   "execution_count": 5,
   "id": "be4c96c1",
   "metadata": {},
   "outputs": [
    {
     "data": {
      "text/plain": [
       "'/Users/namrata/Downloads'"
      ]
     },
     "execution_count": 5,
     "metadata": {},
     "output_type": "execute_result"
    }
   ],
   "source": [
    "pwd"
   ]
  },
  {
   "cell_type": "code",
   "execution_count": 6,
   "id": "aabe05ad",
   "metadata": {},
   "outputs": [],
   "source": [
    "import os\n",
    "\n",
    "#checking if dataset is prepared correctly \n",
    "\n",
    "def check_dataset_integrity(image_dir, label_dir):\n",
    "    image_files = set(os.path.splitext(f)[0] for f in os.listdir(image_dir) if f.endswith('.jpg'))\n",
    "    label_files = set(os.path.splitext(f)[0] for f in os.listdir(label_dir) if f.endswith('.txt'))\n",
    "\n",
    "    missing_labels = image_files - label_files\n",
    "    missing_images = label_files - image_files\n",
    "\n",
    "    if missing_labels:\n",
    "        print(f\"Images without labels: {missing_labels}\")\n",
    "    if missing_images:\n",
    "        print(f\"Labels without images: {missing_images}\")\n",
    "\n",
    "# Example usage:\n",
    "check_dataset_integrity('datasets/images/train', 'datasets/labels/train')\n",
    "check_dataset_integrity('datasets/images/val', 'datasets/labels/val')\n"
   ]
  },
  {
   "cell_type": "code",
   "execution_count": 7,
   "id": "0cc4571e",
   "metadata": {},
   "outputs": [],
   "source": [
    "# deleting cache files from previous runs\n",
    "!cd /Users/namrata/Downloads/datasets\n",
    "!find . -name \"*.cache\" -type f -delete"
   ]
  },
  {
   "cell_type": "code",
   "execution_count": 8,
   "id": "fbee9893",
   "metadata": {},
   "outputs": [
    {
     "data": {
      "text/plain": [
       "'/Users/namrata/Downloads'"
      ]
     },
     "execution_count": 8,
     "metadata": {},
     "output_type": "execute_result"
    }
   ],
   "source": [
    "pwd"
   ]
  },
  {
   "cell_type": "code",
   "execution_count": 1,
   "id": "80d92a07",
   "metadata": {
    "scrolled": false
   },
   "outputs": [
    {
     "name": "stdout",
     "output_type": "stream",
     "text": [
      "New https://pypi.org/project/ultralytics/8.2.18 available 😃 Update with 'pip install -U ultralytics'\n",
      "Ultralytics YOLOv8.1.45 🚀 Python-3.11.5 torch-2.1.1 CPU (Apple M2)\n",
      "\u001b[34m\u001b[1mengine/trainer: \u001b[0mtask=detect, mode=train, model=yolov8n.pt, data=/Users/namrata/Downloads/hen.yaml, epochs=20, time=None, patience=100, batch=16, imgsz=640, save=True, save_period=-1, cache=False, device=None, workers=8, project=None, name=train3, exist_ok=False, pretrained=True, optimizer=auto, verbose=True, seed=0, deterministic=True, single_cls=False, rect=False, cos_lr=False, close_mosaic=10, resume=False, amp=True, fraction=1.0, profile=False, freeze=None, multi_scale=False, overlap_mask=True, mask_ratio=4, dropout=0.0, val=True, split=val, save_json=False, save_hybrid=False, conf=None, iou=0.7, max_det=300, half=False, dnn=False, plots=True, source=None, vid_stride=1, stream_buffer=False, visualize=False, augment=True, agnostic_nms=False, classes=None, retina_masks=False, embed=None, show=False, save_frames=False, save_txt=False, save_conf=False, save_crop=False, show_labels=True, show_conf=True, show_boxes=True, line_width=None, format=torchscript, keras=False, optimize=False, int8=False, dynamic=False, simplify=False, opset=None, workspace=4, nms=False, lr0=0.01, lrf=0.01, momentum=0.937, weight_decay=0.0005, warmup_epochs=3.0, warmup_momentum=0.8, warmup_bias_lr=0.1, box=7.5, cls=0.5, dfl=1.5, pose=12.0, kobj=1.0, label_smoothing=0.0, nbs=64, hsv_h=0.015, hsv_s=0.7, hsv_v=0.4, degrees=0.0, translate=0.1, scale=0.5, shear=0.0, perspective=0.0, flipud=0.0, fliplr=0.5, bgr=0.0, mosaic=1.0, mixup=0.0, copy_paste=0.0, auto_augment=randaugment, erasing=0.4, crop_fraction=1.0, cfg=None, tracker=botsort.yaml, save_dir=runs/detect/train3\n",
      "Overriding model.yaml nc=80 with nc=6\n",
      "\n",
      "                   from  n    params  module                                       arguments                     \n",
      "  0                  -1  1       464  ultralytics.nn.modules.conv.Conv             [3, 16, 3, 2]                 \n",
      "  1                  -1  1      4672  ultralytics.nn.modules.conv.Conv             [16, 32, 3, 2]                \n",
      "  2                  -1  1      7360  ultralytics.nn.modules.block.C2f             [32, 32, 1, True]             \n",
      "  3                  -1  1     18560  ultralytics.nn.modules.conv.Conv             [32, 64, 3, 2]                \n",
      "  4                  -1  2     49664  ultralytics.nn.modules.block.C2f             [64, 64, 2, True]             \n",
      "  5                  -1  1     73984  ultralytics.nn.modules.conv.Conv             [64, 128, 3, 2]               \n",
      "  6                  -1  2    197632  ultralytics.nn.modules.block.C2f             [128, 128, 2, True]           \n",
      "  7                  -1  1    295424  ultralytics.nn.modules.conv.Conv             [128, 256, 3, 2]              \n",
      "  8                  -1  1    460288  ultralytics.nn.modules.block.C2f             [256, 256, 1, True]           \n",
      "  9                  -1  1    164608  ultralytics.nn.modules.block.SPPF            [256, 256, 5]                 \n",
      " 10                  -1  1         0  torch.nn.modules.upsampling.Upsample         [None, 2, 'nearest']          \n",
      " 11             [-1, 6]  1         0  ultralytics.nn.modules.conv.Concat           [1]                           \n",
      " 12                  -1  1    148224  ultralytics.nn.modules.block.C2f             [384, 128, 1]                 \n",
      " 13                  -1  1         0  torch.nn.modules.upsampling.Upsample         [None, 2, 'nearest']          \n",
      " 14             [-1, 4]  1         0  ultralytics.nn.modules.conv.Concat           [1]                           \n",
      " 15                  -1  1     37248  ultralytics.nn.modules.block.C2f             [192, 64, 1]                  \n",
      " 16                  -1  1     36992  ultralytics.nn.modules.conv.Conv             [64, 64, 3, 2]                \n",
      " 17            [-1, 12]  1         0  ultralytics.nn.modules.conv.Concat           [1]                           \n",
      " 18                  -1  1    123648  ultralytics.nn.modules.block.C2f             [192, 128, 1]                 \n",
      " 19                  -1  1    147712  ultralytics.nn.modules.conv.Conv             [128, 128, 3, 2]              \n",
      " 20             [-1, 9]  1         0  ultralytics.nn.modules.conv.Concat           [1]                           \n",
      " 21                  -1  1    493056  ultralytics.nn.modules.block.C2f             [384, 256, 1]                 \n",
      " 22        [15, 18, 21]  1    752482  ultralytics.nn.modules.head.Detect           [6, [64, 128, 256]]           \n",
      "Model summary: 225 layers, 3012018 parameters, 3012002 gradients, 8.2 GFLOPs\n",
      "\n",
      "Transferred 319/355 items from pretrained weights\n",
      "\u001b[34m\u001b[1mTensorBoard: \u001b[0mStart with 'tensorboard --logdir runs/detect/train3', view at http://localhost:6006/\n",
      "Freezing layer 'model.22.dfl.conv.weight'\n"
     ]
    },
    {
     "name": "stderr",
     "output_type": "stream",
     "text": [
      "\u001b[34m\u001b[1mtrain: \u001b[0mScanning /Users/namrata/Downloads/datasets/labels/train.cache... 288 imag\u001b[0m\n",
      "\u001b[34m\u001b[1mval: \u001b[0mScanning /Users/namrata/Downloads/datasets/labels/val.cache... 50 images, 0\u001b[0m\n",
      "/Users/namrata/anaconda3/lib/python3.11/site-packages/pandas/core/arrays/masked.py:60: UserWarning: Pandas requires version '1.3.6' or newer of 'bottleneck' (version '1.3.5' currently installed).\n",
      "  from pandas.core import (\n"
     ]
    },
    {
     "name": "stdout",
     "output_type": "stream",
     "text": [
      "Plotting labels to runs/detect/train3/labels.jpg... \n",
      "\u001b[34m\u001b[1moptimizer:\u001b[0m 'optimizer=auto' found, ignoring 'lr0=0.01' and 'momentum=0.937' and determining best 'optimizer', 'lr0' and 'momentum' automatically... \n",
      "\u001b[34m\u001b[1moptimizer:\u001b[0m AdamW(lr=0.001, momentum=0.9) with parameter groups 57 weight(decay=0.0), 64 weight(decay=0.0005), 63 bias(decay=0.0)\n",
      "\u001b[34m\u001b[1mTensorBoard: \u001b[0mmodel graph visualization added ✅\n",
      "Image sizes 640 train, 640 val\n",
      "Using 0 dataloader workers\n",
      "Logging results to \u001b[1mruns/detect/train3\u001b[0m\n",
      "Starting training for 20 epochs...\n",
      "\n",
      "      Epoch    GPU_mem   box_loss   cls_loss   dfl_loss  Instances       Size\n"
     ]
    },
    {
     "name": "stderr",
     "output_type": "stream",
     "text": [
      "       1/20         0G      1.661      3.848      1.304        175        640: 1\n",
      "                 Class     Images  Instances      Box(P          R      mAP50  m"
     ]
    },
    {
     "name": "stdout",
     "output_type": "stream",
     "text": [
      "                   all         50        795     0.0127      0.367      0.173     0.0872\n"
     ]
    },
    {
     "name": "stderr",
     "output_type": "stream",
     "text": [
      "\n"
     ]
    },
    {
     "name": "stdout",
     "output_type": "stream",
     "text": [
      "\n",
      "      Epoch    GPU_mem   box_loss   cls_loss   dfl_loss  Instances       Size\n"
     ]
    },
    {
     "name": "stderr",
     "output_type": "stream",
     "text": [
      "       2/20         0G      1.532      2.451      1.156        182        640: 1\n",
      "                 Class     Images  Instances      Box(P          R      mAP50  m"
     ]
    },
    {
     "name": "stdout",
     "output_type": "stream",
     "text": [
      "                   all         50        795     0.0194      0.408      0.192      0.119\n"
     ]
    },
    {
     "name": "stderr",
     "output_type": "stream",
     "text": [
      "\n"
     ]
    },
    {
     "name": "stdout",
     "output_type": "stream",
     "text": [
      "\n",
      "      Epoch    GPU_mem   box_loss   cls_loss   dfl_loss  Instances       Size\n"
     ]
    },
    {
     "name": "stderr",
     "output_type": "stream",
     "text": [
      "       3/20         0G      1.492       1.99      1.152        215        640: 1\n",
      "                 Class     Images  Instances      Box(P          R      mAP50  m"
     ]
    },
    {
     "name": "stdout",
     "output_type": "stream",
     "text": [
      "                   all         50        795      0.612      0.116      0.263      0.135\n"
     ]
    },
    {
     "name": "stderr",
     "output_type": "stream",
     "text": [
      "\n"
     ]
    },
    {
     "name": "stdout",
     "output_type": "stream",
     "text": [
      "\n",
      "      Epoch    GPU_mem   box_loss   cls_loss   dfl_loss  Instances       Size\n"
     ]
    },
    {
     "name": "stderr",
     "output_type": "stream",
     "text": [
      "       4/20         0G       1.45      1.754       1.14        164        640: 1\n",
      "                 Class     Images  Instances      Box(P          R      mAP50  m"
     ]
    },
    {
     "name": "stdout",
     "output_type": "stream",
     "text": [
      "                   all         50        795      0.617      0.305      0.407      0.185\n"
     ]
    },
    {
     "name": "stderr",
     "output_type": "stream",
     "text": [
      "\n"
     ]
    },
    {
     "name": "stdout",
     "output_type": "stream",
     "text": [
      "\n",
      "      Epoch    GPU_mem   box_loss   cls_loss   dfl_loss  Instances       Size\n"
     ]
    },
    {
     "name": "stderr",
     "output_type": "stream",
     "text": [
      "       5/20         0G      1.457       1.69       1.15        197        640: 1\n",
      "                 Class     Images  Instances      Box(P          R      mAP50  m"
     ]
    },
    {
     "name": "stdout",
     "output_type": "stream",
     "text": [
      "                   all         50        795      0.562       0.28      0.403      0.177\n"
     ]
    },
    {
     "name": "stderr",
     "output_type": "stream",
     "text": [
      "\n"
     ]
    },
    {
     "name": "stdout",
     "output_type": "stream",
     "text": [
      "\n",
      "      Epoch    GPU_mem   box_loss   cls_loss   dfl_loss  Instances       Size\n"
     ]
    },
    {
     "name": "stderr",
     "output_type": "stream",
     "text": [
      "       6/20         0G      1.433      1.661      1.136        184        640: 1\n",
      "                 Class     Images  Instances      Box(P          R      mAP50  m"
     ]
    },
    {
     "name": "stdout",
     "output_type": "stream",
     "text": [
      "                   all         50        795       0.65       0.21      0.424      0.189\n"
     ]
    },
    {
     "name": "stderr",
     "output_type": "stream",
     "text": [
      "\n"
     ]
    },
    {
     "name": "stdout",
     "output_type": "stream",
     "text": [
      "\n",
      "      Epoch    GPU_mem   box_loss   cls_loss   dfl_loss  Instances       Size\n"
     ]
    },
    {
     "name": "stderr",
     "output_type": "stream",
     "text": [
      "       7/20         0G      1.409      1.557      1.133        237        640: 1\n",
      "                 Class     Images  Instances      Box(P          R      mAP50  m"
     ]
    },
    {
     "name": "stdout",
     "output_type": "stream",
     "text": [
      "                   all         50        795      0.524      0.418      0.415      0.192\n"
     ]
    },
    {
     "name": "stderr",
     "output_type": "stream",
     "text": [
      "\n"
     ]
    },
    {
     "name": "stdout",
     "output_type": "stream",
     "text": [
      "\n",
      "      Epoch    GPU_mem   box_loss   cls_loss   dfl_loss  Instances       Size\n"
     ]
    },
    {
     "name": "stderr",
     "output_type": "stream",
     "text": [
      "       8/20         0G      1.381      1.509      1.118        224        640: 1\n",
      "                 Class     Images  Instances      Box(P          R      mAP50  m"
     ]
    },
    {
     "name": "stdout",
     "output_type": "stream",
     "text": [
      "                   all         50        795      0.575      0.503      0.452      0.208\n"
     ]
    },
    {
     "name": "stderr",
     "output_type": "stream",
     "text": [
      "\n"
     ]
    },
    {
     "name": "stdout",
     "output_type": "stream",
     "text": [
      "\n",
      "      Epoch    GPU_mem   box_loss   cls_loss   dfl_loss  Instances       Size\n"
     ]
    },
    {
     "name": "stderr",
     "output_type": "stream",
     "text": [
      "       9/20         0G      1.355      1.543      1.111        233        640: 1\n",
      "                 Class     Images  Instances      Box(P          R      mAP50  m"
     ]
    },
    {
     "name": "stdout",
     "output_type": "stream",
     "text": [
      "                   all         50        795      0.529      0.475      0.467      0.208\n"
     ]
    },
    {
     "name": "stderr",
     "output_type": "stream",
     "text": [
      "\n"
     ]
    },
    {
     "name": "stdout",
     "output_type": "stream",
     "text": [
      "\n",
      "      Epoch    GPU_mem   box_loss   cls_loss   dfl_loss  Instances       Size\n"
     ]
    },
    {
     "name": "stderr",
     "output_type": "stream",
     "text": [
      "      10/20         0G      1.341      1.454      1.125        192        640: 1\n",
      "                 Class     Images  Instances      Box(P          R      mAP50  m"
     ]
    },
    {
     "name": "stdout",
     "output_type": "stream",
     "text": [
      "                   all         50        795      0.612      0.523      0.463      0.198\n"
     ]
    },
    {
     "name": "stderr",
     "output_type": "stream",
     "text": [
      "\n"
     ]
    },
    {
     "name": "stdout",
     "output_type": "stream",
     "text": [
      "Closing dataloader mosaic\n",
      "\n",
      "      Epoch    GPU_mem   box_loss   cls_loss   dfl_loss  Instances       Size\n"
     ]
    },
    {
     "name": "stderr",
     "output_type": "stream",
     "text": [
      "      11/20         0G      1.368      1.664      1.144        106        640: 1\n",
      "                 Class     Images  Instances      Box(P          R      mAP50  m"
     ]
    },
    {
     "name": "stdout",
     "output_type": "stream",
     "text": [
      "                   all         50        795      0.702      0.514      0.523      0.241\n"
     ]
    },
    {
     "name": "stderr",
     "output_type": "stream",
     "text": [
      "\n"
     ]
    },
    {
     "name": "stdout",
     "output_type": "stream",
     "text": [
      "\n",
      "      Epoch    GPU_mem   box_loss   cls_loss   dfl_loss  Instances       Size\n"
     ]
    },
    {
     "name": "stderr",
     "output_type": "stream",
     "text": [
      "      12/20         0G      1.332       1.52      1.135        110        640: 1\n",
      "                 Class     Images  Instances      Box(P          R      mAP50  m"
     ]
    },
    {
     "name": "stdout",
     "output_type": "stream",
     "text": [
      "                   all         50        795      0.635      0.565      0.524      0.243\n"
     ]
    },
    {
     "name": "stderr",
     "output_type": "stream",
     "text": [
      "\n"
     ]
    },
    {
     "name": "stdout",
     "output_type": "stream",
     "text": [
      "\n",
      "      Epoch    GPU_mem   box_loss   cls_loss   dfl_loss  Instances       Size\n"
     ]
    },
    {
     "name": "stderr",
     "output_type": "stream",
     "text": [
      "      13/20         0G      1.296      1.464      1.142        115        640: 1\n",
      "                 Class     Images  Instances      Box(P          R      mAP50  m"
     ]
    },
    {
     "name": "stdout",
     "output_type": "stream",
     "text": [
      "                   all         50        795      0.507      0.541      0.531      0.242\n"
     ]
    },
    {
     "name": "stderr",
     "output_type": "stream",
     "text": [
      "\n"
     ]
    },
    {
     "name": "stdout",
     "output_type": "stream",
     "text": [
      "\n",
      "      Epoch    GPU_mem   box_loss   cls_loss   dfl_loss  Instances       Size\n"
     ]
    },
    {
     "name": "stderr",
     "output_type": "stream",
     "text": [
      "      14/20         0G      1.273      1.393      1.117         86        640: 1\n",
      "                 Class     Images  Instances      Box(P          R      mAP50  m"
     ]
    },
    {
     "name": "stdout",
     "output_type": "stream",
     "text": [
      "                   all         50        795      0.522      0.561      0.541      0.235\n"
     ]
    },
    {
     "name": "stderr",
     "output_type": "stream",
     "text": [
      "\n"
     ]
    },
    {
     "name": "stdout",
     "output_type": "stream",
     "text": [
      "\n",
      "      Epoch    GPU_mem   box_loss   cls_loss   dfl_loss  Instances       Size\n"
     ]
    },
    {
     "name": "stderr",
     "output_type": "stream",
     "text": [
      "      15/20         0G      1.261      1.373      1.108        102        640: 1\n",
      "                 Class     Images  Instances      Box(P          R      mAP50  m"
     ]
    },
    {
     "name": "stdout",
     "output_type": "stream",
     "text": [
      "                   all         50        795      0.536      0.552      0.537      0.237\n"
     ]
    },
    {
     "name": "stderr",
     "output_type": "stream",
     "text": [
      "\n"
     ]
    },
    {
     "name": "stdout",
     "output_type": "stream",
     "text": [
      "\n",
      "      Epoch    GPU_mem   box_loss   cls_loss   dfl_loss  Instances       Size\n"
     ]
    },
    {
     "name": "stderr",
     "output_type": "stream",
     "text": [
      "      16/20         0G      1.255      1.324      1.107         84        640: 1\n",
      "                 Class     Images  Instances      Box(P          R      mAP50  m"
     ]
    },
    {
     "name": "stdout",
     "output_type": "stream",
     "text": [
      "                   all         50        795      0.696      0.576      0.545      0.243\n"
     ]
    },
    {
     "name": "stderr",
     "output_type": "stream",
     "text": [
      "\n"
     ]
    },
    {
     "name": "stdout",
     "output_type": "stream",
     "text": [
      "\n",
      "      Epoch    GPU_mem   box_loss   cls_loss   dfl_loss  Instances       Size\n"
     ]
    },
    {
     "name": "stderr",
     "output_type": "stream",
     "text": [
      "      17/20         0G      1.256      1.306      1.105         98        640: 1\n",
      "                 Class     Images  Instances      Box(P          R      mAP50  m"
     ]
    },
    {
     "name": "stdout",
     "output_type": "stream",
     "text": [
      "                   all         50        795      0.706      0.592      0.541      0.244\n"
     ]
    },
    {
     "name": "stderr",
     "output_type": "stream",
     "text": [
      "\n"
     ]
    },
    {
     "name": "stdout",
     "output_type": "stream",
     "text": [
      "\n",
      "      Epoch    GPU_mem   box_loss   cls_loss   dfl_loss  Instances       Size\n"
     ]
    },
    {
     "name": "stderr",
     "output_type": "stream",
     "text": [
      "      18/20         0G      1.227      1.267      1.098        124        640: 1\n",
      "                 Class     Images  Instances      Box(P          R      mAP50  m"
     ]
    },
    {
     "name": "stdout",
     "output_type": "stream",
     "text": [
      "                   all         50        795       0.71      0.587      0.542      0.248\n"
     ]
    },
    {
     "name": "stderr",
     "output_type": "stream",
     "text": [
      "\n"
     ]
    },
    {
     "name": "stdout",
     "output_type": "stream",
     "text": [
      "\n",
      "      Epoch    GPU_mem   box_loss   cls_loss   dfl_loss  Instances       Size\n"
     ]
    },
    {
     "name": "stderr",
     "output_type": "stream",
     "text": [
      "      19/20         0G      1.209      1.249      1.086        115        640: 1\n",
      "                 Class     Images  Instances      Box(P          R      mAP50  m"
     ]
    },
    {
     "name": "stdout",
     "output_type": "stream",
     "text": [
      "                   all         50        795      0.718      0.576      0.546      0.249\n"
     ]
    },
    {
     "name": "stderr",
     "output_type": "stream",
     "text": [
      "\n"
     ]
    },
    {
     "name": "stdout",
     "output_type": "stream",
     "text": [
      "\n",
      "      Epoch    GPU_mem   box_loss   cls_loss   dfl_loss  Instances       Size\n"
     ]
    },
    {
     "name": "stderr",
     "output_type": "stream",
     "text": [
      "      20/20         0G      1.214      1.255      1.101        107        640: 1\n",
      "                 Class     Images  Instances      Box(P          R      mAP50  m"
     ]
    },
    {
     "name": "stdout",
     "output_type": "stream",
     "text": [
      "                   all         50        795       0.72      0.572      0.549      0.249\n"
     ]
    },
    {
     "name": "stderr",
     "output_type": "stream",
     "text": [
      "\n"
     ]
    },
    {
     "name": "stdout",
     "output_type": "stream",
     "text": [
      "\n",
      "20 epochs completed in 0.955 hours.\n",
      "Optimizer stripped from runs/detect/train3/weights/last.pt, 6.2MB\n",
      "Optimizer stripped from runs/detect/train3/weights/best.pt, 6.2MB\n",
      "\n",
      "Validating runs/detect/train3/weights/best.pt...\n",
      "Ultralytics YOLOv8.1.45 🚀 Python-3.11.5 torch-2.1.1 CPU (Apple M2)\n",
      "Model summary (fused): 168 layers, 3006818 parameters, 0 gradients, 8.1 GFLOPs\n"
     ]
    },
    {
     "name": "stderr",
     "output_type": "stream",
     "text": [
      "                 Class     Images  Instances      Box(P          R      mAP50  m\n"
     ]
    },
    {
     "name": "stdout",
     "output_type": "stream",
     "text": [
      "                   all         50        795      0.696      0.573      0.544      0.247\n",
      "              Perching         50         92      0.887      0.989      0.971       0.61\n",
      "          WingFlapping         50          1          1          0     0.0109    0.00656\n",
      "              Preening         50         26      0.295      0.538      0.373      0.194\n",
      "               Feeding         50        423      0.809      0.662      0.777      0.244\n",
      "               Walking         50        100      0.502       0.88      0.645      0.251\n",
      "               Pecking         50        153      0.684      0.368       0.49      0.178\n",
      "Speed: 0.6ms preprocess, 292.1ms inference, 0.0ms loss, 6.3ms postprocess per image\n",
      "Results saved to \u001b[1mruns/detect/train3\u001b[0m\n"
     ]
    },
    {
     "data": {
      "text/plain": [
       "ultralytics.utils.metrics.DetMetrics object with attributes:\n",
       "\n",
       "ap_class_index: array([0, 1, 2, 3, 4, 5])\n",
       "box: ultralytics.utils.metrics.Metric object\n",
       "confusion_matrix: <ultralytics.utils.metrics.ConfusionMatrix object at 0x17b52ba10>\n",
       "curves: ['Precision-Recall(B)', 'F1-Confidence(B)', 'Precision-Confidence(B)', 'Recall-Confidence(B)']\n",
       "curves_results: [[array([          0,    0.001001,    0.002002,    0.003003,    0.004004,    0.005005,    0.006006,    0.007007,    0.008008,    0.009009,     0.01001,    0.011011,    0.012012,    0.013013,    0.014014,    0.015015,    0.016016,    0.017017,    0.018018,    0.019019,     0.02002,    0.021021,    0.022022,    0.023023,\n",
       "          0.024024,    0.025025,    0.026026,    0.027027,    0.028028,    0.029029,     0.03003,    0.031031,    0.032032,    0.033033,    0.034034,    0.035035,    0.036036,    0.037037,    0.038038,    0.039039,     0.04004,    0.041041,    0.042042,    0.043043,    0.044044,    0.045045,    0.046046,    0.047047,\n",
       "          0.048048,    0.049049,     0.05005,    0.051051,    0.052052,    0.053053,    0.054054,    0.055055,    0.056056,    0.057057,    0.058058,    0.059059,     0.06006,    0.061061,    0.062062,    0.063063,    0.064064,    0.065065,    0.066066,    0.067067,    0.068068,    0.069069,     0.07007,    0.071071,\n",
       "          0.072072,    0.073073,    0.074074,    0.075075,    0.076076,    0.077077,    0.078078,    0.079079,     0.08008,    0.081081,    0.082082,    0.083083,    0.084084,    0.085085,    0.086086,    0.087087,    0.088088,    0.089089,     0.09009,    0.091091,    0.092092,    0.093093,    0.094094,    0.095095,\n",
       "          0.096096,    0.097097,    0.098098,    0.099099,      0.1001,      0.1011,      0.1021,      0.1031,      0.1041,     0.10511,     0.10611,     0.10711,     0.10811,     0.10911,     0.11011,     0.11111,     0.11211,     0.11311,     0.11411,     0.11512,     0.11612,     0.11712,     0.11812,     0.11912,\n",
       "           0.12012,     0.12112,     0.12212,     0.12312,     0.12412,     0.12513,     0.12613,     0.12713,     0.12813,     0.12913,     0.13013,     0.13113,     0.13213,     0.13313,     0.13413,     0.13514,     0.13614,     0.13714,     0.13814,     0.13914,     0.14014,     0.14114,     0.14214,     0.14314,\n",
       "           0.14414,     0.14515,     0.14615,     0.14715,     0.14815,     0.14915,     0.15015,     0.15115,     0.15215,     0.15315,     0.15415,     0.15516,     0.15616,     0.15716,     0.15816,     0.15916,     0.16016,     0.16116,     0.16216,     0.16316,     0.16416,     0.16517,     0.16617,     0.16717,\n",
       "           0.16817,     0.16917,     0.17017,     0.17117,     0.17217,     0.17317,     0.17417,     0.17518,     0.17618,     0.17718,     0.17818,     0.17918,     0.18018,     0.18118,     0.18218,     0.18318,     0.18418,     0.18519,     0.18619,     0.18719,     0.18819,     0.18919,     0.19019,     0.19119,\n",
       "           0.19219,     0.19319,     0.19419,      0.1952,      0.1962,      0.1972,      0.1982,      0.1992,      0.2002,      0.2012,      0.2022,      0.2032,      0.2042,     0.20521,     0.20621,     0.20721,     0.20821,     0.20921,     0.21021,     0.21121,     0.21221,     0.21321,     0.21421,     0.21522,\n",
       "           0.21622,     0.21722,     0.21822,     0.21922,     0.22022,     0.22122,     0.22222,     0.22322,     0.22422,     0.22523,     0.22623,     0.22723,     0.22823,     0.22923,     0.23023,     0.23123,     0.23223,     0.23323,     0.23423,     0.23524,     0.23624,     0.23724,     0.23824,     0.23924,\n",
       "           0.24024,     0.24124,     0.24224,     0.24324,     0.24424,     0.24525,     0.24625,     0.24725,     0.24825,     0.24925,     0.25025,     0.25125,     0.25225,     0.25325,     0.25425,     0.25526,     0.25626,     0.25726,     0.25826,     0.25926,     0.26026,     0.26126,     0.26226,     0.26326,\n",
       "           0.26426,     0.26527,     0.26627,     0.26727,     0.26827,     0.26927,     0.27027,     0.27127,     0.27227,     0.27327,     0.27427,     0.27528,     0.27628,     0.27728,     0.27828,     0.27928,     0.28028,     0.28128,     0.28228,     0.28328,     0.28428,     0.28529,     0.28629,     0.28729,\n",
       "           0.28829,     0.28929,     0.29029,     0.29129,     0.29229,     0.29329,     0.29429,      0.2953,      0.2963,      0.2973,      0.2983,      0.2993,      0.3003,      0.3013,      0.3023,      0.3033,      0.3043,     0.30531,     0.30631,     0.30731,     0.30831,     0.30931,     0.31031,     0.31131,\n",
       "           0.31231,     0.31331,     0.31431,     0.31532,     0.31632,     0.31732,     0.31832,     0.31932,     0.32032,     0.32132,     0.32232,     0.32332,     0.32432,     0.32533,     0.32633,     0.32733,     0.32833,     0.32933,     0.33033,     0.33133,     0.33233,     0.33333,     0.33433,     0.33534,\n",
       "           0.33634,     0.33734,     0.33834,     0.33934,     0.34034,     0.34134,     0.34234,     0.34334,     0.34434,     0.34535,     0.34635,     0.34735,     0.34835,     0.34935,     0.35035,     0.35135,     0.35235,     0.35335,     0.35435,     0.35536,     0.35636,     0.35736,     0.35836,     0.35936,\n",
       "           0.36036,     0.36136,     0.36236,     0.36336,     0.36436,     0.36537,     0.36637,     0.36737,     0.36837,     0.36937,     0.37037,     0.37137,     0.37237,     0.37337,     0.37437,     0.37538,     0.37638,     0.37738,     0.37838,     0.37938,     0.38038,     0.38138,     0.38238,     0.38338,\n",
       "           0.38438,     0.38539,     0.38639,     0.38739,     0.38839,     0.38939,     0.39039,     0.39139,     0.39239,     0.39339,     0.39439,      0.3954,      0.3964,      0.3974,      0.3984,      0.3994,      0.4004,      0.4014,      0.4024,      0.4034,      0.4044,     0.40541,     0.40641,     0.40741,\n",
       "           0.40841,     0.40941,     0.41041,     0.41141,     0.41241,     0.41341,     0.41441,     0.41542,     0.41642,     0.41742,     0.41842,     0.41942,     0.42042,     0.42142,     0.42242,     0.42342,     0.42442,     0.42543,     0.42643,     0.42743,     0.42843,     0.42943,     0.43043,     0.43143,\n",
       "           0.43243,     0.43343,     0.43443,     0.43544,     0.43644,     0.43744,     0.43844,     0.43944,     0.44044,     0.44144,     0.44244,     0.44344,     0.44444,     0.44545,     0.44645,     0.44745,     0.44845,     0.44945,     0.45045,     0.45145,     0.45245,     0.45345,     0.45445,     0.45546,\n",
       "           0.45646,     0.45746,     0.45846,     0.45946,     0.46046,     0.46146,     0.46246,     0.46346,     0.46446,     0.46547,     0.46647,     0.46747,     0.46847,     0.46947,     0.47047,     0.47147,     0.47247,     0.47347,     0.47447,     0.47548,     0.47648,     0.47748,     0.47848,     0.47948,\n",
       "           0.48048,     0.48148,     0.48248,     0.48348,     0.48448,     0.48549,     0.48649,     0.48749,     0.48849,     0.48949,     0.49049,     0.49149,     0.49249,     0.49349,     0.49449,      0.4955,      0.4965,      0.4975,      0.4985,      0.4995,      0.5005,      0.5015,      0.5025,      0.5035,\n",
       "            0.5045,     0.50551,     0.50651,     0.50751,     0.50851,     0.50951,     0.51051,     0.51151,     0.51251,     0.51351,     0.51451,     0.51552,     0.51652,     0.51752,     0.51852,     0.51952,     0.52052,     0.52152,     0.52252,     0.52352,     0.52452,     0.52553,     0.52653,     0.52753,\n",
       "           0.52853,     0.52953,     0.53053,     0.53153,     0.53253,     0.53353,     0.53453,     0.53554,     0.53654,     0.53754,     0.53854,     0.53954,     0.54054,     0.54154,     0.54254,     0.54354,     0.54454,     0.54555,     0.54655,     0.54755,     0.54855,     0.54955,     0.55055,     0.55155,\n",
       "           0.55255,     0.55355,     0.55455,     0.55556,     0.55656,     0.55756,     0.55856,     0.55956,     0.56056,     0.56156,     0.56256,     0.56356,     0.56456,     0.56557,     0.56657,     0.56757,     0.56857,     0.56957,     0.57057,     0.57157,     0.57257,     0.57357,     0.57457,     0.57558,\n",
       "           0.57658,     0.57758,     0.57858,     0.57958,     0.58058,     0.58158,     0.58258,     0.58358,     0.58458,     0.58559,     0.58659,     0.58759,     0.58859,     0.58959,     0.59059,     0.59159,     0.59259,     0.59359,     0.59459,      0.5956,      0.5966,      0.5976,      0.5986,      0.5996,\n",
       "            0.6006,      0.6016,      0.6026,      0.6036,      0.6046,     0.60561,     0.60661,     0.60761,     0.60861,     0.60961,     0.61061,     0.61161,     0.61261,     0.61361,     0.61461,     0.61562,     0.61662,     0.61762,     0.61862,     0.61962,     0.62062,     0.62162,     0.62262,     0.62362,\n",
       "           0.62462,     0.62563,     0.62663,     0.62763,     0.62863,     0.62963,     0.63063,     0.63163,     0.63263,     0.63363,     0.63463,     0.63564,     0.63664,     0.63764,     0.63864,     0.63964,     0.64064,     0.64164,     0.64264,     0.64364,     0.64464,     0.64565,     0.64665,     0.64765,\n",
       "           0.64865,     0.64965,     0.65065,     0.65165,     0.65265,     0.65365,     0.65465,     0.65566,     0.65666,     0.65766,     0.65866,     0.65966,     0.66066,     0.66166,     0.66266,     0.66366,     0.66466,     0.66567,     0.66667,     0.66767,     0.66867,     0.66967,     0.67067,     0.67167,\n",
       "           0.67267,     0.67367,     0.67467,     0.67568,     0.67668,     0.67768,     0.67868,     0.67968,     0.68068,     0.68168,     0.68268,     0.68368,     0.68468,     0.68569,     0.68669,     0.68769,     0.68869,     0.68969,     0.69069,     0.69169,     0.69269,     0.69369,     0.69469,      0.6957,\n",
       "            0.6967,      0.6977,      0.6987,      0.6997,      0.7007,      0.7017,      0.7027,      0.7037,      0.7047,     0.70571,     0.70671,     0.70771,     0.70871,     0.70971,     0.71071,     0.71171,     0.71271,     0.71371,     0.71471,     0.71572,     0.71672,     0.71772,     0.71872,     0.71972,\n",
       "           0.72072,     0.72172,     0.72272,     0.72372,     0.72472,     0.72573,     0.72673,     0.72773,     0.72873,     0.72973,     0.73073,     0.73173,     0.73273,     0.73373,     0.73473,     0.73574,     0.73674,     0.73774,     0.73874,     0.73974,     0.74074,     0.74174,     0.74274,     0.74374,\n",
       "           0.74474,     0.74575,     0.74675,     0.74775,     0.74875,     0.74975,     0.75075,     0.75175,     0.75275,     0.75375,     0.75475,     0.75576,     0.75676,     0.75776,     0.75876,     0.75976,     0.76076,     0.76176,     0.76276,     0.76376,     0.76476,     0.76577,     0.76677,     0.76777,\n",
       "           0.76877,     0.76977,     0.77077,     0.77177,     0.77277,     0.77377,     0.77477,     0.77578,     0.77678,     0.77778,     0.77878,     0.77978,     0.78078,     0.78178,     0.78278,     0.78378,     0.78478,     0.78579,     0.78679,     0.78779,     0.78879,     0.78979,     0.79079,     0.79179,\n",
       "           0.79279,     0.79379,     0.79479,      0.7958,      0.7968,      0.7978,      0.7988,      0.7998,      0.8008,      0.8018,      0.8028,      0.8038,      0.8048,     0.80581,     0.80681,     0.80781,     0.80881,     0.80981,     0.81081,     0.81181,     0.81281,     0.81381,     0.81481,     0.81582,\n",
       "           0.81682,     0.81782,     0.81882,     0.81982,     0.82082,     0.82182,     0.82282,     0.82382,     0.82482,     0.82583,     0.82683,     0.82783,     0.82883,     0.82983,     0.83083,     0.83183,     0.83283,     0.83383,     0.83483,     0.83584,     0.83684,     0.83784,     0.83884,     0.83984,\n",
       "           0.84084,     0.84184,     0.84284,     0.84384,     0.84484,     0.84585,     0.84685,     0.84785,     0.84885,     0.84985,     0.85085,     0.85185,     0.85285,     0.85385,     0.85485,     0.85586,     0.85686,     0.85786,     0.85886,     0.85986,     0.86086,     0.86186,     0.86286,     0.86386,\n",
       "           0.86486,     0.86587,     0.86687,     0.86787,     0.86887,     0.86987,     0.87087,     0.87187,     0.87287,     0.87387,     0.87487,     0.87588,     0.87688,     0.87788,     0.87888,     0.87988,     0.88088,     0.88188,     0.88288,     0.88388,     0.88488,     0.88589,     0.88689,     0.88789,\n",
       "           0.88889,     0.88989,     0.89089,     0.89189,     0.89289,     0.89389,     0.89489,      0.8959,      0.8969,      0.8979,      0.8989,      0.8999,      0.9009,      0.9019,      0.9029,      0.9039,      0.9049,     0.90591,     0.90691,     0.90791,     0.90891,     0.90991,     0.91091,     0.91191,\n",
       "           0.91291,     0.91391,     0.91491,     0.91592,     0.91692,     0.91792,     0.91892,     0.91992,     0.92092,     0.92192,     0.92292,     0.92392,     0.92492,     0.92593,     0.92693,     0.92793,     0.92893,     0.92993,     0.93093,     0.93193,     0.93293,     0.93393,     0.93493,     0.93594,\n",
       "           0.93694,     0.93794,     0.93894,     0.93994,     0.94094,     0.94194,     0.94294,     0.94394,     0.94494,     0.94595,     0.94695,     0.94795,     0.94895,     0.94995,     0.95095,     0.95195,     0.95295,     0.95395,     0.95495,     0.95596,     0.95696,     0.95796,     0.95896,     0.95996,\n",
       "           0.96096,     0.96196,     0.96296,     0.96396,     0.96496,     0.96597,     0.96697,     0.96797,     0.96897,     0.96997,     0.97097,     0.97197,     0.97297,     0.97397,     0.97497,     0.97598,     0.97698,     0.97798,     0.97898,     0.97998,     0.98098,     0.98198,     0.98298,     0.98398,\n",
       "           0.98498,     0.98599,     0.98699,     0.98799,     0.98899,     0.98999,     0.99099,     0.99199,     0.99299,     0.99399,     0.99499,       0.996,       0.997,       0.998,       0.999,           1]), array([[          1,           1,           1, ...,     0.27795,     0.27795,           0],\n",
       "       [   0.010989,    0.010989,    0.010989, ...,    0.010989,    0.010989,           0],\n",
       "       [          1,           1,           1, ...,    0.064838,    0.064838,           0],\n",
       "       [          1,           1,           1, ...,   0.0050461,    0.002523,           0],\n",
       "       [       0.84,        0.84,        0.84, ...,   0.0021729,   0.0010865,           0],\n",
       "       [          1,           1,           1, ...,   0.0019232,  0.00096161,           0]]), 'Recall', 'Precision'], [array([          0,    0.001001,    0.002002,    0.003003,    0.004004,    0.005005,    0.006006,    0.007007,    0.008008,    0.009009,     0.01001,    0.011011,    0.012012,    0.013013,    0.014014,    0.015015,    0.016016,    0.017017,    0.018018,    0.019019,     0.02002,    0.021021,    0.022022,    0.023023,\n",
       "          0.024024,    0.025025,    0.026026,    0.027027,    0.028028,    0.029029,     0.03003,    0.031031,    0.032032,    0.033033,    0.034034,    0.035035,    0.036036,    0.037037,    0.038038,    0.039039,     0.04004,    0.041041,    0.042042,    0.043043,    0.044044,    0.045045,    0.046046,    0.047047,\n",
       "          0.048048,    0.049049,     0.05005,    0.051051,    0.052052,    0.053053,    0.054054,    0.055055,    0.056056,    0.057057,    0.058058,    0.059059,     0.06006,    0.061061,    0.062062,    0.063063,    0.064064,    0.065065,    0.066066,    0.067067,    0.068068,    0.069069,     0.07007,    0.071071,\n",
       "          0.072072,    0.073073,    0.074074,    0.075075,    0.076076,    0.077077,    0.078078,    0.079079,     0.08008,    0.081081,    0.082082,    0.083083,    0.084084,    0.085085,    0.086086,    0.087087,    0.088088,    0.089089,     0.09009,    0.091091,    0.092092,    0.093093,    0.094094,    0.095095,\n",
       "          0.096096,    0.097097,    0.098098,    0.099099,      0.1001,      0.1011,      0.1021,      0.1031,      0.1041,     0.10511,     0.10611,     0.10711,     0.10811,     0.10911,     0.11011,     0.11111,     0.11211,     0.11311,     0.11411,     0.11512,     0.11612,     0.11712,     0.11812,     0.11912,\n",
       "           0.12012,     0.12112,     0.12212,     0.12312,     0.12412,     0.12513,     0.12613,     0.12713,     0.12813,     0.12913,     0.13013,     0.13113,     0.13213,     0.13313,     0.13413,     0.13514,     0.13614,     0.13714,     0.13814,     0.13914,     0.14014,     0.14114,     0.14214,     0.14314,\n",
       "           0.14414,     0.14515,     0.14615,     0.14715,     0.14815,     0.14915,     0.15015,     0.15115,     0.15215,     0.15315,     0.15415,     0.15516,     0.15616,     0.15716,     0.15816,     0.15916,     0.16016,     0.16116,     0.16216,     0.16316,     0.16416,     0.16517,     0.16617,     0.16717,\n",
       "           0.16817,     0.16917,     0.17017,     0.17117,     0.17217,     0.17317,     0.17417,     0.17518,     0.17618,     0.17718,     0.17818,     0.17918,     0.18018,     0.18118,     0.18218,     0.18318,     0.18418,     0.18519,     0.18619,     0.18719,     0.18819,     0.18919,     0.19019,     0.19119,\n",
       "           0.19219,     0.19319,     0.19419,      0.1952,      0.1962,      0.1972,      0.1982,      0.1992,      0.2002,      0.2012,      0.2022,      0.2032,      0.2042,     0.20521,     0.20621,     0.20721,     0.20821,     0.20921,     0.21021,     0.21121,     0.21221,     0.21321,     0.21421,     0.21522,\n",
       "           0.21622,     0.21722,     0.21822,     0.21922,     0.22022,     0.22122,     0.22222,     0.22322,     0.22422,     0.22523,     0.22623,     0.22723,     0.22823,     0.22923,     0.23023,     0.23123,     0.23223,     0.23323,     0.23423,     0.23524,     0.23624,     0.23724,     0.23824,     0.23924,\n",
       "           0.24024,     0.24124,     0.24224,     0.24324,     0.24424,     0.24525,     0.24625,     0.24725,     0.24825,     0.24925,     0.25025,     0.25125,     0.25225,     0.25325,     0.25425,     0.25526,     0.25626,     0.25726,     0.25826,     0.25926,     0.26026,     0.26126,     0.26226,     0.26326,\n",
       "           0.26426,     0.26527,     0.26627,     0.26727,     0.26827,     0.26927,     0.27027,     0.27127,     0.27227,     0.27327,     0.27427,     0.27528,     0.27628,     0.27728,     0.27828,     0.27928,     0.28028,     0.28128,     0.28228,     0.28328,     0.28428,     0.28529,     0.28629,     0.28729,\n",
       "           0.28829,     0.28929,     0.29029,     0.29129,     0.29229,     0.29329,     0.29429,      0.2953,      0.2963,      0.2973,      0.2983,      0.2993,      0.3003,      0.3013,      0.3023,      0.3033,      0.3043,     0.30531,     0.30631,     0.30731,     0.30831,     0.30931,     0.31031,     0.31131,\n",
       "           0.31231,     0.31331,     0.31431,     0.31532,     0.31632,     0.31732,     0.31832,     0.31932,     0.32032,     0.32132,     0.32232,     0.32332,     0.32432,     0.32533,     0.32633,     0.32733,     0.32833,     0.32933,     0.33033,     0.33133,     0.33233,     0.33333,     0.33433,     0.33534,\n",
       "           0.33634,     0.33734,     0.33834,     0.33934,     0.34034,     0.34134,     0.34234,     0.34334,     0.34434,     0.34535,     0.34635,     0.34735,     0.34835,     0.34935,     0.35035,     0.35135,     0.35235,     0.35335,     0.35435,     0.35536,     0.35636,     0.35736,     0.35836,     0.35936,\n",
       "           0.36036,     0.36136,     0.36236,     0.36336,     0.36436,     0.36537,     0.36637,     0.36737,     0.36837,     0.36937,     0.37037,     0.37137,     0.37237,     0.37337,     0.37437,     0.37538,     0.37638,     0.37738,     0.37838,     0.37938,     0.38038,     0.38138,     0.38238,     0.38338,\n",
       "           0.38438,     0.38539,     0.38639,     0.38739,     0.38839,     0.38939,     0.39039,     0.39139,     0.39239,     0.39339,     0.39439,      0.3954,      0.3964,      0.3974,      0.3984,      0.3994,      0.4004,      0.4014,      0.4024,      0.4034,      0.4044,     0.40541,     0.40641,     0.40741,\n",
       "           0.40841,     0.40941,     0.41041,     0.41141,     0.41241,     0.41341,     0.41441,     0.41542,     0.41642,     0.41742,     0.41842,     0.41942,     0.42042,     0.42142,     0.42242,     0.42342,     0.42442,     0.42543,     0.42643,     0.42743,     0.42843,     0.42943,     0.43043,     0.43143,\n",
       "           0.43243,     0.43343,     0.43443,     0.43544,     0.43644,     0.43744,     0.43844,     0.43944,     0.44044,     0.44144,     0.44244,     0.44344,     0.44444,     0.44545,     0.44645,     0.44745,     0.44845,     0.44945,     0.45045,     0.45145,     0.45245,     0.45345,     0.45445,     0.45546,\n",
       "           0.45646,     0.45746,     0.45846,     0.45946,     0.46046,     0.46146,     0.46246,     0.46346,     0.46446,     0.46547,     0.46647,     0.46747,     0.46847,     0.46947,     0.47047,     0.47147,     0.47247,     0.47347,     0.47447,     0.47548,     0.47648,     0.47748,     0.47848,     0.47948,\n",
       "           0.48048,     0.48148,     0.48248,     0.48348,     0.48448,     0.48549,     0.48649,     0.48749,     0.48849,     0.48949,     0.49049,     0.49149,     0.49249,     0.49349,     0.49449,      0.4955,      0.4965,      0.4975,      0.4985,      0.4995,      0.5005,      0.5015,      0.5025,      0.5035,\n",
       "            0.5045,     0.50551,     0.50651,     0.50751,     0.50851,     0.50951,     0.51051,     0.51151,     0.51251,     0.51351,     0.51451,     0.51552,     0.51652,     0.51752,     0.51852,     0.51952,     0.52052,     0.52152,     0.52252,     0.52352,     0.52452,     0.52553,     0.52653,     0.52753,\n",
       "           0.52853,     0.52953,     0.53053,     0.53153,     0.53253,     0.53353,     0.53453,     0.53554,     0.53654,     0.53754,     0.53854,     0.53954,     0.54054,     0.54154,     0.54254,     0.54354,     0.54454,     0.54555,     0.54655,     0.54755,     0.54855,     0.54955,     0.55055,     0.55155,\n",
       "           0.55255,     0.55355,     0.55455,     0.55556,     0.55656,     0.55756,     0.55856,     0.55956,     0.56056,     0.56156,     0.56256,     0.56356,     0.56456,     0.56557,     0.56657,     0.56757,     0.56857,     0.56957,     0.57057,     0.57157,     0.57257,     0.57357,     0.57457,     0.57558,\n",
       "           0.57658,     0.57758,     0.57858,     0.57958,     0.58058,     0.58158,     0.58258,     0.58358,     0.58458,     0.58559,     0.58659,     0.58759,     0.58859,     0.58959,     0.59059,     0.59159,     0.59259,     0.59359,     0.59459,      0.5956,      0.5966,      0.5976,      0.5986,      0.5996,\n",
       "            0.6006,      0.6016,      0.6026,      0.6036,      0.6046,     0.60561,     0.60661,     0.60761,     0.60861,     0.60961,     0.61061,     0.61161,     0.61261,     0.61361,     0.61461,     0.61562,     0.61662,     0.61762,     0.61862,     0.61962,     0.62062,     0.62162,     0.62262,     0.62362,\n",
       "           0.62462,     0.62563,     0.62663,     0.62763,     0.62863,     0.62963,     0.63063,     0.63163,     0.63263,     0.63363,     0.63463,     0.63564,     0.63664,     0.63764,     0.63864,     0.63964,     0.64064,     0.64164,     0.64264,     0.64364,     0.64464,     0.64565,     0.64665,     0.64765,\n",
       "           0.64865,     0.64965,     0.65065,     0.65165,     0.65265,     0.65365,     0.65465,     0.65566,     0.65666,     0.65766,     0.65866,     0.65966,     0.66066,     0.66166,     0.66266,     0.66366,     0.66466,     0.66567,     0.66667,     0.66767,     0.66867,     0.66967,     0.67067,     0.67167,\n",
       "           0.67267,     0.67367,     0.67467,     0.67568,     0.67668,     0.67768,     0.67868,     0.67968,     0.68068,     0.68168,     0.68268,     0.68368,     0.68468,     0.68569,     0.68669,     0.68769,     0.68869,     0.68969,     0.69069,     0.69169,     0.69269,     0.69369,     0.69469,      0.6957,\n",
       "            0.6967,      0.6977,      0.6987,      0.6997,      0.7007,      0.7017,      0.7027,      0.7037,      0.7047,     0.70571,     0.70671,     0.70771,     0.70871,     0.70971,     0.71071,     0.71171,     0.71271,     0.71371,     0.71471,     0.71572,     0.71672,     0.71772,     0.71872,     0.71972,\n",
       "           0.72072,     0.72172,     0.72272,     0.72372,     0.72472,     0.72573,     0.72673,     0.72773,     0.72873,     0.72973,     0.73073,     0.73173,     0.73273,     0.73373,     0.73473,     0.73574,     0.73674,     0.73774,     0.73874,     0.73974,     0.74074,     0.74174,     0.74274,     0.74374,\n",
       "           0.74474,     0.74575,     0.74675,     0.74775,     0.74875,     0.74975,     0.75075,     0.75175,     0.75275,     0.75375,     0.75475,     0.75576,     0.75676,     0.75776,     0.75876,     0.75976,     0.76076,     0.76176,     0.76276,     0.76376,     0.76476,     0.76577,     0.76677,     0.76777,\n",
       "           0.76877,     0.76977,     0.77077,     0.77177,     0.77277,     0.77377,     0.77477,     0.77578,     0.77678,     0.77778,     0.77878,     0.77978,     0.78078,     0.78178,     0.78278,     0.78378,     0.78478,     0.78579,     0.78679,     0.78779,     0.78879,     0.78979,     0.79079,     0.79179,\n",
       "           0.79279,     0.79379,     0.79479,      0.7958,      0.7968,      0.7978,      0.7988,      0.7998,      0.8008,      0.8018,      0.8028,      0.8038,      0.8048,     0.80581,     0.80681,     0.80781,     0.80881,     0.80981,     0.81081,     0.81181,     0.81281,     0.81381,     0.81481,     0.81582,\n",
       "           0.81682,     0.81782,     0.81882,     0.81982,     0.82082,     0.82182,     0.82282,     0.82382,     0.82482,     0.82583,     0.82683,     0.82783,     0.82883,     0.82983,     0.83083,     0.83183,     0.83283,     0.83383,     0.83483,     0.83584,     0.83684,     0.83784,     0.83884,     0.83984,\n",
       "           0.84084,     0.84184,     0.84284,     0.84384,     0.84484,     0.84585,     0.84685,     0.84785,     0.84885,     0.84985,     0.85085,     0.85185,     0.85285,     0.85385,     0.85485,     0.85586,     0.85686,     0.85786,     0.85886,     0.85986,     0.86086,     0.86186,     0.86286,     0.86386,\n",
       "           0.86486,     0.86587,     0.86687,     0.86787,     0.86887,     0.86987,     0.87087,     0.87187,     0.87287,     0.87387,     0.87487,     0.87588,     0.87688,     0.87788,     0.87888,     0.87988,     0.88088,     0.88188,     0.88288,     0.88388,     0.88488,     0.88589,     0.88689,     0.88789,\n",
       "           0.88889,     0.88989,     0.89089,     0.89189,     0.89289,     0.89389,     0.89489,      0.8959,      0.8969,      0.8979,      0.8989,      0.8999,      0.9009,      0.9019,      0.9029,      0.9039,      0.9049,     0.90591,     0.90691,     0.90791,     0.90891,     0.90991,     0.91091,     0.91191,\n",
       "           0.91291,     0.91391,     0.91491,     0.91592,     0.91692,     0.91792,     0.91892,     0.91992,     0.92092,     0.92192,     0.92292,     0.92392,     0.92492,     0.92593,     0.92693,     0.92793,     0.92893,     0.92993,     0.93093,     0.93193,     0.93293,     0.93393,     0.93493,     0.93594,\n",
       "           0.93694,     0.93794,     0.93894,     0.93994,     0.94094,     0.94194,     0.94294,     0.94394,     0.94494,     0.94595,     0.94695,     0.94795,     0.94895,     0.94995,     0.95095,     0.95195,     0.95295,     0.95395,     0.95495,     0.95596,     0.95696,     0.95796,     0.95896,     0.95996,\n",
       "           0.96096,     0.96196,     0.96296,     0.96396,     0.96496,     0.96597,     0.96697,     0.96797,     0.96897,     0.96997,     0.97097,     0.97197,     0.97297,     0.97397,     0.97497,     0.97598,     0.97698,     0.97798,     0.97898,     0.97998,     0.98098,     0.98198,     0.98298,     0.98398,\n",
       "           0.98498,     0.98599,     0.98699,     0.98799,     0.98899,     0.98999,     0.99099,     0.99199,     0.99299,     0.99399,     0.99499,       0.996,       0.997,       0.998,       0.999,           1]), array([[   0.055472,    0.055472,    0.096229, ...,           0,           0,           0],\n",
       "       [  0.0013587,   0.0013587,   0.0024231, ...,           0,           0,           0],\n",
       "       [   0.040404,    0.040404,     0.04821, ...,           0,           0,           0],\n",
       "       [    0.18325,     0.18325,     0.19397, ...,           0,           0,           0],\n",
       "       [   0.063007,    0.063007,    0.072282, ...,           0,           0,           0],\n",
       "       [    0.12856,     0.12856,     0.14463, ...,           0,           0,           0]]), 'Confidence', 'F1'], [array([          0,    0.001001,    0.002002,    0.003003,    0.004004,    0.005005,    0.006006,    0.007007,    0.008008,    0.009009,     0.01001,    0.011011,    0.012012,    0.013013,    0.014014,    0.015015,    0.016016,    0.017017,    0.018018,    0.019019,     0.02002,    0.021021,    0.022022,    0.023023,\n",
       "          0.024024,    0.025025,    0.026026,    0.027027,    0.028028,    0.029029,     0.03003,    0.031031,    0.032032,    0.033033,    0.034034,    0.035035,    0.036036,    0.037037,    0.038038,    0.039039,     0.04004,    0.041041,    0.042042,    0.043043,    0.044044,    0.045045,    0.046046,    0.047047,\n",
       "          0.048048,    0.049049,     0.05005,    0.051051,    0.052052,    0.053053,    0.054054,    0.055055,    0.056056,    0.057057,    0.058058,    0.059059,     0.06006,    0.061061,    0.062062,    0.063063,    0.064064,    0.065065,    0.066066,    0.067067,    0.068068,    0.069069,     0.07007,    0.071071,\n",
       "          0.072072,    0.073073,    0.074074,    0.075075,    0.076076,    0.077077,    0.078078,    0.079079,     0.08008,    0.081081,    0.082082,    0.083083,    0.084084,    0.085085,    0.086086,    0.087087,    0.088088,    0.089089,     0.09009,    0.091091,    0.092092,    0.093093,    0.094094,    0.095095,\n",
       "          0.096096,    0.097097,    0.098098,    0.099099,      0.1001,      0.1011,      0.1021,      0.1031,      0.1041,     0.10511,     0.10611,     0.10711,     0.10811,     0.10911,     0.11011,     0.11111,     0.11211,     0.11311,     0.11411,     0.11512,     0.11612,     0.11712,     0.11812,     0.11912,\n",
       "           0.12012,     0.12112,     0.12212,     0.12312,     0.12412,     0.12513,     0.12613,     0.12713,     0.12813,     0.12913,     0.13013,     0.13113,     0.13213,     0.13313,     0.13413,     0.13514,     0.13614,     0.13714,     0.13814,     0.13914,     0.14014,     0.14114,     0.14214,     0.14314,\n",
       "           0.14414,     0.14515,     0.14615,     0.14715,     0.14815,     0.14915,     0.15015,     0.15115,     0.15215,     0.15315,     0.15415,     0.15516,     0.15616,     0.15716,     0.15816,     0.15916,     0.16016,     0.16116,     0.16216,     0.16316,     0.16416,     0.16517,     0.16617,     0.16717,\n",
       "           0.16817,     0.16917,     0.17017,     0.17117,     0.17217,     0.17317,     0.17417,     0.17518,     0.17618,     0.17718,     0.17818,     0.17918,     0.18018,     0.18118,     0.18218,     0.18318,     0.18418,     0.18519,     0.18619,     0.18719,     0.18819,     0.18919,     0.19019,     0.19119,\n",
       "           0.19219,     0.19319,     0.19419,      0.1952,      0.1962,      0.1972,      0.1982,      0.1992,      0.2002,      0.2012,      0.2022,      0.2032,      0.2042,     0.20521,     0.20621,     0.20721,     0.20821,     0.20921,     0.21021,     0.21121,     0.21221,     0.21321,     0.21421,     0.21522,\n",
       "           0.21622,     0.21722,     0.21822,     0.21922,     0.22022,     0.22122,     0.22222,     0.22322,     0.22422,     0.22523,     0.22623,     0.22723,     0.22823,     0.22923,     0.23023,     0.23123,     0.23223,     0.23323,     0.23423,     0.23524,     0.23624,     0.23724,     0.23824,     0.23924,\n",
       "           0.24024,     0.24124,     0.24224,     0.24324,     0.24424,     0.24525,     0.24625,     0.24725,     0.24825,     0.24925,     0.25025,     0.25125,     0.25225,     0.25325,     0.25425,     0.25526,     0.25626,     0.25726,     0.25826,     0.25926,     0.26026,     0.26126,     0.26226,     0.26326,\n",
       "           0.26426,     0.26527,     0.26627,     0.26727,     0.26827,     0.26927,     0.27027,     0.27127,     0.27227,     0.27327,     0.27427,     0.27528,     0.27628,     0.27728,     0.27828,     0.27928,     0.28028,     0.28128,     0.28228,     0.28328,     0.28428,     0.28529,     0.28629,     0.28729,\n",
       "           0.28829,     0.28929,     0.29029,     0.29129,     0.29229,     0.29329,     0.29429,      0.2953,      0.2963,      0.2973,      0.2983,      0.2993,      0.3003,      0.3013,      0.3023,      0.3033,      0.3043,     0.30531,     0.30631,     0.30731,     0.30831,     0.30931,     0.31031,     0.31131,\n",
       "           0.31231,     0.31331,     0.31431,     0.31532,     0.31632,     0.31732,     0.31832,     0.31932,     0.32032,     0.32132,     0.32232,     0.32332,     0.32432,     0.32533,     0.32633,     0.32733,     0.32833,     0.32933,     0.33033,     0.33133,     0.33233,     0.33333,     0.33433,     0.33534,\n",
       "           0.33634,     0.33734,     0.33834,     0.33934,     0.34034,     0.34134,     0.34234,     0.34334,     0.34434,     0.34535,     0.34635,     0.34735,     0.34835,     0.34935,     0.35035,     0.35135,     0.35235,     0.35335,     0.35435,     0.35536,     0.35636,     0.35736,     0.35836,     0.35936,\n",
       "           0.36036,     0.36136,     0.36236,     0.36336,     0.36436,     0.36537,     0.36637,     0.36737,     0.36837,     0.36937,     0.37037,     0.37137,     0.37237,     0.37337,     0.37437,     0.37538,     0.37638,     0.37738,     0.37838,     0.37938,     0.38038,     0.38138,     0.38238,     0.38338,\n",
       "           0.38438,     0.38539,     0.38639,     0.38739,     0.38839,     0.38939,     0.39039,     0.39139,     0.39239,     0.39339,     0.39439,      0.3954,      0.3964,      0.3974,      0.3984,      0.3994,      0.4004,      0.4014,      0.4024,      0.4034,      0.4044,     0.40541,     0.40641,     0.40741,\n",
       "           0.40841,     0.40941,     0.41041,     0.41141,     0.41241,     0.41341,     0.41441,     0.41542,     0.41642,     0.41742,     0.41842,     0.41942,     0.42042,     0.42142,     0.42242,     0.42342,     0.42442,     0.42543,     0.42643,     0.42743,     0.42843,     0.42943,     0.43043,     0.43143,\n",
       "           0.43243,     0.43343,     0.43443,     0.43544,     0.43644,     0.43744,     0.43844,     0.43944,     0.44044,     0.44144,     0.44244,     0.44344,     0.44444,     0.44545,     0.44645,     0.44745,     0.44845,     0.44945,     0.45045,     0.45145,     0.45245,     0.45345,     0.45445,     0.45546,\n",
       "           0.45646,     0.45746,     0.45846,     0.45946,     0.46046,     0.46146,     0.46246,     0.46346,     0.46446,     0.46547,     0.46647,     0.46747,     0.46847,     0.46947,     0.47047,     0.47147,     0.47247,     0.47347,     0.47447,     0.47548,     0.47648,     0.47748,     0.47848,     0.47948,\n",
       "           0.48048,     0.48148,     0.48248,     0.48348,     0.48448,     0.48549,     0.48649,     0.48749,     0.48849,     0.48949,     0.49049,     0.49149,     0.49249,     0.49349,     0.49449,      0.4955,      0.4965,      0.4975,      0.4985,      0.4995,      0.5005,      0.5015,      0.5025,      0.5035,\n",
       "            0.5045,     0.50551,     0.50651,     0.50751,     0.50851,     0.50951,     0.51051,     0.51151,     0.51251,     0.51351,     0.51451,     0.51552,     0.51652,     0.51752,     0.51852,     0.51952,     0.52052,     0.52152,     0.52252,     0.52352,     0.52452,     0.52553,     0.52653,     0.52753,\n",
       "           0.52853,     0.52953,     0.53053,     0.53153,     0.53253,     0.53353,     0.53453,     0.53554,     0.53654,     0.53754,     0.53854,     0.53954,     0.54054,     0.54154,     0.54254,     0.54354,     0.54454,     0.54555,     0.54655,     0.54755,     0.54855,     0.54955,     0.55055,     0.55155,\n",
       "           0.55255,     0.55355,     0.55455,     0.55556,     0.55656,     0.55756,     0.55856,     0.55956,     0.56056,     0.56156,     0.56256,     0.56356,     0.56456,     0.56557,     0.56657,     0.56757,     0.56857,     0.56957,     0.57057,     0.57157,     0.57257,     0.57357,     0.57457,     0.57558,\n",
       "           0.57658,     0.57758,     0.57858,     0.57958,     0.58058,     0.58158,     0.58258,     0.58358,     0.58458,     0.58559,     0.58659,     0.58759,     0.58859,     0.58959,     0.59059,     0.59159,     0.59259,     0.59359,     0.59459,      0.5956,      0.5966,      0.5976,      0.5986,      0.5996,\n",
       "            0.6006,      0.6016,      0.6026,      0.6036,      0.6046,     0.60561,     0.60661,     0.60761,     0.60861,     0.60961,     0.61061,     0.61161,     0.61261,     0.61361,     0.61461,     0.61562,     0.61662,     0.61762,     0.61862,     0.61962,     0.62062,     0.62162,     0.62262,     0.62362,\n",
       "           0.62462,     0.62563,     0.62663,     0.62763,     0.62863,     0.62963,     0.63063,     0.63163,     0.63263,     0.63363,     0.63463,     0.63564,     0.63664,     0.63764,     0.63864,     0.63964,     0.64064,     0.64164,     0.64264,     0.64364,     0.64464,     0.64565,     0.64665,     0.64765,\n",
       "           0.64865,     0.64965,     0.65065,     0.65165,     0.65265,     0.65365,     0.65465,     0.65566,     0.65666,     0.65766,     0.65866,     0.65966,     0.66066,     0.66166,     0.66266,     0.66366,     0.66466,     0.66567,     0.66667,     0.66767,     0.66867,     0.66967,     0.67067,     0.67167,\n",
       "           0.67267,     0.67367,     0.67467,     0.67568,     0.67668,     0.67768,     0.67868,     0.67968,     0.68068,     0.68168,     0.68268,     0.68368,     0.68468,     0.68569,     0.68669,     0.68769,     0.68869,     0.68969,     0.69069,     0.69169,     0.69269,     0.69369,     0.69469,      0.6957,\n",
       "            0.6967,      0.6977,      0.6987,      0.6997,      0.7007,      0.7017,      0.7027,      0.7037,      0.7047,     0.70571,     0.70671,     0.70771,     0.70871,     0.70971,     0.71071,     0.71171,     0.71271,     0.71371,     0.71471,     0.71572,     0.71672,     0.71772,     0.71872,     0.71972,\n",
       "           0.72072,     0.72172,     0.72272,     0.72372,     0.72472,     0.72573,     0.72673,     0.72773,     0.72873,     0.72973,     0.73073,     0.73173,     0.73273,     0.73373,     0.73473,     0.73574,     0.73674,     0.73774,     0.73874,     0.73974,     0.74074,     0.74174,     0.74274,     0.74374,\n",
       "           0.74474,     0.74575,     0.74675,     0.74775,     0.74875,     0.74975,     0.75075,     0.75175,     0.75275,     0.75375,     0.75475,     0.75576,     0.75676,     0.75776,     0.75876,     0.75976,     0.76076,     0.76176,     0.76276,     0.76376,     0.76476,     0.76577,     0.76677,     0.76777,\n",
       "           0.76877,     0.76977,     0.77077,     0.77177,     0.77277,     0.77377,     0.77477,     0.77578,     0.77678,     0.77778,     0.77878,     0.77978,     0.78078,     0.78178,     0.78278,     0.78378,     0.78478,     0.78579,     0.78679,     0.78779,     0.78879,     0.78979,     0.79079,     0.79179,\n",
       "           0.79279,     0.79379,     0.79479,      0.7958,      0.7968,      0.7978,      0.7988,      0.7998,      0.8008,      0.8018,      0.8028,      0.8038,      0.8048,     0.80581,     0.80681,     0.80781,     0.80881,     0.80981,     0.81081,     0.81181,     0.81281,     0.81381,     0.81481,     0.81582,\n",
       "           0.81682,     0.81782,     0.81882,     0.81982,     0.82082,     0.82182,     0.82282,     0.82382,     0.82482,     0.82583,     0.82683,     0.82783,     0.82883,     0.82983,     0.83083,     0.83183,     0.83283,     0.83383,     0.83483,     0.83584,     0.83684,     0.83784,     0.83884,     0.83984,\n",
       "           0.84084,     0.84184,     0.84284,     0.84384,     0.84484,     0.84585,     0.84685,     0.84785,     0.84885,     0.84985,     0.85085,     0.85185,     0.85285,     0.85385,     0.85485,     0.85586,     0.85686,     0.85786,     0.85886,     0.85986,     0.86086,     0.86186,     0.86286,     0.86386,\n",
       "           0.86486,     0.86587,     0.86687,     0.86787,     0.86887,     0.86987,     0.87087,     0.87187,     0.87287,     0.87387,     0.87487,     0.87588,     0.87688,     0.87788,     0.87888,     0.87988,     0.88088,     0.88188,     0.88288,     0.88388,     0.88488,     0.88589,     0.88689,     0.88789,\n",
       "           0.88889,     0.88989,     0.89089,     0.89189,     0.89289,     0.89389,     0.89489,      0.8959,      0.8969,      0.8979,      0.8989,      0.8999,      0.9009,      0.9019,      0.9029,      0.9039,      0.9049,     0.90591,     0.90691,     0.90791,     0.90891,     0.90991,     0.91091,     0.91191,\n",
       "           0.91291,     0.91391,     0.91491,     0.91592,     0.91692,     0.91792,     0.91892,     0.91992,     0.92092,     0.92192,     0.92292,     0.92392,     0.92492,     0.92593,     0.92693,     0.92793,     0.92893,     0.92993,     0.93093,     0.93193,     0.93293,     0.93393,     0.93493,     0.93594,\n",
       "           0.93694,     0.93794,     0.93894,     0.93994,     0.94094,     0.94194,     0.94294,     0.94394,     0.94494,     0.94595,     0.94695,     0.94795,     0.94895,     0.94995,     0.95095,     0.95195,     0.95295,     0.95395,     0.95495,     0.95596,     0.95696,     0.95796,     0.95896,     0.95996,\n",
       "           0.96096,     0.96196,     0.96296,     0.96396,     0.96496,     0.96597,     0.96697,     0.96797,     0.96897,     0.96997,     0.97097,     0.97197,     0.97297,     0.97397,     0.97497,     0.97598,     0.97698,     0.97798,     0.97898,     0.97998,     0.98098,     0.98198,     0.98298,     0.98398,\n",
       "           0.98498,     0.98599,     0.98699,     0.98799,     0.98899,     0.98999,     0.99099,     0.99199,     0.99299,     0.99399,     0.99499,       0.996,       0.997,       0.998,       0.999,           1]), array([[   0.028527,    0.028527,    0.050547, ...,           1,           1,           1],\n",
       "       [ 0.00067981,  0.00067981,    0.001213, ...,           1,           1,           1],\n",
       "       [   0.020619,    0.020619,    0.024701, ...,           1,           1,           1],\n",
       "       [     0.1013,      0.1013,     0.10804, ...,           1,           1,           1],\n",
       "       [   0.032561,    0.032561,    0.037539, ...,           1,           1,           1],\n",
       "       [   0.069066,    0.069066,    0.078424, ...,           1,           1,           1]]), 'Confidence', 'Precision'], [array([          0,    0.001001,    0.002002,    0.003003,    0.004004,    0.005005,    0.006006,    0.007007,    0.008008,    0.009009,     0.01001,    0.011011,    0.012012,    0.013013,    0.014014,    0.015015,    0.016016,    0.017017,    0.018018,    0.019019,     0.02002,    0.021021,    0.022022,    0.023023,\n",
       "          0.024024,    0.025025,    0.026026,    0.027027,    0.028028,    0.029029,     0.03003,    0.031031,    0.032032,    0.033033,    0.034034,    0.035035,    0.036036,    0.037037,    0.038038,    0.039039,     0.04004,    0.041041,    0.042042,    0.043043,    0.044044,    0.045045,    0.046046,    0.047047,\n",
       "          0.048048,    0.049049,     0.05005,    0.051051,    0.052052,    0.053053,    0.054054,    0.055055,    0.056056,    0.057057,    0.058058,    0.059059,     0.06006,    0.061061,    0.062062,    0.063063,    0.064064,    0.065065,    0.066066,    0.067067,    0.068068,    0.069069,     0.07007,    0.071071,\n",
       "          0.072072,    0.073073,    0.074074,    0.075075,    0.076076,    0.077077,    0.078078,    0.079079,     0.08008,    0.081081,    0.082082,    0.083083,    0.084084,    0.085085,    0.086086,    0.087087,    0.088088,    0.089089,     0.09009,    0.091091,    0.092092,    0.093093,    0.094094,    0.095095,\n",
       "          0.096096,    0.097097,    0.098098,    0.099099,      0.1001,      0.1011,      0.1021,      0.1031,      0.1041,     0.10511,     0.10611,     0.10711,     0.10811,     0.10911,     0.11011,     0.11111,     0.11211,     0.11311,     0.11411,     0.11512,     0.11612,     0.11712,     0.11812,     0.11912,\n",
       "           0.12012,     0.12112,     0.12212,     0.12312,     0.12412,     0.12513,     0.12613,     0.12713,     0.12813,     0.12913,     0.13013,     0.13113,     0.13213,     0.13313,     0.13413,     0.13514,     0.13614,     0.13714,     0.13814,     0.13914,     0.14014,     0.14114,     0.14214,     0.14314,\n",
       "           0.14414,     0.14515,     0.14615,     0.14715,     0.14815,     0.14915,     0.15015,     0.15115,     0.15215,     0.15315,     0.15415,     0.15516,     0.15616,     0.15716,     0.15816,     0.15916,     0.16016,     0.16116,     0.16216,     0.16316,     0.16416,     0.16517,     0.16617,     0.16717,\n",
       "           0.16817,     0.16917,     0.17017,     0.17117,     0.17217,     0.17317,     0.17417,     0.17518,     0.17618,     0.17718,     0.17818,     0.17918,     0.18018,     0.18118,     0.18218,     0.18318,     0.18418,     0.18519,     0.18619,     0.18719,     0.18819,     0.18919,     0.19019,     0.19119,\n",
       "           0.19219,     0.19319,     0.19419,      0.1952,      0.1962,      0.1972,      0.1982,      0.1992,      0.2002,      0.2012,      0.2022,      0.2032,      0.2042,     0.20521,     0.20621,     0.20721,     0.20821,     0.20921,     0.21021,     0.21121,     0.21221,     0.21321,     0.21421,     0.21522,\n",
       "           0.21622,     0.21722,     0.21822,     0.21922,     0.22022,     0.22122,     0.22222,     0.22322,     0.22422,     0.22523,     0.22623,     0.22723,     0.22823,     0.22923,     0.23023,     0.23123,     0.23223,     0.23323,     0.23423,     0.23524,     0.23624,     0.23724,     0.23824,     0.23924,\n",
       "           0.24024,     0.24124,     0.24224,     0.24324,     0.24424,     0.24525,     0.24625,     0.24725,     0.24825,     0.24925,     0.25025,     0.25125,     0.25225,     0.25325,     0.25425,     0.25526,     0.25626,     0.25726,     0.25826,     0.25926,     0.26026,     0.26126,     0.26226,     0.26326,\n",
       "           0.26426,     0.26527,     0.26627,     0.26727,     0.26827,     0.26927,     0.27027,     0.27127,     0.27227,     0.27327,     0.27427,     0.27528,     0.27628,     0.27728,     0.27828,     0.27928,     0.28028,     0.28128,     0.28228,     0.28328,     0.28428,     0.28529,     0.28629,     0.28729,\n",
       "           0.28829,     0.28929,     0.29029,     0.29129,     0.29229,     0.29329,     0.29429,      0.2953,      0.2963,      0.2973,      0.2983,      0.2993,      0.3003,      0.3013,      0.3023,      0.3033,      0.3043,     0.30531,     0.30631,     0.30731,     0.30831,     0.30931,     0.31031,     0.31131,\n",
       "           0.31231,     0.31331,     0.31431,     0.31532,     0.31632,     0.31732,     0.31832,     0.31932,     0.32032,     0.32132,     0.32232,     0.32332,     0.32432,     0.32533,     0.32633,     0.32733,     0.32833,     0.32933,     0.33033,     0.33133,     0.33233,     0.33333,     0.33433,     0.33534,\n",
       "           0.33634,     0.33734,     0.33834,     0.33934,     0.34034,     0.34134,     0.34234,     0.34334,     0.34434,     0.34535,     0.34635,     0.34735,     0.34835,     0.34935,     0.35035,     0.35135,     0.35235,     0.35335,     0.35435,     0.35536,     0.35636,     0.35736,     0.35836,     0.35936,\n",
       "           0.36036,     0.36136,     0.36236,     0.36336,     0.36436,     0.36537,     0.36637,     0.36737,     0.36837,     0.36937,     0.37037,     0.37137,     0.37237,     0.37337,     0.37437,     0.37538,     0.37638,     0.37738,     0.37838,     0.37938,     0.38038,     0.38138,     0.38238,     0.38338,\n",
       "           0.38438,     0.38539,     0.38639,     0.38739,     0.38839,     0.38939,     0.39039,     0.39139,     0.39239,     0.39339,     0.39439,      0.3954,      0.3964,      0.3974,      0.3984,      0.3994,      0.4004,      0.4014,      0.4024,      0.4034,      0.4044,     0.40541,     0.40641,     0.40741,\n",
       "           0.40841,     0.40941,     0.41041,     0.41141,     0.41241,     0.41341,     0.41441,     0.41542,     0.41642,     0.41742,     0.41842,     0.41942,     0.42042,     0.42142,     0.42242,     0.42342,     0.42442,     0.42543,     0.42643,     0.42743,     0.42843,     0.42943,     0.43043,     0.43143,\n",
       "           0.43243,     0.43343,     0.43443,     0.43544,     0.43644,     0.43744,     0.43844,     0.43944,     0.44044,     0.44144,     0.44244,     0.44344,     0.44444,     0.44545,     0.44645,     0.44745,     0.44845,     0.44945,     0.45045,     0.45145,     0.45245,     0.45345,     0.45445,     0.45546,\n",
       "           0.45646,     0.45746,     0.45846,     0.45946,     0.46046,     0.46146,     0.46246,     0.46346,     0.46446,     0.46547,     0.46647,     0.46747,     0.46847,     0.46947,     0.47047,     0.47147,     0.47247,     0.47347,     0.47447,     0.47548,     0.47648,     0.47748,     0.47848,     0.47948,\n",
       "           0.48048,     0.48148,     0.48248,     0.48348,     0.48448,     0.48549,     0.48649,     0.48749,     0.48849,     0.48949,     0.49049,     0.49149,     0.49249,     0.49349,     0.49449,      0.4955,      0.4965,      0.4975,      0.4985,      0.4995,      0.5005,      0.5015,      0.5025,      0.5035,\n",
       "            0.5045,     0.50551,     0.50651,     0.50751,     0.50851,     0.50951,     0.51051,     0.51151,     0.51251,     0.51351,     0.51451,     0.51552,     0.51652,     0.51752,     0.51852,     0.51952,     0.52052,     0.52152,     0.52252,     0.52352,     0.52452,     0.52553,     0.52653,     0.52753,\n",
       "           0.52853,     0.52953,     0.53053,     0.53153,     0.53253,     0.53353,     0.53453,     0.53554,     0.53654,     0.53754,     0.53854,     0.53954,     0.54054,     0.54154,     0.54254,     0.54354,     0.54454,     0.54555,     0.54655,     0.54755,     0.54855,     0.54955,     0.55055,     0.55155,\n",
       "           0.55255,     0.55355,     0.55455,     0.55556,     0.55656,     0.55756,     0.55856,     0.55956,     0.56056,     0.56156,     0.56256,     0.56356,     0.56456,     0.56557,     0.56657,     0.56757,     0.56857,     0.56957,     0.57057,     0.57157,     0.57257,     0.57357,     0.57457,     0.57558,\n",
       "           0.57658,     0.57758,     0.57858,     0.57958,     0.58058,     0.58158,     0.58258,     0.58358,     0.58458,     0.58559,     0.58659,     0.58759,     0.58859,     0.58959,     0.59059,     0.59159,     0.59259,     0.59359,     0.59459,      0.5956,      0.5966,      0.5976,      0.5986,      0.5996,\n",
       "            0.6006,      0.6016,      0.6026,      0.6036,      0.6046,     0.60561,     0.60661,     0.60761,     0.60861,     0.60961,     0.61061,     0.61161,     0.61261,     0.61361,     0.61461,     0.61562,     0.61662,     0.61762,     0.61862,     0.61962,     0.62062,     0.62162,     0.62262,     0.62362,\n",
       "           0.62462,     0.62563,     0.62663,     0.62763,     0.62863,     0.62963,     0.63063,     0.63163,     0.63263,     0.63363,     0.63463,     0.63564,     0.63664,     0.63764,     0.63864,     0.63964,     0.64064,     0.64164,     0.64264,     0.64364,     0.64464,     0.64565,     0.64665,     0.64765,\n",
       "           0.64865,     0.64965,     0.65065,     0.65165,     0.65265,     0.65365,     0.65465,     0.65566,     0.65666,     0.65766,     0.65866,     0.65966,     0.66066,     0.66166,     0.66266,     0.66366,     0.66466,     0.66567,     0.66667,     0.66767,     0.66867,     0.66967,     0.67067,     0.67167,\n",
       "           0.67267,     0.67367,     0.67467,     0.67568,     0.67668,     0.67768,     0.67868,     0.67968,     0.68068,     0.68168,     0.68268,     0.68368,     0.68468,     0.68569,     0.68669,     0.68769,     0.68869,     0.68969,     0.69069,     0.69169,     0.69269,     0.69369,     0.69469,      0.6957,\n",
       "            0.6967,      0.6977,      0.6987,      0.6997,      0.7007,      0.7017,      0.7027,      0.7037,      0.7047,     0.70571,     0.70671,     0.70771,     0.70871,     0.70971,     0.71071,     0.71171,     0.71271,     0.71371,     0.71471,     0.71572,     0.71672,     0.71772,     0.71872,     0.71972,\n",
       "           0.72072,     0.72172,     0.72272,     0.72372,     0.72472,     0.72573,     0.72673,     0.72773,     0.72873,     0.72973,     0.73073,     0.73173,     0.73273,     0.73373,     0.73473,     0.73574,     0.73674,     0.73774,     0.73874,     0.73974,     0.74074,     0.74174,     0.74274,     0.74374,\n",
       "           0.74474,     0.74575,     0.74675,     0.74775,     0.74875,     0.74975,     0.75075,     0.75175,     0.75275,     0.75375,     0.75475,     0.75576,     0.75676,     0.75776,     0.75876,     0.75976,     0.76076,     0.76176,     0.76276,     0.76376,     0.76476,     0.76577,     0.76677,     0.76777,\n",
       "           0.76877,     0.76977,     0.77077,     0.77177,     0.77277,     0.77377,     0.77477,     0.77578,     0.77678,     0.77778,     0.77878,     0.77978,     0.78078,     0.78178,     0.78278,     0.78378,     0.78478,     0.78579,     0.78679,     0.78779,     0.78879,     0.78979,     0.79079,     0.79179,\n",
       "           0.79279,     0.79379,     0.79479,      0.7958,      0.7968,      0.7978,      0.7988,      0.7998,      0.8008,      0.8018,      0.8028,      0.8038,      0.8048,     0.80581,     0.80681,     0.80781,     0.80881,     0.80981,     0.81081,     0.81181,     0.81281,     0.81381,     0.81481,     0.81582,\n",
       "           0.81682,     0.81782,     0.81882,     0.81982,     0.82082,     0.82182,     0.82282,     0.82382,     0.82482,     0.82583,     0.82683,     0.82783,     0.82883,     0.82983,     0.83083,     0.83183,     0.83283,     0.83383,     0.83483,     0.83584,     0.83684,     0.83784,     0.83884,     0.83984,\n",
       "           0.84084,     0.84184,     0.84284,     0.84384,     0.84484,     0.84585,     0.84685,     0.84785,     0.84885,     0.84985,     0.85085,     0.85185,     0.85285,     0.85385,     0.85485,     0.85586,     0.85686,     0.85786,     0.85886,     0.85986,     0.86086,     0.86186,     0.86286,     0.86386,\n",
       "           0.86486,     0.86587,     0.86687,     0.86787,     0.86887,     0.86987,     0.87087,     0.87187,     0.87287,     0.87387,     0.87487,     0.87588,     0.87688,     0.87788,     0.87888,     0.87988,     0.88088,     0.88188,     0.88288,     0.88388,     0.88488,     0.88589,     0.88689,     0.88789,\n",
       "           0.88889,     0.88989,     0.89089,     0.89189,     0.89289,     0.89389,     0.89489,      0.8959,      0.8969,      0.8979,      0.8989,      0.8999,      0.9009,      0.9019,      0.9029,      0.9039,      0.9049,     0.90591,     0.90691,     0.90791,     0.90891,     0.90991,     0.91091,     0.91191,\n",
       "           0.91291,     0.91391,     0.91491,     0.91592,     0.91692,     0.91792,     0.91892,     0.91992,     0.92092,     0.92192,     0.92292,     0.92392,     0.92492,     0.92593,     0.92693,     0.92793,     0.92893,     0.92993,     0.93093,     0.93193,     0.93293,     0.93393,     0.93493,     0.93594,\n",
       "           0.93694,     0.93794,     0.93894,     0.93994,     0.94094,     0.94194,     0.94294,     0.94394,     0.94494,     0.94595,     0.94695,     0.94795,     0.94895,     0.94995,     0.95095,     0.95195,     0.95295,     0.95395,     0.95495,     0.95596,     0.95696,     0.95796,     0.95896,     0.95996,\n",
       "           0.96096,     0.96196,     0.96296,     0.96396,     0.96496,     0.96597,     0.96697,     0.96797,     0.96897,     0.96997,     0.97097,     0.97197,     0.97297,     0.97397,     0.97497,     0.97598,     0.97698,     0.97798,     0.97898,     0.97998,     0.98098,     0.98198,     0.98298,     0.98398,\n",
       "           0.98498,     0.98599,     0.98699,     0.98799,     0.98899,     0.98999,     0.99099,     0.99199,     0.99299,     0.99399,     0.99499,       0.996,       0.997,       0.998,       0.999,           1]), array([[          1,           1,           1, ...,           0,           0,           0],\n",
       "       [          1,           1,           1, ...,           0,           0,           0],\n",
       "       [          1,           1,           1, ...,           0,           0,           0],\n",
       "       [    0.95981,     0.95981,     0.94799, ...,           0,           0,           0],\n",
       "       [       0.97,        0.97,        0.97, ...,           0,           0,           0],\n",
       "       [     0.9281,      0.9281,      0.9281, ...,           0,           0,           0]]), 'Confidence', 'Recall']]\n",
       "fitness: 0.2769250683910786\n",
       "keys: ['metrics/precision(B)', 'metrics/recall(B)', 'metrics/mAP50(B)', 'metrics/mAP50-95(B)']\n",
       "maps: array([    0.61037,   0.0065604,     0.19386,     0.24379,     0.25101,     0.17758])\n",
       "names: {0: 'Perching', 1: 'WingFlapping', 2: 'Preening', 3: 'Feeding', 4: 'Walking', 5: 'Pecking'}\n",
       "plot: True\n",
       "results_dict: {'metrics/precision(B)': 0.6962622267787469, 'metrics/recall(B)': 0.5729521465008851, 'metrics/mAP50(B)': 0.5444844472789688, 'metrics/mAP50-95(B)': 0.24719624851464636, 'fitness': 0.2769250683910786}\n",
       "save_dir: PosixPath('runs/detect/train3')\n",
       "speed: {'preprocess': 0.6194782257080078, 'inference': 292.1087169647217, 'loss': 3.337860107421875e-05, 'postprocess': 6.307563781738281}\n",
       "task: 'detect'"
      ]
     },
     "execution_count": 1,
     "metadata": {},
     "output_type": "execute_result"
    }
   ],
   "source": [
    "# Load the model\n",
    "model = YOLO(\"yolov8n.pt\")\n",
    "\n",
    "# Train the model for 100 epochs\n",
    "# model.train(data=\"/Users/namrata/Downloads/hen.yaml\", epochs=100)\n",
    "\n",
    "\n",
    "#Train the model with hyperparameter tuning to prevent overfitting\n",
    "# model.train(data=\"/Users/namrata/Downloads/hen.yaml\", \n",
    "#             epochs=100, batch=16, \n",
    "#             imgsz=640, \n",
    "#             weight_decay=0.0005, \n",
    "#             dropout=0.5, lr0=0.01, \n",
    "#             lrf=0.01, \n",
    "#             warmup_epochs=3.0, \n",
    "#             warmup_momentum=0.8, \n",
    "#             warmup_bias_lr=0.1)\n",
    "\n",
    "\n",
    "#Training the original model for 20 epochs \n",
    "model.train(\n",
    "    data=\"/Users/namrata/Downloads/hen.yaml\", \n",
    "    epochs=20, \n",
    "    augment=True  # Enable augmentations\n",
    "    \n",
    ")\n"
   ]
  },
  {
   "cell_type": "code",
   "execution_count": 11,
   "id": "0ecb25d9",
   "metadata": {},
   "outputs": [
    {
     "name": "stdout",
     "output_type": "stream",
     "text": [
      "Ultralytics YOLOv8.1.45 🚀 Python-3.11.5 torch-2.1.1 CPU (Apple M2)\n",
      "/Users/namrata/anaconda3/lib/python3.11/site-packages/pandas/core/arrays/masked.py:60: UserWarning: Pandas requires version '1.3.6' or newer of 'bottleneck' (version '1.3.5' currently installed).\n",
      "  from pandas.core import (\n",
      "Model summary (fused): 168 layers, 3006818 parameters, 0 gradients, 8.1 GFLOPs\n",
      "\u001b[34m\u001b[1mval: \u001b[0mScanning /Users/namrata/Downloads/datasets/labels/val.cache... 50 images, 0\u001b[0m\n",
      "                 Class     Images  Instances      Box(P          R      mAP50  m\n",
      "                   all         50        795      0.607      0.571      0.536      0.251\n",
      "              Perching         50         92      0.882      0.893      0.937      0.626\n",
      "          WingFlapping         50          1          1          0    0.00476     0.0019\n",
      "              Preening         50         26      0.279      0.769      0.514      0.245\n",
      "               Feeding         50        423      0.723      0.783      0.773       0.25\n",
      "               Walking         50        100      0.457       0.89      0.673      0.273\n",
      "               Pecking         50        153      0.304     0.0915      0.313      0.108\n",
      "Speed: 0.8ms preprocess, 129.9ms inference, 0.0ms loss, 17.8ms postprocess per image\n",
      "Results saved to \u001b[1mruns/detect/val\u001b[0m\n",
      "💡 Learn more at https://docs.ultralytics.com/modes/val\n"
     ]
    }
   ],
   "source": [
    "#Validation\n",
    "!yolo val model=\"runs/detect/train2/weights/best.pt\" data=hen.yaml"
   ]
  },
  {
   "cell_type": "code",
   "execution_count": 2,
   "id": "7ad13319",
   "metadata": {},
   "outputs": [
    {
     "name": "stdout",
     "output_type": "stream",
     "text": [
      "Ultralytics YOLOv8.1.45 🚀 Python-3.11.5 torch-2.1.1 CPU (Apple M2)\n",
      "/Users/namrata/anaconda3/lib/python3.11/site-packages/pandas/core/arrays/masked.py:60: UserWarning: Pandas requires version '1.3.6' or newer of 'bottleneck' (version '1.3.5' currently installed).\n",
      "  from pandas.core import (\n",
      "Model summary (fused): 168 layers, 3006818 parameters, 0 gradients, 8.1 GFLOPs\n",
      "\n",
      "image 1/11 /Users/namrata/Downloads/datasets/images/test/input_0201.jpg: 384x640 1 Perching, 2 Preenings, 9 Feedings, 2 Walkings, 2 Peckings, 52.3ms\n",
      "image 2/11 /Users/namrata/Downloads/datasets/images/test/input_0202.jpg: 384x640 2 Perchings, 10 Feedings, 4 Walkings, 50.4ms\n",
      "image 3/11 /Users/namrata/Downloads/datasets/images/test/input_0203.jpg: 384x640 2 Perchings, 8 Feedings, 5 Walkings, 1 Pecking, 49.6ms\n",
      "image 4/11 /Users/namrata/Downloads/datasets/images/test/input_0204.jpg: 384x640 2 Perchings, 7 Feedings, 2 Walkings, 2 Peckings, 47.3ms\n",
      "image 5/11 /Users/namrata/Downloads/datasets/images/test/input_0205.jpg: 384x640 2 Perchings, 1 Preening, 6 Feedings, 2 Walkings, 1 Pecking, 47.1ms\n",
      "image 6/11 /Users/namrata/Downloads/datasets/images/test/input_0206.jpg: 384x640 2 Perchings, 6 Feedings, 3 Walkings, 48.1ms\n",
      "image 7/11 /Users/namrata/Downloads/datasets/images/test/input_0207.jpg: 384x640 2 Perchings, 1 Preening, 7 Feedings, 2 Walkings, 50.8ms\n",
      "image 8/11 /Users/namrata/Downloads/datasets/images/test/input_0208.jpg: 384x640 2 Perchings, 5 Feedings, 3 Walkings, 1 Pecking, 50.2ms\n",
      "image 9/11 /Users/namrata/Downloads/datasets/images/test/input_0209.jpg: 384x640 2 Perchings, 2 Preenings, 7 Feedings, 2 Walkings, 56.0ms\n",
      "image 10/11 /Users/namrata/Downloads/datasets/images/test/input_0210.jpg: 384x640 2 Perchings, 2 Preenings, 7 Feedings, 2 Walkings, 54.6ms\n",
      "image 11/11 /Users/namrata/Downloads/datasets/images/test/input_0211.jpg: 384x640 1 Perching, 2 Preenings, 8 Feedings, 1 Walking, 1 Pecking, 53.4ms\n",
      "Speed: 1.9ms preprocess, 50.9ms inference, 58.6ms postprocess per image at shape (1, 3, 384, 640)\n",
      "Results saved to \u001b[1mruns/detect/predict4\u001b[0m\n",
      "💡 Learn more at https://docs.ultralytics.com/modes/predict\n"
     ]
    }
   ],
   "source": [
    "#Running the model on test images\n",
    "!yolo task=detect mode=predict model=\"runs/detect/train2/weights/best.pt\" conf=0.1 source=\"datasets/images/test\""
   ]
  },
  {
   "cell_type": "code",
   "execution_count": 3,
   "id": "2625cbda",
   "metadata": {},
   "outputs": [
    {
     "name": "stdout",
     "output_type": "stream",
     "text": [
      "Ultralytics YOLOv8.1.45 🚀 Python-3.11.5 torch-2.1.1 CPU (Apple M2)\n",
      "/Users/namrata/anaconda3/lib/python3.11/site-packages/pandas/core/arrays/masked.py:60: UserWarning: Pandas requires version '1.3.6' or newer of 'bottleneck' (version '1.3.5' currently installed).\n",
      "  from pandas.core import (\n",
      "Model summary (fused): 168 layers, 3006818 parameters, 0 gradients, 8.1 GFLOPs\n",
      "\n",
      "video 1/1 (frame 1/530) /Users/namrata/Downloads/hen_test.mp4: 384x640 2 Perchings, 1 Preening, 5 Feedings, 4 Walkings, 55.7ms\n",
      "video 1/1 (frame 2/530) /Users/namrata/Downloads/hen_test.mp4: 384x640 2 Perchings, 1 Preening, 6 Feedings, 4 Walkings, 47.9ms\n",
      "video 1/1 (frame 3/530) /Users/namrata/Downloads/hen_test.mp4: 384x640 2 Perchings, 1 Preening, 5 Feedings, 4 Walkings, 44.0ms\n",
      "video 1/1 (frame 4/530) /Users/namrata/Downloads/hen_test.mp4: 384x640 2 Perchings, 2 Preenings, 5 Feedings, 4 Walkings, 45.4ms\n",
      "video 1/1 (frame 5/530) /Users/namrata/Downloads/hen_test.mp4: 384x640 2 Perchings, 1 Preening, 5 Feedings, 4 Walkings, 43.8ms\n",
      "video 1/1 (frame 6/530) /Users/namrata/Downloads/hen_test.mp4: 384x640 2 Perchings, 2 Preenings, 4 Feedings, 4 Walkings, 45.6ms\n",
      "video 1/1 (frame 7/530) /Users/namrata/Downloads/hen_test.mp4: 384x640 2 Perchings, 2 Preenings, 4 Feedings, 4 Walkings, 43.2ms\n",
      "video 1/1 (frame 8/530) /Users/namrata/Downloads/hen_test.mp4: 384x640 2 Perchings, 2 Preenings, 5 Feedings, 4 Walkings, 44.1ms\n",
      "video 1/1 (frame 9/530) /Users/namrata/Downloads/hen_test.mp4: 384x640 2 Perchings, 1 Preening, 4 Feedings, 4 Walkings, 45.9ms\n",
      "video 1/1 (frame 10/530) /Users/namrata/Downloads/hen_test.mp4: 384x640 2 Perchings, 2 Preenings, 4 Feedings, 4 Walkings, 42.8ms\n",
      "video 1/1 (frame 11/530) /Users/namrata/Downloads/hen_test.mp4: 384x640 2 Perchings, 5 Feedings, 3 Walkings, 43.7ms\n",
      "video 1/1 (frame 12/530) /Users/namrata/Downloads/hen_test.mp4: 384x640 2 Perchings, 6 Feedings, 4 Walkings, 44.0ms\n",
      "video 1/1 (frame 13/530) /Users/namrata/Downloads/hen_test.mp4: 384x640 2 Perchings, 6 Feedings, 4 Walkings, 44.3ms\n",
      "video 1/1 (frame 14/530) /Users/namrata/Downloads/hen_test.mp4: 384x640 2 Perchings, 7 Feedings, 5 Walkings, 43.9ms\n",
      "video 1/1 (frame 15/530) /Users/namrata/Downloads/hen_test.mp4: 384x640 2 Perchings, 7 Feedings, 5 Walkings, 43.0ms\n",
      "video 1/1 (frame 16/530) /Users/namrata/Downloads/hen_test.mp4: 384x640 2 Perchings, 1 Preening, 6 Feedings, 5 Walkings, 43.3ms\n",
      "video 1/1 (frame 17/530) /Users/namrata/Downloads/hen_test.mp4: 384x640 2 Perchings, 7 Feedings, 4 Walkings, 44.6ms\n",
      "video 1/1 (frame 18/530) /Users/namrata/Downloads/hen_test.mp4: 384x640 2 Perchings, 1 Preening, 7 Feedings, 4 Walkings, 42.6ms\n",
      "video 1/1 (frame 19/530) /Users/namrata/Downloads/hen_test.mp4: 384x640 2 Perchings, 1 Preening, 8 Feedings, 3 Walkings, 43.8ms\n",
      "video 1/1 (frame 20/530) /Users/namrata/Downloads/hen_test.mp4: 384x640 2 Perchings, 1 Preening, 8 Feedings, 3 Walkings, 43.5ms\n",
      "video 1/1 (frame 21/530) /Users/namrata/Downloads/hen_test.mp4: 384x640 2 Perchings, 1 Preening, 9 Feedings, 5 Walkings, 43.1ms\n",
      "video 1/1 (frame 22/530) /Users/namrata/Downloads/hen_test.mp4: 384x640 2 Perchings, 1 Preening, 10 Feedings, 5 Walkings, 43.2ms\n",
      "video 1/1 (frame 23/530) /Users/namrata/Downloads/hen_test.mp4: 384x640 2 Perchings, 1 Preening, 11 Feedings, 5 Walkings, 42.8ms\n",
      "video 1/1 (frame 24/530) /Users/namrata/Downloads/hen_test.mp4: 384x640 2 Perchings, 1 Preening, 11 Feedings, 5 Walkings, 43.0ms\n",
      "video 1/1 (frame 25/530) /Users/namrata/Downloads/hen_test.mp4: 384x640 2 Perchings, 1 Preening, 8 Feedings, 5 Walkings, 44.5ms\n",
      "video 1/1 (frame 26/530) /Users/namrata/Downloads/hen_test.mp4: 384x640 2 Perchings, 1 Preening, 11 Feedings, 4 Walkings, 43.4ms\n",
      "video 1/1 (frame 27/530) /Users/namrata/Downloads/hen_test.mp4: 384x640 2 Perchings, 1 Preening, 11 Feedings, 3 Walkings, 43.1ms\n",
      "video 1/1 (frame 28/530) /Users/namrata/Downloads/hen_test.mp4: 384x640 2 Perchings, 1 Preening, 8 Feedings, 3 Walkings, 42.1ms\n",
      "video 1/1 (frame 29/530) /Users/namrata/Downloads/hen_test.mp4: 384x640 2 Perchings, 1 Preening, 9 Feedings, 3 Walkings, 42.8ms\n",
      "video 1/1 (frame 30/530) /Users/namrata/Downloads/hen_test.mp4: 384x640 2 Perchings, 1 Preening, 8 Feedings, 3 Walkings, 42.1ms\n",
      "video 1/1 (frame 31/530) /Users/namrata/Downloads/hen_test.mp4: 384x640 2 Perchings, 1 Preening, 7 Feedings, 3 Walkings, 43.3ms\n",
      "video 1/1 (frame 32/530) /Users/namrata/Downloads/hen_test.mp4: 384x640 1 Perching, 3 Preenings, 7 Feedings, 2 Walkings, 42.3ms\n",
      "video 1/1 (frame 33/530) /Users/namrata/Downloads/hen_test.mp4: 384x640 2 Perchings, 3 Preenings, 6 Feedings, 3 Walkings, 43.1ms\n",
      "video 1/1 (frame 34/530) /Users/namrata/Downloads/hen_test.mp4: 384x640 1 Perching, 2 Preenings, 7 Feedings, 3 Walkings, 43.8ms\n",
      "video 1/1 (frame 35/530) /Users/namrata/Downloads/hen_test.mp4: 384x640 2 Perchings, 2 Preenings, 6 Feedings, 3 Walkings, 42.3ms\n",
      "video 1/1 (frame 36/530) /Users/namrata/Downloads/hen_test.mp4: 384x640 2 Perchings, 3 Preenings, 6 Feedings, 2 Walkings, 48.4ms\n",
      "video 1/1 (frame 37/530) /Users/namrata/Downloads/hen_test.mp4: 384x640 2 Perchings, 3 Preenings, 6 Feedings, 2 Walkings, 47.4ms\n",
      "video 1/1 (frame 38/530) /Users/namrata/Downloads/hen_test.mp4: 384x640 2 Perchings, 3 Preenings, 7 Feedings, 2 Walkings, 41.8ms\n",
      "video 1/1 (frame 39/530) /Users/namrata/Downloads/hen_test.mp4: 384x640 2 Perchings, 3 Preenings, 7 Feedings, 2 Walkings, 42.9ms\n",
      "video 1/1 (frame 40/530) /Users/namrata/Downloads/hen_test.mp4: 384x640 2 Perchings, 3 Preenings, 6 Feedings, 2 Walkings, 42.7ms\n",
      "video 1/1 (frame 41/530) /Users/namrata/Downloads/hen_test.mp4: 384x640 2 Perchings, 3 Preenings, 7 Feedings, 3 Walkings, 42.5ms\n",
      "video 1/1 (frame 42/530) /Users/namrata/Downloads/hen_test.mp4: 384x640 2 Perchings, 3 Preenings, 7 Feedings, 3 Walkings, 42.4ms\n",
      "video 1/1 (frame 43/530) /Users/namrata/Downloads/hen_test.mp4: 384x640 1 Perching, 3 Preenings, 7 Feedings, 3 Walkings, 49.8ms\n",
      "video 1/1 (frame 44/530) /Users/namrata/Downloads/hen_test.mp4: 384x640 1 Perching, 3 Preenings, 8 Feedings, 3 Walkings, 49.9ms\n",
      "video 1/1 (frame 45/530) /Users/namrata/Downloads/hen_test.mp4: 384x640 2 Perchings, 2 Preenings, 8 Feedings, 3 Walkings, 43.1ms\n",
      "video 1/1 (frame 46/530) /Users/namrata/Downloads/hen_test.mp4: 384x640 2 Perchings, 3 Preenings, 9 Feedings, 3 Walkings, 43.9ms\n",
      "video 1/1 (frame 47/530) /Users/namrata/Downloads/hen_test.mp4: 384x640 2 Perchings, 2 Preenings, 9 Feedings, 4 Walkings, 47.2ms\n",
      "video 1/1 (frame 48/530) /Users/namrata/Downloads/hen_test.mp4: 384x640 2 Perchings, 3 Preenings, 9 Feedings, 4 Walkings, 54.5ms\n",
      "video 1/1 (frame 49/530) /Users/namrata/Downloads/hen_test.mp4: 384x640 2 Perchings, 3 Preenings, 8 Feedings, 3 Walkings, 47.4ms\n",
      "video 1/1 (frame 50/530) /Users/namrata/Downloads/hen_test.mp4: 384x640 2 Perchings, 3 Preenings, 9 Feedings, 4 Walkings, 47.5ms\n",
      "video 1/1 (frame 51/530) /Users/namrata/Downloads/hen_test.mp4: 384x640 2 Perchings, 1 Preening, 9 Feedings, 4 Walkings, 48.4ms\n",
      "video 1/1 (frame 52/530) /Users/namrata/Downloads/hen_test.mp4: 384x640 2 Perchings, 1 Preening, 9 Feedings, 4 Walkings, 47.4ms\n",
      "video 1/1 (frame 53/530) /Users/namrata/Downloads/hen_test.mp4: 384x640 2 Perchings, 3 Preenings, 8 Feedings, 4 Walkings, 49.2ms\n",
      "video 1/1 (frame 54/530) /Users/namrata/Downloads/hen_test.mp4: 384x640 2 Perchings, 2 Preenings, 8 Feedings, 4 Walkings, 46.9ms\n",
      "video 1/1 (frame 55/530) /Users/namrata/Downloads/hen_test.mp4: 384x640 2 Perchings, 2 Preenings, 9 Feedings, 4 Walkings, 46.9ms\n",
      "video 1/1 (frame 56/530) /Users/namrata/Downloads/hen_test.mp4: 384x640 2 Perchings, 1 Preening, 9 Feedings, 4 Walkings, 49.0ms\n",
      "video 1/1 (frame 57/530) /Users/namrata/Downloads/hen_test.mp4: 384x640 2 Perchings, 2 Preenings, 9 Feedings, 4 Walkings, 47.8ms\n",
      "video 1/1 (frame 58/530) /Users/namrata/Downloads/hen_test.mp4: 384x640 2 Perchings, 2 Preenings, 8 Feedings, 4 Walkings, 48.1ms\n",
      "video 1/1 (frame 59/530) /Users/namrata/Downloads/hen_test.mp4: 384x640 2 Perchings, 1 Preening, 8 Feedings, 4 Walkings, 47.7ms\n",
      "video 1/1 (frame 60/530) /Users/namrata/Downloads/hen_test.mp4: 384x640 2 Perchings, 1 Preening, 7 Feedings, 4 Walkings, 46.8ms\n",
      "video 1/1 (frame 61/530) /Users/namrata/Downloads/hen_test.mp4: 384x640 2 Perchings, 2 Preenings, 7 Feedings, 2 Walkings, 47.6ms\n",
      "video 1/1 (frame 62/530) /Users/namrata/Downloads/hen_test.mp4: 384x640 2 Perchings, 2 Preenings, 8 Feedings, 3 Walkings, 47.2ms\n"
     ]
    },
    {
     "name": "stdout",
     "output_type": "stream",
     "text": [
      "video 1/1 (frame 63/530) /Users/namrata/Downloads/hen_test.mp4: 384x640 2 Perchings, 2 Preenings, 8 Feedings, 2 Walkings, 48.4ms\n",
      "video 1/1 (frame 64/530) /Users/namrata/Downloads/hen_test.mp4: 384x640 2 Perchings, 2 Preenings, 10 Feedings, 2 Walkings, 48.4ms\n",
      "video 1/1 (frame 65/530) /Users/namrata/Downloads/hen_test.mp4: 384x640 2 Perchings, 2 Preenings, 10 Feedings, 2 Walkings, 50.2ms\n",
      "video 1/1 (frame 66/530) /Users/namrata/Downloads/hen_test.mp4: 384x640 2 Perchings, 2 Preenings, 8 Feedings, 2 Walkings, 52.6ms\n",
      "video 1/1 (frame 67/530) /Users/namrata/Downloads/hen_test.mp4: 384x640 2 Perchings, 3 Preenings, 8 Feedings, 2 Walkings, 59.0ms\n",
      "video 1/1 (frame 68/530) /Users/namrata/Downloads/hen_test.mp4: 384x640 2 Perchings, 2 Preenings, 8 Feedings, 2 Walkings, 48.7ms\n",
      "video 1/1 (frame 69/530) /Users/namrata/Downloads/hen_test.mp4: 384x640 2 Perchings, 3 Preenings, 9 Feedings, 2 Walkings, 47.7ms\n",
      "video 1/1 (frame 70/530) /Users/namrata/Downloads/hen_test.mp4: 384x640 2 Perchings, 3 Preenings, 9 Feedings, 2 Walkings, 47.7ms\n",
      "video 1/1 (frame 71/530) /Users/namrata/Downloads/hen_test.mp4: 384x640 2 Perchings, 3 Preenings, 8 Feedings, 2 Walkings, 48.1ms\n",
      "video 1/1 (frame 72/530) /Users/namrata/Downloads/hen_test.mp4: 384x640 2 Perchings, 3 Preenings, 8 Feedings, 2 Walkings, 49.3ms\n",
      "video 1/1 (frame 73/530) /Users/namrata/Downloads/hen_test.mp4: 384x640 2 Perchings, 3 Preenings, 8 Feedings, 2 Walkings, 46.7ms\n",
      "video 1/1 (frame 74/530) /Users/namrata/Downloads/hen_test.mp4: 384x640 2 Perchings, 3 Preenings, 8 Feedings, 2 Walkings, 47.6ms\n",
      "video 1/1 (frame 75/530) /Users/namrata/Downloads/hen_test.mp4: 384x640 2 Perchings, 2 Preenings, 7 Feedings, 2 Walkings, 47.8ms\n",
      "video 1/1 (frame 76/530) /Users/namrata/Downloads/hen_test.mp4: 384x640 2 Perchings, 3 Preenings, 7 Feedings, 2 Walkings, 49.6ms\n",
      "video 1/1 (frame 77/530) /Users/namrata/Downloads/hen_test.mp4: 384x640 2 Perchings, 3 Preenings, 8 Feedings, 2 Walkings, 47.4ms\n",
      "video 1/1 (frame 78/530) /Users/namrata/Downloads/hen_test.mp4: 384x640 2 Perchings, 3 Preenings, 8 Feedings, 2 Walkings, 47.1ms\n",
      "video 1/1 (frame 79/530) /Users/namrata/Downloads/hen_test.mp4: 384x640 2 Perchings, 3 Preenings, 7 Feedings, 2 Walkings, 47.3ms\n",
      "video 1/1 (frame 80/530) /Users/namrata/Downloads/hen_test.mp4: 384x640 2 Perchings, 3 Preenings, 8 Feedings, 2 Walkings, 49.3ms\n",
      "video 1/1 (frame 81/530) /Users/namrata/Downloads/hen_test.mp4: 384x640 2 Perchings, 3 Preenings, 8 Feedings, 3 Walkings, 47.6ms\n",
      "video 1/1 (frame 82/530) /Users/namrata/Downloads/hen_test.mp4: 384x640 2 Perchings, 3 Preenings, 8 Feedings, 2 Walkings, 46.8ms\n",
      "video 1/1 (frame 83/530) /Users/namrata/Downloads/hen_test.mp4: 384x640 2 Perchings, 3 Preenings, 8 Feedings, 2 Walkings, 49.4ms\n",
      "video 1/1 (frame 84/530) /Users/namrata/Downloads/hen_test.mp4: 384x640 2 Perchings, 3 Preenings, 8 Feedings, 2 Walkings, 49.5ms\n",
      "video 1/1 (frame 85/530) /Users/namrata/Downloads/hen_test.mp4: 384x640 2 Perchings, 4 Preenings, 8 Feedings, 2 Walkings, 47.4ms\n",
      "video 1/1 (frame 86/530) /Users/namrata/Downloads/hen_test.mp4: 384x640 2 Perchings, 4 Preenings, 8 Feedings, 1 Walking, 47.0ms\n",
      "video 1/1 (frame 87/530) /Users/namrata/Downloads/hen_test.mp4: 384x640 2 Perchings, 4 Preenings, 8 Feedings, 1 Walking, 47.6ms\n",
      "video 1/1 (frame 88/530) /Users/namrata/Downloads/hen_test.mp4: 384x640 2 Perchings, 4 Preenings, 8 Feedings, 1 Walking, 49.4ms\n",
      "video 1/1 (frame 89/530) /Users/namrata/Downloads/hen_test.mp4: 384x640 2 Perchings, 4 Preenings, 8 Feedings, 1 Walking, 47.5ms\n",
      "video 1/1 (frame 90/530) /Users/namrata/Downloads/hen_test.mp4: 384x640 2 Perchings, 4 Preenings, 8 Feedings, 1 Walking, 46.5ms\n",
      "video 1/1 (frame 91/530) /Users/namrata/Downloads/hen_test.mp4: 384x640 2 Perchings, 4 Preenings, 8 Feedings, 1 Walking, 47.6ms\n",
      "video 1/1 (frame 92/530) /Users/namrata/Downloads/hen_test.mp4: 384x640 2 Perchings, 3 Preenings, 8 Feedings, 2 Walkings, 49.4ms\n",
      "video 1/1 (frame 93/530) /Users/namrata/Downloads/hen_test.mp4: 384x640 2 Perchings, 3 Preenings, 8 Feedings, 3 Walkings, 48.1ms\n",
      "video 1/1 (frame 94/530) /Users/namrata/Downloads/hen_test.mp4: 384x640 2 Perchings, 3 Preenings, 8 Feedings, 3 Walkings, 47.5ms\n",
      "video 1/1 (frame 95/530) /Users/namrata/Downloads/hen_test.mp4: 384x640 2 Perchings, 3 Preenings, 8 Feedings, 3 Walkings, 48.0ms\n",
      "video 1/1 (frame 96/530) /Users/namrata/Downloads/hen_test.mp4: 384x640 2 Perchings, 3 Preenings, 8 Feedings, 4 Walkings, 47.9ms\n",
      "video 1/1 (frame 97/530) /Users/namrata/Downloads/hen_test.mp4: 384x640 2 Perchings, 3 Preenings, 8 Feedings, 3 Walkings, 47.8ms\n",
      "video 1/1 (frame 98/530) /Users/namrata/Downloads/hen_test.mp4: 384x640 2 Perchings, 4 Preenings, 7 Feedings, 2 Walkings, 45.8ms\n",
      "video 1/1 (frame 99/530) /Users/namrata/Downloads/hen_test.mp4: 384x640 2 Perchings, 4 Preenings, 8 Feedings, 2 Walkings, 47.3ms\n",
      "video 1/1 (frame 100/530) /Users/namrata/Downloads/hen_test.mp4: 384x640 2 Perchings, 4 Preenings, 8 Feedings, 2 Walkings, 47.8ms\n",
      "video 1/1 (frame 101/530) /Users/namrata/Downloads/hen_test.mp4: 384x640 2 Perchings, 3 Preenings, 8 Feedings, 3 Walkings, 46.8ms\n",
      "video 1/1 (frame 102/530) /Users/namrata/Downloads/hen_test.mp4: 384x640 2 Perchings, 4 Preenings, 7 Feedings, 47.3ms\n",
      "video 1/1 (frame 103/530) /Users/namrata/Downloads/hen_test.mp4: 384x640 2 Perchings, 4 Preenings, 6 Feedings, 48.7ms\n",
      "video 1/1 (frame 104/530) /Users/namrata/Downloads/hen_test.mp4: 384x640 2 Perchings, 4 Preenings, 6 Feedings, 47.1ms\n",
      "video 1/1 (frame 105/530) /Users/namrata/Downloads/hen_test.mp4: 384x640 2 Perchings, 4 Preenings, 6 Feedings, 46.3ms\n",
      "video 1/1 (frame 106/530) /Users/namrata/Downloads/hen_test.mp4: 384x640 2 Perchings, 4 Preenings, 7 Feedings, 47.0ms\n",
      "video 1/1 (frame 107/530) /Users/namrata/Downloads/hen_test.mp4: 384x640 2 Perchings, 4 Preenings, 7 Feedings, 48.0ms\n",
      "video 1/1 (frame 108/530) /Users/namrata/Downloads/hen_test.mp4: 384x640 2 Perchings, 4 Preenings, 8 Feedings, 48.2ms\n",
      "video 1/1 (frame 109/530) /Users/namrata/Downloads/hen_test.mp4: 384x640 2 Perchings, 4 Preenings, 7 Feedings, 47.0ms\n",
      "video 1/1 (frame 110/530) /Users/namrata/Downloads/hen_test.mp4: 384x640 2 Perchings, 4 Preenings, 7 Feedings, 46.6ms\n",
      "video 1/1 (frame 111/530) /Users/namrata/Downloads/hen_test.mp4: 384x640 2 Perchings, 4 Preenings, 6 Feedings, 47.9ms\n",
      "video 1/1 (frame 112/530) /Users/namrata/Downloads/hen_test.mp4: 384x640 2 Perchings, 4 Preenings, 6 Feedings, 47.1ms\n",
      "video 1/1 (frame 113/530) /Users/namrata/Downloads/hen_test.mp4: 384x640 2 Perchings, 4 Preenings, 6 Feedings, 46.9ms\n",
      "video 1/1 (frame 114/530) /Users/namrata/Downloads/hen_test.mp4: 384x640 2 Perchings, 4 Preenings, 6 Feedings, 46.3ms\n",
      "video 1/1 (frame 115/530) /Users/namrata/Downloads/hen_test.mp4: 384x640 2 Perchings, 4 Preenings, 7 Feedings, 47.8ms\n",
      "video 1/1 (frame 116/530) /Users/namrata/Downloads/hen_test.mp4: 384x640 2 Perchings, 4 Preenings, 7 Feedings, 47.5ms\n",
      "video 1/1 (frame 117/530) /Users/namrata/Downloads/hen_test.mp4: 384x640 2 Perchings, 4 Preenings, 8 Feedings, 46.0ms\n",
      "video 1/1 (frame 118/530) /Users/namrata/Downloads/hen_test.mp4: 384x640 2 Perchings, 4 Preenings, 7 Feedings, 45.9ms\n",
      "video 1/1 (frame 119/530) /Users/namrata/Downloads/hen_test.mp4: 384x640 2 Perchings, 3 Preenings, 8 Feedings, 2 Walkings, 48.6ms\n",
      "video 1/1 (frame 120/530) /Users/namrata/Downloads/hen_test.mp4: 384x640 2 Perchings, 4 Preenings, 8 Feedings, 2 Walkings, 47.1ms\n",
      "video 1/1 (frame 121/530) /Users/namrata/Downloads/hen_test.mp4: 384x640 2 Perchings, 3 Preenings, 8 Feedings, 3 Walkings, 47.0ms\n",
      "video 1/1 (frame 122/530) /Users/namrata/Downloads/hen_test.mp4: 384x640 2 Perchings, 3 Preenings, 7 Feedings, 2 Walkings, 46.5ms\n",
      "video 1/1 (frame 123/530) /Users/namrata/Downloads/hen_test.mp4: 384x640 2 Perchings, 3 Preenings, 9 Feedings, 3 Walkings, 48.3ms\n",
      "video 1/1 (frame 124/530) /Users/namrata/Downloads/hen_test.mp4: 384x640 2 Perchings, 3 Preenings, 9 Feedings, 1 Walking, 48.1ms\n",
      "video 1/1 (frame 125/530) /Users/namrata/Downloads/hen_test.mp4: 384x640 2 Perchings, 3 Preenings, 8 Feedings, 1 Walking, 48.7ms\n",
      "video 1/1 (frame 126/530) /Users/namrata/Downloads/hen_test.mp4: 384x640 2 Perchings, 3 Preenings, 8 Feedings, 2 Walkings, 51.0ms\n",
      "video 1/1 (frame 127/530) /Users/namrata/Downloads/hen_test.mp4: 384x640 2 Perchings, 4 Preenings, 8 Feedings, 1 Walking, 53.3ms\n"
     ]
    },
    {
     "name": "stdout",
     "output_type": "stream",
     "text": [
      "video 1/1 (frame 128/530) /Users/namrata/Downloads/hen_test.mp4: 384x640 2 Perchings, 4 Preenings, 6 Feedings, 1 Walking, 48.8ms\n",
      "video 1/1 (frame 129/530) /Users/namrata/Downloads/hen_test.mp4: 384x640 2 Perchings, 4 Preenings, 6 Feedings, 1 Walking, 47.7ms\n",
      "video 1/1 (frame 130/530) /Users/namrata/Downloads/hen_test.mp4: 384x640 2 Perchings, 4 Preenings, 6 Feedings, 1 Walking, 47.6ms\n",
      "video 1/1 (frame 131/530) /Users/namrata/Downloads/hen_test.mp4: 384x640 2 Perchings, 4 Preenings, 6 Feedings, 1 Walking, 47.1ms\n",
      "video 1/1 (frame 132/530) /Users/namrata/Downloads/hen_test.mp4: 384x640 2 Perchings, 4 Preenings, 6 Feedings, 1 Walking, 49.5ms\n",
      "video 1/1 (frame 133/530) /Users/namrata/Downloads/hen_test.mp4: 384x640 2 Perchings, 4 Preenings, 5 Feedings, 1 Walking, 48.5ms\n",
      "video 1/1 (frame 134/530) /Users/namrata/Downloads/hen_test.mp4: 384x640 2 Perchings, 4 Preenings, 5 Feedings, 1 Walking, 49.0ms\n",
      "video 1/1 (frame 135/530) /Users/namrata/Downloads/hen_test.mp4: 384x640 2 Perchings, 4 Preenings, 4 Feedings, 50.2ms\n",
      "video 1/1 (frame 136/530) /Users/namrata/Downloads/hen_test.mp4: 384x640 2 Perchings, 4 Preenings, 5 Feedings, 1 Walking, 46.6ms\n",
      "video 1/1 (frame 137/530) /Users/namrata/Downloads/hen_test.mp4: 384x640 2 Perchings, 4 Preenings, 5 Feedings, 2 Walkings, 47.1ms\n",
      "video 1/1 (frame 138/530) /Users/namrata/Downloads/hen_test.mp4: 384x640 2 Perchings, 4 Preenings, 5 Feedings, 1 Walking, 48.7ms\n",
      "video 1/1 (frame 139/530) /Users/namrata/Downloads/hen_test.mp4: 384x640 2 Perchings, 4 Preenings, 4 Feedings, 2 Walkings, 50.2ms\n",
      "video 1/1 (frame 140/530) /Users/namrata/Downloads/hen_test.mp4: 384x640 2 Perchings, 4 Preenings, 5 Feedings, 2 Walkings, 47.4ms\n",
      "video 1/1 (frame 141/530) /Users/namrata/Downloads/hen_test.mp4: 384x640 2 Perchings, 4 Preenings, 5 Feedings, 1 Walking, 46.8ms\n",
      "video 1/1 (frame 142/530) /Users/namrata/Downloads/hen_test.mp4: 384x640 2 Perchings, 4 Preenings, 4 Feedings, 2 Walkings, 48.0ms\n",
      "video 1/1 (frame 143/530) /Users/namrata/Downloads/hen_test.mp4: 384x640 2 Perchings, 4 Preenings, 5 Feedings, 2 Walkings, 49.6ms\n",
      "video 1/1 (frame 144/530) /Users/namrata/Downloads/hen_test.mp4: 384x640 2 Perchings, 4 Preenings, 5 Feedings, 2 Walkings, 46.6ms\n",
      "video 1/1 (frame 145/530) /Users/namrata/Downloads/hen_test.mp4: 384x640 2 Perchings, 4 Preenings, 5 Feedings, 2 Walkings, 47.8ms\n",
      "video 1/1 (frame 146/530) /Users/namrata/Downloads/hen_test.mp4: 384x640 2 Perchings, 4 Preenings, 6 Feedings, 2 Walkings, 49.8ms\n",
      "video 1/1 (frame 147/530) /Users/namrata/Downloads/hen_test.mp4: 384x640 2 Perchings, 4 Preenings, 6 Feedings, 2 Walkings, 48.1ms\n",
      "video 1/1 (frame 148/530) /Users/namrata/Downloads/hen_test.mp4: 384x640 3 Perchings, 4 Preenings, 6 Feedings, 2 Walkings, 46.9ms\n",
      "video 1/1 (frame 149/530) /Users/namrata/Downloads/hen_test.mp4: 384x640 3 Perchings, 4 Preenings, 6 Feedings, 2 Walkings, 47.8ms\n",
      "video 1/1 (frame 150/530) /Users/namrata/Downloads/hen_test.mp4: 384x640 3 Perchings, 4 Preenings, 6 Feedings, 2 Walkings, 48.9ms\n",
      "video 1/1 (frame 151/530) /Users/namrata/Downloads/hen_test.mp4: 384x640 3 Perchings, 4 Preenings, 6 Feedings, 2 Walkings, 50.1ms\n",
      "video 1/1 (frame 152/530) /Users/namrata/Downloads/hen_test.mp4: 384x640 3 Perchings, 4 Preenings, 6 Feedings, 2 Walkings, 46.1ms\n",
      "video 1/1 (frame 153/530) /Users/namrata/Downloads/hen_test.mp4: 384x640 3 Perchings, 4 Preenings, 6 Feedings, 3 Walkings, 47.5ms\n",
      "video 1/1 (frame 154/530) /Users/namrata/Downloads/hen_test.mp4: 384x640 3 Perchings, 4 Preenings, 6 Feedings, 2 Walkings, 48.8ms\n",
      "video 1/1 (frame 155/530) /Users/namrata/Downloads/hen_test.mp4: 384x640 3 Perchings, 4 Preenings, 6 Feedings, 2 Walkings, 52.7ms\n",
      "video 1/1 (frame 156/530) /Users/namrata/Downloads/hen_test.mp4: 384x640 3 Perchings, 4 Preenings, 6 Feedings, 3 Walkings, 51.6ms\n",
      "video 1/1 (frame 157/530) /Users/namrata/Downloads/hen_test.mp4: 384x640 3 Perchings, 4 Preenings, 5 Feedings, 2 Walkings, 53.1ms\n",
      "video 1/1 (frame 158/530) /Users/namrata/Downloads/hen_test.mp4: 384x640 3 Perchings, 4 Preenings, 5 Feedings, 2 Walkings, 53.9ms\n",
      "video 1/1 (frame 159/530) /Users/namrata/Downloads/hen_test.mp4: 384x640 3 Perchings, 4 Preenings, 5 Feedings, 2 Walkings, 53.8ms\n",
      "video 1/1 (frame 160/530) /Users/namrata/Downloads/hen_test.mp4: 384x640 3 Perchings, 4 Preenings, 5 Feedings, 2 Walkings, 51.7ms\n",
      "video 1/1 (frame 161/530) /Users/namrata/Downloads/hen_test.mp4: 384x640 3 Perchings, 4 Preenings, 5 Feedings, 3 Walkings, 52.4ms\n",
      "video 1/1 (frame 162/530) /Users/namrata/Downloads/hen_test.mp4: 384x640 3 Perchings, 3 Preenings, 5 Feedings, 3 Walkings, 55.0ms\n",
      "video 1/1 (frame 163/530) /Users/namrata/Downloads/hen_test.mp4: 384x640 3 Perchings, 3 Preenings, 6 Feedings, 3 Walkings, 59.2ms\n",
      "video 1/1 (frame 164/530) /Users/namrata/Downloads/hen_test.mp4: 384x640 3 Perchings, 3 Preenings, 6 Feedings, 3 Walkings, 58.7ms\n",
      "video 1/1 (frame 165/530) /Users/namrata/Downloads/hen_test.mp4: 384x640 2 Perchings, 3 Preenings, 6 Feedings, 3 Walkings, 59.9ms\n",
      "video 1/1 (frame 166/530) /Users/namrata/Downloads/hen_test.mp4: 384x640 2 Perchings, 4 Preenings, 5 Feedings, 1 Walking, 61.2ms\n",
      "video 1/1 (frame 167/530) /Users/namrata/Downloads/hen_test.mp4: 384x640 2 Perchings, 4 Preenings, 5 Feedings, 1 Walking, 61.7ms\n",
      "video 1/1 (frame 168/530) /Users/namrata/Downloads/hen_test.mp4: 384x640 3 Perchings, 4 Preenings, 5 Feedings, 1 Walking, 58.6ms\n",
      "video 1/1 (frame 169/530) /Users/namrata/Downloads/hen_test.mp4: 384x640 3 Perchings, 4 Preenings, 5 Feedings, 1 Walking, 59.7ms\n",
      "video 1/1 (frame 170/530) /Users/namrata/Downloads/hen_test.mp4: 384x640 3 Perchings, 4 Preenings, 5 Feedings, 1 Walking, 60.5ms\n",
      "video 1/1 (frame 171/530) /Users/namrata/Downloads/hen_test.mp4: 384x640 3 Perchings, 4 Preenings, 4 Feedings, 1 Walking, 59.6ms\n",
      "video 1/1 (frame 172/530) /Users/namrata/Downloads/hen_test.mp4: 384x640 3 Perchings, 4 Preenings, 4 Feedings, 2 Walkings, 62.1ms\n",
      "video 1/1 (frame 173/530) /Users/namrata/Downloads/hen_test.mp4: 384x640 2 Perchings, 4 Preenings, 5 Feedings, 58.7ms\n",
      "video 1/1 (frame 174/530) /Users/namrata/Downloads/hen_test.mp4: 384x640 2 Perchings, 4 Preenings, 4 Feedings, 2 Walkings, 60.1ms\n",
      "video 1/1 (frame 175/530) /Users/namrata/Downloads/hen_test.mp4: 384x640 2 Perchings, 4 Preenings, 4 Feedings, 2 Walkings, 60.1ms\n",
      "video 1/1 (frame 176/530) /Users/namrata/Downloads/hen_test.mp4: 384x640 2 Perchings, 4 Preenings, 4 Feedings, 3 Walkings, 58.4ms\n",
      "video 1/1 (frame 177/530) /Users/namrata/Downloads/hen_test.mp4: 384x640 2 Perchings, 4 Preenings, 5 Feedings, 3 Walkings, 58.5ms\n",
      "video 1/1 (frame 178/530) /Users/namrata/Downloads/hen_test.mp4: 384x640 2 Perchings, 3 Preenings, 5 Feedings, 3 Walkings, 60.3ms\n",
      "video 1/1 (frame 179/530) /Users/namrata/Downloads/hen_test.mp4: 384x640 2 Perchings, 3 Preenings, 5 Feedings, 1 Walking, 58.9ms\n",
      "video 1/1 (frame 180/530) /Users/namrata/Downloads/hen_test.mp4: 384x640 2 Perchings, 3 Preenings, 7 Feedings, 3 Walkings, 57.9ms\n",
      "video 1/1 (frame 181/530) /Users/namrata/Downloads/hen_test.mp4: 384x640 2 Perchings, 3 Preenings, 5 Feedings, 1 Walking, 59.0ms\n",
      "video 1/1 (frame 182/530) /Users/namrata/Downloads/hen_test.mp4: 384x640 2 Perchings, 3 Preenings, 6 Feedings, 1 Walking, 59.4ms\n",
      "video 1/1 (frame 183/530) /Users/namrata/Downloads/hen_test.mp4: 384x640 2 Perchings, 3 Preenings, 5 Feedings, 1 Walking, 60.9ms\n",
      "video 1/1 (frame 184/530) /Users/namrata/Downloads/hen_test.mp4: 384x640 2 Perchings, 3 Preenings, 5 Feedings, 1 Walking, 58.9ms\n",
      "video 1/1 (frame 185/530) /Users/namrata/Downloads/hen_test.mp4: 384x640 2 Perchings, 4 Preenings, 5 Feedings, 2 Walkings, 60.1ms\n",
      "video 1/1 (frame 186/530) /Users/namrata/Downloads/hen_test.mp4: 384x640 2 Perchings, 4 Preenings, 5 Feedings, 2 Walkings, 64.2ms\n",
      "video 1/1 (frame 187/530) /Users/namrata/Downloads/hen_test.mp4: 384x640 2 Perchings, 4 Preenings, 5 Feedings, 2 Walkings, 68.8ms\n",
      "video 1/1 (frame 188/530) /Users/namrata/Downloads/hen_test.mp4: 384x640 2 Perchings, 4 Preenings, 5 Feedings, 3 Walkings, 73.5ms\n",
      "video 1/1 (frame 189/530) /Users/namrata/Downloads/hen_test.mp4: 384x640 3 Perchings, 4 Preenings, 6 Feedings, 2 Walkings, 76.4ms\n",
      "video 1/1 (frame 190/530) /Users/namrata/Downloads/hen_test.mp4: 384x640 3 Perchings, 4 Preenings, 5 Feedings, 3 Walkings, 70.3ms\n",
      "video 1/1 (frame 191/530) /Users/namrata/Downloads/hen_test.mp4: 384x640 3 Perchings, 4 Preenings, 5 Feedings, 2 Walkings, 58.9ms\n"
     ]
    },
    {
     "name": "stdout",
     "output_type": "stream",
     "text": [
      "video 1/1 (frame 192/530) /Users/namrata/Downloads/hen_test.mp4: 384x640 3 Perchings, 4 Preenings, 7 Feedings, 5 Walkings, 58.3ms\n",
      "video 1/1 (frame 193/530) /Users/namrata/Downloads/hen_test.mp4: 384x640 3 Perchings, 2 Preenings, 6 Feedings, 6 Walkings, 61.5ms\n",
      "video 1/1 (frame 194/530) /Users/namrata/Downloads/hen_test.mp4: 384x640 2 Perchings, 1 Preening, 5 Feedings, 5 Walkings, 65.9ms\n",
      "video 1/1 (frame 195/530) /Users/namrata/Downloads/hen_test.mp4: 384x640 2 Perchings, 2 Preenings, 5 Feedings, 3 Walkings, 59.9ms\n",
      "video 1/1 (frame 196/530) /Users/namrata/Downloads/hen_test.mp4: 384x640 2 Perchings, 2 Preenings, 4 Feedings, 2 Walkings, 59.8ms\n",
      "video 1/1 (frame 197/530) /Users/namrata/Downloads/hen_test.mp4: 384x640 2 Perchings, 1 Preening, 4 Feedings, 5 Walkings, 61.5ms\n",
      "video 1/1 (frame 198/530) /Users/namrata/Downloads/hen_test.mp4: 384x640 2 Perchings, 1 Preening, 4 Feedings, 5 Walkings, 68.7ms\n",
      "video 1/1 (frame 199/530) /Users/namrata/Downloads/hen_test.mp4: 384x640 2 Perchings, 1 Preening, 4 Feedings, 5 Walkings, 61.7ms\n",
      "video 1/1 (frame 200/530) /Users/namrata/Downloads/hen_test.mp4: 384x640 2 Perchings, 1 Preening, 4 Feedings, 5 Walkings, 58.5ms\n",
      "video 1/1 (frame 201/530) /Users/namrata/Downloads/hen_test.mp4: 384x640 3 Perchings, 1 Preening, 4 Feedings, 5 Walkings, 60.6ms\n",
      "video 1/1 (frame 202/530) /Users/namrata/Downloads/hen_test.mp4: 384x640 3 Perchings, 2 Preenings, 4 Feedings, 5 Walkings, 68.9ms\n",
      "video 1/1 (frame 203/530) /Users/namrata/Downloads/hen_test.mp4: 384x640 3 Perchings, 2 Preenings, 4 Feedings, 5 Walkings, 61.1ms\n",
      "video 1/1 (frame 204/530) /Users/namrata/Downloads/hen_test.mp4: 384x640 3 Perchings, 3 Preenings, 6 Feedings, 3 Walkings, 1 Pecking, 61.8ms\n",
      "video 1/1 (frame 205/530) /Users/namrata/Downloads/hen_test.mp4: 384x640 3 Perchings, 2 Preenings, 6 Feedings, 4 Walkings, 1 Pecking, 60.1ms\n",
      "video 1/1 (frame 206/530) /Users/namrata/Downloads/hen_test.mp4: 384x640 3 Perchings, 2 Preenings, 6 Feedings, 3 Walkings, 1 Pecking, 62.8ms\n",
      "video 1/1 (frame 207/530) /Users/namrata/Downloads/hen_test.mp4: 384x640 3 Perchings, 3 Preenings, 6 Feedings, 2 Walkings, 1 Pecking, 59.3ms\n",
      "video 1/1 (frame 208/530) /Users/namrata/Downloads/hen_test.mp4: 384x640 3 Perchings, 2 Preenings, 5 Feedings, 2 Walkings, 1 Pecking, 65.7ms\n",
      "video 1/1 (frame 209/530) /Users/namrata/Downloads/hen_test.mp4: 384x640 3 Perchings, 3 Preenings, 6 Feedings, 3 Walkings, 1 Pecking, 69.0ms\n",
      "video 1/1 (frame 210/530) /Users/namrata/Downloads/hen_test.mp4: 384x640 3 Perchings, 3 Preenings, 5 Feedings, 3 Walkings, 1 Pecking, 71.7ms\n",
      "video 1/1 (frame 211/530) /Users/namrata/Downloads/hen_test.mp4: 384x640 2 Perchings, 3 Preenings, 5 Feedings, 2 Walkings, 1 Pecking, 58.5ms\n",
      "video 1/1 (frame 212/530) /Users/namrata/Downloads/hen_test.mp4: 384x640 4 Perchings, 3 Preenings, 5 Feedings, 3 Walkings, 1 Pecking, 60.5ms\n",
      "video 1/1 (frame 213/530) /Users/namrata/Downloads/hen_test.mp4: 384x640 2 Perchings, 3 Preenings, 7 Feedings, 4 Walkings, 1 Pecking, 64.7ms\n",
      "video 1/1 (frame 214/530) /Users/namrata/Downloads/hen_test.mp4: 384x640 2 Perchings, 3 Preenings, 5 Feedings, 4 Walkings, 1 Pecking, 60.6ms\n",
      "video 1/1 (frame 215/530) /Users/namrata/Downloads/hen_test.mp4: 384x640 2 Perchings, 3 Preenings, 5 Feedings, 4 Walkings, 1 Pecking, 58.5ms\n",
      "video 1/1 (frame 216/530) /Users/namrata/Downloads/hen_test.mp4: 384x640 2 Perchings, 2 Preenings, 7 Feedings, 4 Walkings, 1 Pecking, 59.6ms\n",
      "video 1/1 (frame 217/530) /Users/namrata/Downloads/hen_test.mp4: 384x640 2 Perchings, 1 Preening, 6 Feedings, 4 Walkings, 1 Pecking, 67.0ms\n",
      "video 1/1 (frame 218/530) /Users/namrata/Downloads/hen_test.mp4: 384x640 2 Perchings, 2 Preenings, 6 Feedings, 4 Walkings, 1 Pecking, 61.2ms\n",
      "video 1/1 (frame 219/530) /Users/namrata/Downloads/hen_test.mp4: 384x640 2 Perchings, 1 Preening, 7 Feedings, 4 Walkings, 1 Pecking, 59.2ms\n",
      "video 1/1 (frame 220/530) /Users/namrata/Downloads/hen_test.mp4: 384x640 2 Perchings, 1 Preening, 6 Feedings, 4 Walkings, 1 Pecking, 60.6ms\n",
      "video 1/1 (frame 221/530) /Users/namrata/Downloads/hen_test.mp4: 384x640 2 Perchings, 2 Preenings, 6 Feedings, 4 Walkings, 1 Pecking, 65.9ms\n",
      "video 1/1 (frame 222/530) /Users/namrata/Downloads/hen_test.mp4: 384x640 2 Perchings, 2 Preenings, 6 Feedings, 4 Walkings, 1 Pecking, 59.8ms\n",
      "video 1/1 (frame 223/530) /Users/namrata/Downloads/hen_test.mp4: 384x640 2 Perchings, 6 Feedings, 6 Walkings, 1 Pecking, 59.2ms\n",
      "video 1/1 (frame 224/530) /Users/namrata/Downloads/hen_test.mp4: 384x640 2 Perchings, 7 Feedings, 5 Walkings, 1 Pecking, 60.0ms\n",
      "video 1/1 (frame 225/530) /Users/namrata/Downloads/hen_test.mp4: 384x640 2 Perchings, 8 Feedings, 5 Walkings, 1 Pecking, 66.3ms\n",
      "video 1/1 (frame 226/530) /Users/namrata/Downloads/hen_test.mp4: 384x640 2 Perchings, 2 Preenings, 8 Feedings, 5 Walkings, 1 Pecking, 58.4ms\n",
      "video 1/1 (frame 227/530) /Users/namrata/Downloads/hen_test.mp4: 384x640 2 Perchings, 1 Preening, 9 Feedings, 5 Walkings, 2 Peckings, 58.6ms\n",
      "video 1/1 (frame 228/530) /Users/namrata/Downloads/hen_test.mp4: 384x640 2 Perchings, 1 Preening, 9 Feedings, 5 Walkings, 1 Pecking, 56.4ms\n",
      "video 1/1 (frame 229/530) /Users/namrata/Downloads/hen_test.mp4: 384x640 2 Perchings, 1 Preening, 9 Feedings, 5 Walkings, 1 Pecking, 61.7ms\n",
      "video 1/1 (frame 230/530) /Users/namrata/Downloads/hen_test.mp4: 384x640 2 Perchings, 2 Preenings, 9 Feedings, 5 Walkings, 1 Pecking, 60.7ms\n",
      "video 1/1 (frame 231/530) /Users/namrata/Downloads/hen_test.mp4: 384x640 2 Perchings, 1 Preening, 9 Feedings, 5 Walkings, 2 Peckings, 58.4ms\n",
      "video 1/1 (frame 232/530) /Users/namrata/Downloads/hen_test.mp4: 384x640 2 Perchings, 1 Preening, 8 Feedings, 5 Walkings, 2 Peckings, 58.0ms\n",
      "video 1/1 (frame 233/530) /Users/namrata/Downloads/hen_test.mp4: 384x640 2 Perchings, 1 Preening, 8 Feedings, 5 Walkings, 2 Peckings, 60.1ms\n",
      "video 1/1 (frame 234/530) /Users/namrata/Downloads/hen_test.mp4: 384x640 2 Perchings, 1 Preening, 9 Feedings, 5 Walkings, 2 Peckings, 59.7ms\n",
      "video 1/1 (frame 235/530) /Users/namrata/Downloads/hen_test.mp4: 384x640 2 Perchings, 9 Feedings, 5 Walkings, 2 Peckings, 57.5ms\n",
      "video 1/1 (frame 236/530) /Users/namrata/Downloads/hen_test.mp4: 384x640 2 Perchings, 9 Feedings, 5 Walkings, 2 Peckings, 56.1ms\n",
      "video 1/1 (frame 237/530) /Users/namrata/Downloads/hen_test.mp4: 384x640 2 Perchings, 8 Feedings, 5 Walkings, 2 Peckings, 58.0ms\n",
      "video 1/1 (frame 238/530) /Users/namrata/Downloads/hen_test.mp4: 384x640 2 Perchings, 8 Feedings, 5 Walkings, 2 Peckings, 60.1ms\n",
      "video 1/1 (frame 239/530) /Users/namrata/Downloads/hen_test.mp4: 384x640 2 Perchings, 9 Feedings, 5 Walkings, 2 Peckings, 58.9ms\n",
      "video 1/1 (frame 240/530) /Users/namrata/Downloads/hen_test.mp4: 384x640 2 Perchings, 9 Feedings, 5 Walkings, 2 Peckings, 59.4ms\n",
      "video 1/1 (frame 241/530) /Users/namrata/Downloads/hen_test.mp4: 384x640 2 Perchings, 8 Feedings, 5 Walkings, 2 Peckings, 58.3ms\n",
      "video 1/1 (frame 242/530) /Users/namrata/Downloads/hen_test.mp4: 384x640 2 Perchings, 8 Feedings, 5 Walkings, 2 Peckings, 61.7ms\n",
      "video 1/1 (frame 243/530) /Users/namrata/Downloads/hen_test.mp4: 384x640 2 Perchings, 8 Feedings, 5 Walkings, 1 Pecking, 58.5ms\n",
      "video 1/1 (frame 244/530) /Users/namrata/Downloads/hen_test.mp4: 384x640 2 Perchings, 8 Feedings, 5 Walkings, 1 Pecking, 59.0ms\n",
      "video 1/1 (frame 245/530) /Users/namrata/Downloads/hen_test.mp4: 384x640 2 Perchings, 8 Feedings, 5 Walkings, 1 Pecking, 60.8ms\n",
      "video 1/1 (frame 246/530) /Users/namrata/Downloads/hen_test.mp4: 384x640 2 Perchings, 1 Preening, 7 Feedings, 5 Walkings, 1 Pecking, 58.3ms\n",
      "video 1/1 (frame 247/530) /Users/namrata/Downloads/hen_test.mp4: 384x640 2 Perchings, 1 Preening, 7 Feedings, 5 Walkings, 1 Pecking, 58.0ms\n",
      "video 1/1 (frame 248/530) /Users/namrata/Downloads/hen_test.mp4: 384x640 2 Perchings, 1 Preening, 6 Feedings, 5 Walkings, 1 Pecking, 52.8ms\n",
      "video 1/1 (frame 249/530) /Users/namrata/Downloads/hen_test.mp4: 384x640 2 Perchings, 1 Preening, 6 Feedings, 5 Walkings, 1 Pecking, 59.9ms\n",
      "video 1/1 (frame 250/530) /Users/namrata/Downloads/hen_test.mp4: 384x640 2 Perchings, 1 Preening, 6 Feedings, 5 Walkings, 1 Pecking, 60.8ms\n",
      "video 1/1 (frame 251/530) /Users/namrata/Downloads/hen_test.mp4: 384x640 2 Perchings, 1 Preening, 6 Feedings, 3 Walkings, 68.1ms\n",
      "video 1/1 (frame 252/530) /Users/namrata/Downloads/hen_test.mp4: 384x640 2 Perchings, 1 Preening, 6 Feedings, 3 Walkings, 1 Pecking, 74.9ms\n"
     ]
    },
    {
     "name": "stdout",
     "output_type": "stream",
     "text": [
      "video 1/1 (frame 253/530) /Users/namrata/Downloads/hen_test.mp4: 384x640 2 Perchings, 1 Preening, 5 Feedings, 3 Walkings, 1 Pecking, 75.6ms\n",
      "video 1/1 (frame 254/530) /Users/namrata/Downloads/hen_test.mp4: 384x640 2 Perchings, 1 Preening, 5 Feedings, 2 Walkings, 1 Pecking, 72.2ms\n",
      "video 1/1 (frame 255/530) /Users/namrata/Downloads/hen_test.mp4: 384x640 2 Perchings, 2 Preenings, 5 Feedings, 2 Walkings, 67.6ms\n",
      "video 1/1 (frame 256/530) /Users/namrata/Downloads/hen_test.mp4: 384x640 3 Perchings, 2 Preenings, 5 Feedings, 4 Walkings, 1 Pecking, 59.2ms\n",
      "video 1/1 (frame 257/530) /Users/namrata/Downloads/hen_test.mp4: 384x640 3 Perchings, 4 Preenings, 5 Feedings, 4 Walkings, 60.3ms\n",
      "video 1/1 (frame 258/530) /Users/namrata/Downloads/hen_test.mp4: 384x640 2 Perchings, 3 Preenings, 4 Feedings, 3 Walkings, 68.2ms\n",
      "video 1/1 (frame 259/530) /Users/namrata/Downloads/hen_test.mp4: 384x640 3 Perchings, 3 Preenings, 4 Feedings, 3 Walkings, 62.5ms\n",
      "video 1/1 (frame 260/530) /Users/namrata/Downloads/hen_test.mp4: 384x640 2 Perchings, 3 Preenings, 5 Feedings, 4 Walkings, 58.6ms\n",
      "video 1/1 (frame 261/530) /Users/namrata/Downloads/hen_test.mp4: 384x640 3 Perchings, 2 Preenings, 4 Feedings, 3 Walkings, 60.2ms\n",
      "video 1/1 (frame 262/530) /Users/namrata/Downloads/hen_test.mp4: 384x640 3 Perchings, 2 Preenings, 4 Feedings, 3 Walkings, 65.3ms\n",
      "video 1/1 (frame 263/530) /Users/namrata/Downloads/hen_test.mp4: 384x640 3 Perchings, 3 Preenings, 6 Feedings, 3 Walkings, 61.9ms\n",
      "video 1/1 (frame 264/530) /Users/namrata/Downloads/hen_test.mp4: 384x640 3 Perchings, 3 Preenings, 6 Feedings, 3 Walkings, 59.5ms\n",
      "video 1/1 (frame 265/530) /Users/namrata/Downloads/hen_test.mp4: 384x640 3 Perchings, 2 Preenings, 6 Feedings, 3 Walkings, 59.7ms\n",
      "video 1/1 (frame 266/530) /Users/namrata/Downloads/hen_test.mp4: 384x640 2 Perchings, 3 Preenings, 8 Feedings, 2 Walkings, 64.4ms\n",
      "video 1/1 (frame 267/530) /Users/namrata/Downloads/hen_test.mp4: 384x640 2 Perchings, 3 Preenings, 8 Feedings, 2 Walkings, 59.8ms\n",
      "video 1/1 (frame 268/530) /Users/namrata/Downloads/hen_test.mp4: 384x640 2 Perchings, 3 Preenings, 8 Feedings, 2 Walkings, 58.0ms\n",
      "video 1/1 (frame 269/530) /Users/namrata/Downloads/hen_test.mp4: 384x640 2 Perchings, 3 Preenings, 9 Feedings, 3 Walkings, 61.4ms\n",
      "video 1/1 (frame 270/530) /Users/namrata/Downloads/hen_test.mp4: 384x640 2 Perchings, 3 Preenings, 8 Feedings, 4 Walkings, 67.2ms\n",
      "video 1/1 (frame 271/530) /Users/namrata/Downloads/hen_test.mp4: 384x640 2 Perchings, 3 Preenings, 9 Feedings, 4 Walkings, 60.7ms\n",
      "video 1/1 (frame 272/530) /Users/namrata/Downloads/hen_test.mp4: 384x640 2 Perchings, 2 Preenings, 8 Feedings, 4 Walkings, 59.4ms\n",
      "video 1/1 (frame 273/530) /Users/namrata/Downloads/hen_test.mp4: 384x640 3 Perchings, 2 Preenings, 7 Feedings, 4 Walkings, 60.6ms\n",
      "video 1/1 (frame 274/530) /Users/namrata/Downloads/hen_test.mp4: 384x640 3 Perchings, 2 Preenings, 8 Feedings, 4 Walkings, 60.3ms\n",
      "video 1/1 (frame 275/530) /Users/namrata/Downloads/hen_test.mp4: 384x640 3 Perchings, 2 Preenings, 8 Feedings, 4 Walkings, 65.6ms\n",
      "video 1/1 (frame 276/530) /Users/namrata/Downloads/hen_test.mp4: 384x640 3 Perchings, 2 Preenings, 8 Feedings, 4 Walkings, 58.3ms\n",
      "video 1/1 (frame 277/530) /Users/namrata/Downloads/hen_test.mp4: 384x640 3 Perchings, 2 Preenings, 8 Feedings, 4 Walkings, 60.7ms\n",
      "video 1/1 (frame 278/530) /Users/namrata/Downloads/hen_test.mp4: 384x640 3 Perchings, 2 Preenings, 7 Feedings, 2 Walkings, 60.2ms\n",
      "video 1/1 (frame 279/530) /Users/namrata/Downloads/hen_test.mp4: 384x640 3 Perchings, 2 Preenings, 8 Feedings, 2 Walkings, 59.0ms\n",
      "video 1/1 (frame 280/530) /Users/namrata/Downloads/hen_test.mp4: 384x640 3 Perchings, 2 Preenings, 7 Feedings, 2 Walkings, 59.1ms\n",
      "video 1/1 (frame 281/530) /Users/namrata/Downloads/hen_test.mp4: 384x640 3 Perchings, 2 Preenings, 7 Feedings, 2 Walkings, 59.5ms\n",
      "video 1/1 (frame 282/530) /Users/namrata/Downloads/hen_test.mp4: 384x640 3 Perchings, 1 Preening, 6 Feedings, 4 Walkings, 65.4ms\n",
      "video 1/1 (frame 283/530) /Users/namrata/Downloads/hen_test.mp4: 384x640 3 Perchings, 2 Preenings, 7 Feedings, 4 Walkings, 59.7ms\n",
      "video 1/1 (frame 284/530) /Users/namrata/Downloads/hen_test.mp4: 384x640 3 Perchings, 2 Preenings, 7 Feedings, 4 Walkings, 58.6ms\n",
      "video 1/1 (frame 285/530) /Users/namrata/Downloads/hen_test.mp4: 384x640 3 Perchings, 2 Preenings, 6 Feedings, 4 Walkings, 60.0ms\n",
      "video 1/1 (frame 286/530) /Users/namrata/Downloads/hen_test.mp4: 384x640 2 Perchings, 2 Preenings, 7 Feedings, 4 Walkings, 60.1ms\n",
      "video 1/1 (frame 287/530) /Users/namrata/Downloads/hen_test.mp4: 384x640 2 Perchings, 2 Preenings, 8 Feedings, 4 Walkings, 58.8ms\n",
      "video 1/1 (frame 288/530) /Users/namrata/Downloads/hen_test.mp4: 384x640 2 Perchings, 2 Preenings, 8 Feedings, 4 Walkings, 59.0ms\n",
      "video 1/1 (frame 289/530) /Users/namrata/Downloads/hen_test.mp4: 384x640 2 Perchings, 3 Preenings, 7 Feedings, 3 Walkings, 61.1ms\n",
      "video 1/1 (frame 290/530) /Users/namrata/Downloads/hen_test.mp4: 384x640 2 Perchings, 2 Preenings, 7 Feedings, 3 Walkings, 59.8ms\n",
      "video 1/1 (frame 291/530) /Users/namrata/Downloads/hen_test.mp4: 384x640 2 Perchings, 1 Preening, 8 Feedings, 4 Walkings, 59.1ms\n",
      "video 1/1 (frame 292/530) /Users/namrata/Downloads/hen_test.mp4: 384x640 2 Perchings, 2 Preenings, 6 Feedings, 4 Walkings, 59.1ms\n",
      "video 1/1 (frame 293/530) /Users/namrata/Downloads/hen_test.mp4: 384x640 2 Perchings, 2 Preenings, 7 Feedings, 3 Walkings, 59.5ms\n",
      "video 1/1 (frame 294/530) /Users/namrata/Downloads/hen_test.mp4: 384x640 2 Perchings, 2 Preenings, 8 Feedings, 3 Walkings, 73.1ms\n",
      "video 1/1 (frame 295/530) /Users/namrata/Downloads/hen_test.mp4: 384x640 2 Perchings, 2 Preenings, 7 Feedings, 3 Walkings, 69.3ms\n",
      "video 1/1 (frame 296/530) /Users/namrata/Downloads/hen_test.mp4: 384x640 2 Perchings, 2 Preenings, 7 Feedings, 3 Walkings, 61.8ms\n",
      "video 1/1 (frame 297/530) /Users/namrata/Downloads/hen_test.mp4: 384x640 3 Perchings, 3 Preenings, 5 Feedings, 2 Walkings, 58.2ms\n",
      "video 1/1 (frame 298/530) /Users/namrata/Downloads/hen_test.mp4: 384x640 3 Perchings, 3 Preenings, 7 Feedings, 2 Walkings, 63.3ms\n",
      "video 1/1 (frame 299/530) /Users/namrata/Downloads/hen_test.mp4: 384x640 3 Perchings, 2 Preenings, 7 Feedings, 2 Walkings, 64.3ms\n",
      "video 1/1 (frame 300/530) /Users/namrata/Downloads/hen_test.mp4: 384x640 3 Perchings, 2 Preenings, 6 Feedings, 2 Walkings, 58.3ms\n",
      "video 1/1 (frame 301/530) /Users/namrata/Downloads/hen_test.mp4: 384x640 2 Perchings, 2 Preenings, 7 Feedings, 2 Walkings, 1 Pecking, 58.7ms\n",
      "video 1/1 (frame 302/530) /Users/namrata/Downloads/hen_test.mp4: 384x640 2 Perchings, 2 Preenings, 7 Feedings, 2 Walkings, 1 Pecking, 57.5ms\n",
      "video 1/1 (frame 303/530) /Users/namrata/Downloads/hen_test.mp4: 384x640 2 Perchings, 2 Preenings, 7 Feedings, 2 Walkings, 60.0ms\n",
      "video 1/1 (frame 304/530) /Users/namrata/Downloads/hen_test.mp4: 384x640 2 Perchings, 2 Preenings, 5 Feedings, 1 Walking, 60.3ms\n",
      "video 1/1 (frame 305/530) /Users/namrata/Downloads/hen_test.mp4: 384x640 2 Perchings, 2 Preenings, 6 Feedings, 1 Walking, 55.8ms\n",
      "video 1/1 (frame 306/530) /Users/namrata/Downloads/hen_test.mp4: 384x640 2 Perchings, 2 Preenings, 4 Feedings, 1 Walking, 60.4ms\n",
      "video 1/1 (frame 307/530) /Users/namrata/Downloads/hen_test.mp4: 384x640 2 Perchings, 3 Preenings, 5 Feedings, 2 Walkings, 1 Pecking, 59.3ms\n",
      "video 1/1 (frame 308/530) /Users/namrata/Downloads/hen_test.mp4: 384x640 2 Perchings, 3 Preenings, 5 Feedings, 3 Walkings, 2 Peckings, 58.5ms\n",
      "video 1/1 (frame 309/530) /Users/namrata/Downloads/hen_test.mp4: 384x640 2 Perchings, 1 Preening, 6 Feedings, 4 Walkings, 2 Peckings, 58.6ms\n",
      "video 1/1 (frame 310/530) /Users/namrata/Downloads/hen_test.mp4: 384x640 2 Perchings, 2 Preenings, 5 Feedings, 4 Walkings, 2 Peckings, 58.5ms\n",
      "video 1/1 (frame 311/530) /Users/namrata/Downloads/hen_test.mp4: 384x640 2 Perchings, 2 Preenings, 6 Feedings, 4 Walkings, 2 Peckings, 61.2ms\n",
      "video 1/1 (frame 312/530) /Users/namrata/Downloads/hen_test.mp4: 384x640 2 Perchings, 2 Preenings, 6 Feedings, 4 Walkings, 2 Peckings, 65.6ms\n",
      "video 1/1 (frame 313/530) /Users/namrata/Downloads/hen_test.mp4: 384x640 2 Perchings, 2 Preenings, 6 Feedings, 4 Walkings, 2 Peckings, 74.0ms\n",
      "video 1/1 (frame 314/530) /Users/namrata/Downloads/hen_test.mp4: 384x640 2 Perchings, 2 Preenings, 5 Feedings, 4 Walkings, 2 Peckings, 72.0ms\n"
     ]
    },
    {
     "name": "stdout",
     "output_type": "stream",
     "text": [
      "video 1/1 (frame 315/530) /Users/namrata/Downloads/hen_test.mp4: 384x640 2 Perchings, 2 Preenings, 6 Feedings, 3 Walkings, 2 Peckings, 65.6ms\n",
      "video 1/1 (frame 316/530) /Users/namrata/Downloads/hen_test.mp4: 384x640 2 Perchings, 2 Preenings, 5 Feedings, 3 Walkings, 2 Peckings, 60.3ms\n",
      "video 1/1 (frame 317/530) /Users/namrata/Downloads/hen_test.mp4: 384x640 2 Perchings, 2 Preenings, 6 Feedings, 4 Walkings, 2 Peckings, 58.3ms\n",
      "video 1/1 (frame 318/530) /Users/namrata/Downloads/hen_test.mp4: 384x640 2 Perchings, 2 Preenings, 6 Feedings, 3 Walkings, 2 Peckings, 60.2ms\n",
      "video 1/1 (frame 319/530) /Users/namrata/Downloads/hen_test.mp4: 384x640 2 Perchings, 1 Preening, 7 Feedings, 4 Walkings, 2 Peckings, 72.3ms\n",
      "video 1/1 (frame 320/530) /Users/namrata/Downloads/hen_test.mp4: 384x640 2 Perchings, 1 Preening, 8 Feedings, 4 Walkings, 2 Peckings, 64.1ms\n",
      "video 1/1 (frame 321/530) /Users/namrata/Downloads/hen_test.mp4: 384x640 2 Perchings, 1 Preening, 8 Feedings, 4 Walkings, 2 Peckings, 59.4ms\n",
      "video 1/1 (frame 322/530) /Users/namrata/Downloads/hen_test.mp4: 384x640 2 Perchings, 1 Preening, 7 Feedings, 3 Walkings, 2 Peckings, 59.2ms\n",
      "video 1/1 (frame 323/530) /Users/namrata/Downloads/hen_test.mp4: 384x640 2 Perchings, 1 Preening, 7 Feedings, 3 Walkings, 1 Pecking, 64.2ms\n",
      "video 1/1 (frame 324/530) /Users/namrata/Downloads/hen_test.mp4: 384x640 2 Perchings, 1 Preening, 7 Feedings, 3 Walkings, 1 Pecking, 60.2ms\n",
      "video 1/1 (frame 325/530) /Users/namrata/Downloads/hen_test.mp4: 384x640 2 Perchings, 1 Preening, 7 Feedings, 3 Walkings, 1 Pecking, 58.2ms\n",
      "video 1/1 (frame 326/530) /Users/namrata/Downloads/hen_test.mp4: 384x640 2 Perchings, 1 Preening, 6 Feedings, 3 Walkings, 1 Pecking, 67.9ms\n",
      "video 1/1 (frame 327/530) /Users/namrata/Downloads/hen_test.mp4: 384x640 2 Perchings, 1 Preening, 4 Feedings, 3 Walkings, 1 Pecking, 66.0ms\n",
      "video 1/1 (frame 328/530) /Users/namrata/Downloads/hen_test.mp4: 384x640 2 Perchings, 1 Preening, 9 Feedings, 5 Walkings, 1 Pecking, 60.5ms\n",
      "video 1/1 (frame 329/530) /Users/namrata/Downloads/hen_test.mp4: 384x640 2 Perchings, 2 Preenings, 8 Feedings, 3 Walkings, 1 Pecking, 59.2ms\n",
      "video 1/1 (frame 330/530) /Users/namrata/Downloads/hen_test.mp4: 384x640 2 Perchings, 1 Preening, 8 Feedings, 4 Walkings, 1 Pecking, 61.0ms\n",
      "video 1/1 (frame 331/530) /Users/namrata/Downloads/hen_test.mp4: 384x640 2 Perchings, 1 Preening, 9 Feedings, 4 Walkings, 1 Pecking, 69.4ms\n",
      "video 1/1 (frame 332/530) /Users/namrata/Downloads/hen_test.mp4: 384x640 2 Perchings, 2 Preenings, 9 Feedings, 3 Walkings, 1 Pecking, 60.0ms\n",
      "video 1/1 (frame 333/530) /Users/namrata/Downloads/hen_test.mp4: 384x640 2 Perchings, 2 Preenings, 10 Feedings, 3 Walkings, 1 Pecking, 59.1ms\n",
      "video 1/1 (frame 334/530) /Users/namrata/Downloads/hen_test.mp4: 384x640 2 Perchings, 2 Preenings, 10 Feedings, 3 Walkings, 1 Pecking, 61.7ms\n",
      "video 1/1 (frame 335/530) /Users/namrata/Downloads/hen_test.mp4: 384x640 2 Perchings, 2 Preenings, 9 Feedings, 3 Walkings, 62.1ms\n",
      "video 1/1 (frame 336/530) /Users/namrata/Downloads/hen_test.mp4: 384x640 2 Perchings, 2 Preenings, 10 Feedings, 3 Walkings, 61.2ms\n",
      "video 1/1 (frame 337/530) /Users/namrata/Downloads/hen_test.mp4: 384x640 2 Perchings, 2 Preenings, 10 Feedings, 3 Walkings, 59.1ms\n",
      "video 1/1 (frame 338/530) /Users/namrata/Downloads/hen_test.mp4: 384x640 2 Perchings, 1 Preening, 11 Feedings, 3 Walkings, 1 Pecking, 60.0ms\n",
      "video 1/1 (frame 339/530) /Users/namrata/Downloads/hen_test.mp4: 384x640 2 Perchings, 1 Preening, 9 Feedings, 3 Walkings, 60.9ms\n",
      "video 1/1 (frame 340/530) /Users/namrata/Downloads/hen_test.mp4: 384x640 2 Perchings, 1 Preening, 9 Feedings, 3 Walkings, 58.6ms\n",
      "video 1/1 (frame 341/530) /Users/namrata/Downloads/hen_test.mp4: 384x640 2 Perchings, 1 Preening, 10 Feedings, 3 Walkings, 59.0ms\n",
      "video 1/1 (frame 342/530) /Users/namrata/Downloads/hen_test.mp4: 384x640 2 Perchings, 1 Preening, 9 Feedings, 3 Walkings, 59.5ms\n",
      "video 1/1 (frame 343/530) /Users/namrata/Downloads/hen_test.mp4: 384x640 2 Perchings, 2 Preenings, 10 Feedings, 3 Walkings, 60.7ms\n",
      "video 1/1 (frame 344/530) /Users/namrata/Downloads/hen_test.mp4: 384x640 2 Perchings, 2 Preenings, 10 Feedings, 3 Walkings, 58.5ms\n",
      "video 1/1 (frame 345/530) /Users/namrata/Downloads/hen_test.mp4: 384x640 2 Perchings, 2 Preenings, 11 Feedings, 2 Walkings, 58.4ms\n",
      "video 1/1 (frame 346/530) /Users/namrata/Downloads/hen_test.mp4: 384x640 2 Perchings, 2 Preenings, 10 Feedings, 2 Walkings, 61.1ms\n",
      "video 1/1 (frame 347/530) /Users/namrata/Downloads/hen_test.mp4: 384x640 2 Perchings, 2 Preenings, 10 Feedings, 2 Walkings, 59.9ms\n",
      "video 1/1 (frame 348/530) /Users/namrata/Downloads/hen_test.mp4: 384x640 2 Perchings, 2 Preenings, 10 Feedings, 2 Walkings, 58.4ms\n",
      "video 1/1 (frame 349/530) /Users/namrata/Downloads/hen_test.mp4: 384x640 2 Perchings, 2 Preenings, 10 Feedings, 2 Walkings, 58.9ms\n",
      "video 1/1 (frame 350/530) /Users/namrata/Downloads/hen_test.mp4: 384x640 2 Perchings, 2 Preenings, 10 Feedings, 2 Walkings, 60.0ms\n",
      "video 1/1 (frame 351/530) /Users/namrata/Downloads/hen_test.mp4: 384x640 2 Perchings, 2 Preenings, 9 Feedings, 2 Walkings, 59.6ms\n",
      "video 1/1 (frame 352/530) /Users/namrata/Downloads/hen_test.mp4: 384x640 2 Perchings, 2 Preenings, 8 Feedings, 2 Walkings, 58.4ms\n",
      "video 1/1 (frame 353/530) /Users/namrata/Downloads/hen_test.mp4: 384x640 2 Perchings, 3 Preenings, 8 Feedings, 2 Walkings, 59.3ms\n",
      "video 1/1 (frame 354/530) /Users/namrata/Downloads/hen_test.mp4: 384x640 2 Perchings, 3 Preenings, 9 Feedings, 2 Walkings, 60.2ms\n",
      "video 1/1 (frame 355/530) /Users/namrata/Downloads/hen_test.mp4: 384x640 2 Perchings, 3 Preenings, 7 Feedings, 2 Walkings, 59.7ms\n",
      "video 1/1 (frame 356/530) /Users/namrata/Downloads/hen_test.mp4: 384x640 2 Perchings, 3 Preenings, 7 Feedings, 2 Walkings, 58.9ms\n",
      "video 1/1 (frame 357/530) /Users/namrata/Downloads/hen_test.mp4: 384x640 2 Perchings, 3 Preenings, 8 Feedings, 2 Walkings, 58.6ms\n",
      "video 1/1 (frame 358/530) /Users/namrata/Downloads/hen_test.mp4: 384x640 2 Perchings, 2 Preenings, 7 Feedings, 2 Walkings, 60.4ms\n",
      "video 1/1 (frame 359/530) /Users/namrata/Downloads/hen_test.mp4: 384x640 2 Perchings, 3 Preenings, 7 Feedings, 2 Walkings, 59.4ms\n",
      "video 1/1 (frame 360/530) /Users/namrata/Downloads/hen_test.mp4: 384x640 2 Perchings, 3 Preenings, 7 Feedings, 2 Walkings, 58.5ms\n",
      "video 1/1 (frame 361/530) /Users/namrata/Downloads/hen_test.mp4: 384x640 2 Perchings, 3 Preenings, 9 Feedings, 3 Walkings, 58.4ms\n",
      "video 1/1 (frame 362/530) /Users/namrata/Downloads/hen_test.mp4: 384x640 2 Perchings, 2 Preenings, 7 Feedings, 3 Walkings, 57.2ms\n",
      "video 1/1 (frame 363/530) /Users/namrata/Downloads/hen_test.mp4: 384x640 2 Perchings, 2 Preenings, 7 Feedings, 4 Walkings, 55.7ms\n",
      "video 1/1 (frame 364/530) /Users/namrata/Downloads/hen_test.mp4: 384x640 2 Perchings, 2 Preenings, 8 Feedings, 4 Walkings, 60.6ms\n",
      "video 1/1 (frame 365/530) /Users/namrata/Downloads/hen_test.mp4: 384x640 2 Perchings, 2 Preenings, 8 Feedings, 4 Walkings, 59.2ms\n",
      "video 1/1 (frame 366/530) /Users/namrata/Downloads/hen_test.mp4: 384x640 2 Perchings, 1 Preening, 9 Feedings, 4 Walkings, 1 Pecking, 55.8ms\n",
      "video 1/1 (frame 367/530) /Users/namrata/Downloads/hen_test.mp4: 384x640 2 Perchings, 1 Preening, 7 Feedings, 3 Walkings, 1 Pecking, 55.6ms\n",
      "video 1/1 (frame 368/530) /Users/namrata/Downloads/hen_test.mp4: 384x640 2 Perchings, 1 Preening, 8 Feedings, 3 Walkings, 1 Pecking, 57.8ms\n",
      "video 1/1 (frame 369/530) /Users/namrata/Downloads/hen_test.mp4: 384x640 2 Perchings, 1 Preening, 8 Feedings, 3 Walkings, 1 Pecking, 59.1ms\n",
      "video 1/1 (frame 370/530) /Users/namrata/Downloads/hen_test.mp4: 384x640 2 Perchings, 1 Preening, 8 Feedings, 3 Walkings, 59.7ms\n",
      "video 1/1 (frame 371/530) /Users/namrata/Downloads/hen_test.mp4: 384x640 2 Perchings, 1 Preening, 6 Feedings, 3 Walkings, 60.1ms\n",
      "video 1/1 (frame 372/530) /Users/namrata/Downloads/hen_test.mp4: 384x640 2 Perchings, 1 Preening, 7 Feedings, 3 Walkings, 57.8ms\n",
      "video 1/1 (frame 373/530) /Users/namrata/Downloads/hen_test.mp4: 384x640 2 Perchings, 1 Preening, 7 Feedings, 3 Walkings, 60.1ms\n",
      "video 1/1 (frame 374/530) /Users/namrata/Downloads/hen_test.mp4: 384x640 2 Perchings, 1 Preening, 7 Feedings, 3 Walkings, 61.6ms\n",
      "video 1/1 (frame 375/530) /Users/namrata/Downloads/hen_test.mp4: 384x640 2 Perchings, 1 Preening, 8 Feedings, 3 Walkings, 1 Pecking, 82.8ms\n"
     ]
    },
    {
     "name": "stdout",
     "output_type": "stream",
     "text": [
      "video 1/1 (frame 376/530) /Users/namrata/Downloads/hen_test.mp4: 384x640 2 Perchings, 1 Preening, 9 Feedings, 3 Walkings, 86.1ms\n",
      "video 1/1 (frame 377/530) /Users/namrata/Downloads/hen_test.mp4: 384x640 2 Perchings, 2 Preenings, 8 Feedings, 3 Walkings, 71.7ms\n",
      "video 1/1 (frame 378/530) /Users/namrata/Downloads/hen_test.mp4: 384x640 2 Perchings, 2 Preenings, 8 Feedings, 3 Walkings, 61.3ms\n",
      "video 1/1 (frame 379/530) /Users/namrata/Downloads/hen_test.mp4: 384x640 2 Perchings, 1 Preening, 6 Feedings, 3 Walkings, 1 Pecking, 61.6ms\n",
      "video 1/1 (frame 380/530) /Users/namrata/Downloads/hen_test.mp4: 384x640 2 Perchings, 2 Preenings, 6 Feedings, 3 Walkings, 1 Pecking, 61.0ms\n",
      "video 1/1 (frame 381/530) /Users/namrata/Downloads/hen_test.mp4: 384x640 2 Perchings, 1 Preening, 6 Feedings, 3 Walkings, 1 Pecking, 62.1ms\n",
      "video 1/1 (frame 382/530) /Users/namrata/Downloads/hen_test.mp4: 384x640 2 Perchings, 1 Preening, 6 Feedings, 3 Walkings, 1 Pecking, 60.1ms\n",
      "video 1/1 (frame 383/530) /Users/namrata/Downloads/hen_test.mp4: 384x640 2 Perchings, 1 Preening, 6 Feedings, 3 Walkings, 1 Pecking, 69.6ms\n",
      "video 1/1 (frame 384/530) /Users/namrata/Downloads/hen_test.mp4: 384x640 2 Perchings, 1 Preening, 6 Feedings, 3 Walkings, 1 Pecking, 59.4ms\n",
      "video 1/1 (frame 385/530) /Users/namrata/Downloads/hen_test.mp4: 384x640 2 Perchings, 2 Preenings, 6 Feedings, 3 Walkings, 1 Pecking, 58.9ms\n",
      "video 1/1 (frame 386/530) /Users/namrata/Downloads/hen_test.mp4: 384x640 2 Perchings, 2 Preenings, 6 Feedings, 3 Walkings, 1 Pecking, 59.6ms\n",
      "video 1/1 (frame 387/530) /Users/namrata/Downloads/hen_test.mp4: 384x640 2 Perchings, 2 Preenings, 6 Feedings, 3 Walkings, 1 Pecking, 67.7ms\n",
      "video 1/1 (frame 388/530) /Users/namrata/Downloads/hen_test.mp4: 384x640 2 Perchings, 2 Preenings, 6 Feedings, 3 Walkings, 1 Pecking, 61.9ms\n",
      "video 1/1 (frame 389/530) /Users/namrata/Downloads/hen_test.mp4: 384x640 2 Perchings, 2 Preenings, 7 Feedings, 3 Walkings, 1 Pecking, 59.6ms\n",
      "video 1/1 (frame 390/530) /Users/namrata/Downloads/hen_test.mp4: 384x640 2 Perchings, 2 Preenings, 7 Feedings, 3 Walkings, 61.8ms\n",
      "video 1/1 (frame 391/530) /Users/namrata/Downloads/hen_test.mp4: 384x640 2 Perchings, 1 Preening, 7 Feedings, 3 Walkings, 1 Pecking, 69.4ms\n",
      "video 1/1 (frame 392/530) /Users/namrata/Downloads/hen_test.mp4: 384x640 2 Perchings, 1 Preening, 7 Feedings, 3 Walkings, 2 Peckings, 60.8ms\n",
      "video 1/1 (frame 393/530) /Users/namrata/Downloads/hen_test.mp4: 384x640 1 Perching, 2 Preenings, 7 Feedings, 2 Walkings, 2 Peckings, 59.0ms\n",
      "video 1/1 (frame 394/530) /Users/namrata/Downloads/hen_test.mp4: 384x640 1 Perching, 1 Preening, 7 Feedings, 2 Walkings, 2 Peckings, 63.4ms\n",
      "video 1/1 (frame 395/530) /Users/namrata/Downloads/hen_test.mp4: 384x640 1 Perching, 1 Preening, 7 Feedings, 2 Walkings, 2 Peckings, 72.2ms\n",
      "video 1/1 (frame 396/530) /Users/namrata/Downloads/hen_test.mp4: 384x640 2 Perchings, 1 Preening, 7 Feedings, 2 Walkings, 2 Peckings, 84.9ms\n",
      "video 1/1 (frame 397/530) /Users/namrata/Downloads/hen_test.mp4: 384x640 2 Perchings, 2 Preenings, 7 Feedings, 2 Walkings, 2 Peckings, 72.0ms\n",
      "video 1/1 (frame 398/530) /Users/namrata/Downloads/hen_test.mp4: 384x640 2 Perchings, 1 Preening, 7 Feedings, 2 Walkings, 2 Peckings, 114.4ms\n",
      "video 1/1 (frame 399/530) /Users/namrata/Downloads/hen_test.mp4: 384x640 2 Perchings, 1 Preening, 7 Feedings, 2 Walkings, 2 Peckings, 106.6ms\n",
      "video 1/1 (frame 400/530) /Users/namrata/Downloads/hen_test.mp4: 384x640 2 Perchings, 1 Preening, 7 Feedings, 3 Walkings, 2 Peckings, 76.4ms\n",
      "video 1/1 (frame 401/530) /Users/namrata/Downloads/hen_test.mp4: 384x640 2 Perchings, 1 Preening, 8 Feedings, 4 Walkings, 83.2ms\n",
      "video 1/1 (frame 402/530) /Users/namrata/Downloads/hen_test.mp4: 384x640 2 Perchings, 1 Preening, 8 Feedings, 4 Walkings, 1 Pecking, 87.4ms\n",
      "video 1/1 (frame 403/530) /Users/namrata/Downloads/hen_test.mp4: 384x640 2 Perchings, 1 Preening, 7 Feedings, 3 Walkings, 1 Pecking, 80.1ms\n",
      "video 1/1 (frame 404/530) /Users/namrata/Downloads/hen_test.mp4: 384x640 2 Perchings, 2 Preenings, 7 Feedings, 3 Walkings, 62.0ms\n",
      "video 1/1 (frame 405/530) /Users/namrata/Downloads/hen_test.mp4: 384x640 2 Perchings, 2 Preenings, 8 Feedings, 3 Walkings, 54.3ms\n",
      "video 1/1 (frame 406/530) /Users/namrata/Downloads/hen_test.mp4: 384x640 2 Perchings, 2 Preenings, 8 Feedings, 3 Walkings, 58.5ms\n",
      "video 1/1 (frame 407/530) /Users/namrata/Downloads/hen_test.mp4: 384x640 2 Perchings, 2 Preenings, 7 Feedings, 3 Walkings, 61.9ms\n",
      "video 1/1 (frame 408/530) /Users/namrata/Downloads/hen_test.mp4: 384x640 1 Perching, 1 Preening, 7 Feedings, 3 Walkings, 59.0ms\n",
      "video 1/1 (frame 409/530) /Users/namrata/Downloads/hen_test.mp4: 384x640 2 Perchings, 2 Preenings, 7 Feedings, 3 Walkings, 58.5ms\n",
      "video 1/1 (frame 410/530) /Users/namrata/Downloads/hen_test.mp4: 384x640 1 Perching, 3 Preenings, 7 Feedings, 4 Walkings, 1 Pecking, 60.5ms\n",
      "video 1/1 (frame 411/530) /Users/namrata/Downloads/hen_test.mp4: 384x640 1 Perching, 2 Preenings, 7 Feedings, 3 Walkings, 1 Pecking, 61.4ms\n",
      "video 1/1 (frame 412/530) /Users/namrata/Downloads/hen_test.mp4: 384x640 1 Perching, 2 Preenings, 6 Feedings, 3 Walkings, 59.4ms\n",
      "video 1/1 (frame 413/530) /Users/namrata/Downloads/hen_test.mp4: 384x640 2 Perchings, 2 Preenings, 6 Feedings, 3 Walkings, 59.7ms\n",
      "video 1/1 (frame 414/530) /Users/namrata/Downloads/hen_test.mp4: 384x640 2 Perchings, 2 Preenings, 6 Feedings, 2 Walkings, 64.2ms\n",
      "video 1/1 (frame 415/530) /Users/namrata/Downloads/hen_test.mp4: 384x640 2 Perchings, 2 Preenings, 6 Feedings, 2 Walkings, 60.2ms\n",
      "video 1/1 (frame 416/530) /Users/namrata/Downloads/hen_test.mp4: 384x640 2 Perchings, 2 Preenings, 7 Feedings, 2 Walkings, 60.3ms\n",
      "video 1/1 (frame 417/530) /Users/namrata/Downloads/hen_test.mp4: 384x640 1 Perching, 3 Preenings, 7 Feedings, 2 Walkings, 59.1ms\n",
      "video 1/1 (frame 418/530) /Users/namrata/Downloads/hen_test.mp4: 384x640 1 Perching, 3 Preenings, 7 Feedings, 2 Walkings, 59.6ms\n",
      "video 1/1 (frame 419/530) /Users/namrata/Downloads/hen_test.mp4: 384x640 1 Perching, 3 Preenings, 7 Feedings, 2 Walkings, 59.7ms\n",
      "video 1/1 (frame 420/530) /Users/namrata/Downloads/hen_test.mp4: 384x640 1 Perching, 3 Preenings, 8 Feedings, 2 Walkings, 61.9ms\n",
      "video 1/1 (frame 421/530) /Users/namrata/Downloads/hen_test.mp4: 384x640 1 Perching, 1 Preening, 8 Feedings, 4 Walkings, 59.5ms\n",
      "video 1/1 (frame 422/530) /Users/namrata/Downloads/hen_test.mp4: 384x640 1 Perching, 2 Preenings, 8 Feedings, 4 Walkings, 59.7ms\n",
      "video 1/1 (frame 423/530) /Users/namrata/Downloads/hen_test.mp4: 384x640 2 Perchings, 2 Preenings, 8 Feedings, 4 Walkings, 60.6ms\n",
      "video 1/1 (frame 424/530) /Users/namrata/Downloads/hen_test.mp4: 384x640 1 Perching, 2 Preenings, 8 Feedings, 4 Walkings, 57.9ms\n",
      "video 1/1 (frame 425/530) /Users/namrata/Downloads/hen_test.mp4: 384x640 2 Perchings, 2 Preenings, 8 Feedings, 4 Walkings, 58.8ms\n",
      "video 1/1 (frame 426/530) /Users/namrata/Downloads/hen_test.mp4: 384x640 2 Perchings, 2 Preenings, 8 Feedings, 4 Walkings, 57.5ms\n",
      "video 1/1 (frame 427/530) /Users/namrata/Downloads/hen_test.mp4: 384x640 2 Perchings, 2 Preenings, 7 Feedings, 4 Walkings, 58.9ms\n",
      "video 1/1 (frame 428/530) /Users/namrata/Downloads/hen_test.mp4: 384x640 2 Perchings, 4 Preenings, 7 Feedings, 4 Walkings, 58.3ms\n",
      "video 1/1 (frame 429/530) /Users/namrata/Downloads/hen_test.mp4: 384x640 2 Perchings, 3 Preenings, 9 Feedings, 4 Walkings, 58.1ms\n",
      "video 1/1 (frame 430/530) /Users/namrata/Downloads/hen_test.mp4: 384x640 3 Perchings, 2 Preenings, 9 Feedings, 4 Walkings, 56.5ms\n",
      "video 1/1 (frame 431/530) /Users/namrata/Downloads/hen_test.mp4: 384x640 2 Perchings, 2 Preenings, 10 Feedings, 3 Walkings, 60.1ms\n",
      "video 1/1 (frame 432/530) /Users/namrata/Downloads/hen_test.mp4: 384x640 2 Perchings, 2 Preenings, 9 Feedings, 3 Walkings, 59.7ms\n",
      "video 1/1 (frame 433/530) /Users/namrata/Downloads/hen_test.mp4: 384x640 2 Perchings, 2 Preenings, 9 Feedings, 1 Walking, 58.0ms\n",
      "video 1/1 (frame 434/530) /Users/namrata/Downloads/hen_test.mp4: 384x640 2 Perchings, 2 Preenings, 8 Feedings, 1 Walking, 58.6ms\n",
      "video 1/1 (frame 435/530) /Users/namrata/Downloads/hen_test.mp4: 384x640 2 Perchings, 2 Preenings, 8 Feedings, 2 Walkings, 61.2ms\n",
      "video 1/1 (frame 436/530) /Users/namrata/Downloads/hen_test.mp4: 384x640 2 Perchings, 2 Preenings, 8 Feedings, 2 Walkings, 67.1ms\n",
      "video 1/1 (frame 437/530) /Users/namrata/Downloads/hen_test.mp4: 384x640 2 Perchings, 2 Preenings, 9 Feedings, 2 Walkings, 75.9ms\n"
     ]
    },
    {
     "name": "stdout",
     "output_type": "stream",
     "text": [
      "video 1/1 (frame 438/530) /Users/namrata/Downloads/hen_test.mp4: 384x640 2 Perchings, 2 Preenings, 9 Feedings, 1 Walking, 75.7ms\n",
      "video 1/1 (frame 439/530) /Users/namrata/Downloads/hen_test.mp4: 384x640 2 Perchings, 2 Preenings, 8 Feedings, 2 Walkings, 69.9ms\n",
      "video 1/1 (frame 440/530) /Users/namrata/Downloads/hen_test.mp4: 384x640 2 Perchings, 2 Preenings, 9 Feedings, 2 Walkings, 63.3ms\n",
      "video 1/1 (frame 441/530) /Users/namrata/Downloads/hen_test.mp4: 384x640 2 Perchings, 2 Preenings, 10 Feedings, 2 Walkings, 59.9ms\n",
      "video 1/1 (frame 442/530) /Users/namrata/Downloads/hen_test.mp4: 384x640 2 Perchings, 2 Preenings, 9 Feedings, 1 Walking, 60.2ms\n",
      "video 1/1 (frame 443/530) /Users/namrata/Downloads/hen_test.mp4: 384x640 2 Perchings, 2 Preenings, 8 Feedings, 2 Walkings, 71.7ms\n",
      "video 1/1 (frame 444/530) /Users/namrata/Downloads/hen_test.mp4: 384x640 2 Perchings, 2 Preenings, 7 Feedings, 2 Walkings, 61.2ms\n",
      "video 1/1 (frame 445/530) /Users/namrata/Downloads/hen_test.mp4: 384x640 2 Perchings, 2 Preenings, 6 Feedings, 1 Walking, 59.8ms\n",
      "video 1/1 (frame 446/530) /Users/namrata/Downloads/hen_test.mp4: 384x640 2 Perchings, 2 Preenings, 4 Feedings, 2 Walkings, 59.8ms\n",
      "video 1/1 (frame 447/530) /Users/namrata/Downloads/hen_test.mp4: 384x640 2 Perchings, 2 Preenings, 4 Feedings, 2 Walkings, 67.1ms\n",
      "video 1/1 (frame 448/530) /Users/namrata/Downloads/hen_test.mp4: 384x640 2 Perchings, 2 Preenings, 4 Feedings, 2 Walkings, 64.2ms\n",
      "video 1/1 (frame 449/530) /Users/namrata/Downloads/hen_test.mp4: 384x640 2 Perchings, 2 Preenings, 5 Feedings, 2 Walkings, 59.6ms\n",
      "video 1/1 (frame 450/530) /Users/namrata/Downloads/hen_test.mp4: 384x640 2 Perchings, 2 Preenings, 7 Feedings, 2 Walkings, 59.4ms\n",
      "video 1/1 (frame 451/530) /Users/namrata/Downloads/hen_test.mp4: 384x640 2 Perchings, 2 Preenings, 7 Feedings, 2 Walkings, 69.7ms\n",
      "video 1/1 (frame 452/530) /Users/namrata/Downloads/hen_test.mp4: 384x640 2 Perchings, 1 Preening, 8 Feedings, 2 Walkings, 62.3ms\n",
      "video 1/1 (frame 453/530) /Users/namrata/Downloads/hen_test.mp4: 384x640 2 Perchings, 1 Preening, 9 Feedings, 2 Walkings, 59.6ms\n",
      "video 1/1 (frame 454/530) /Users/namrata/Downloads/hen_test.mp4: 384x640 2 Perchings, 9 Feedings, 4 Walkings, 62.3ms\n",
      "video 1/1 (frame 455/530) /Users/namrata/Downloads/hen_test.mp4: 384x640 2 Perchings, 1 Preening, 8 Feedings, 2 Walkings, 68.1ms\n",
      "video 1/1 (frame 456/530) /Users/namrata/Downloads/hen_test.mp4: 384x640 2 Perchings, 1 Preening, 8 Feedings, 2 Walkings, 59.4ms\n",
      "video 1/1 (frame 457/530) /Users/namrata/Downloads/hen_test.mp4: 384x640 2 Perchings, 1 Preening, 11 Feedings, 2 Walkings, 59.3ms\n",
      "video 1/1 (frame 458/530) /Users/namrata/Downloads/hen_test.mp4: 384x640 2 Perchings, 1 Preening, 9 Feedings, 2 Walkings, 60.8ms\n",
      "video 1/1 (frame 459/530) /Users/namrata/Downloads/hen_test.mp4: 384x640 2 Perchings, 1 Preening, 11 Feedings, 2 Walkings, 68.6ms\n",
      "video 1/1 (frame 460/530) /Users/namrata/Downloads/hen_test.mp4: 384x640 1 Perching, 1 Preening, 11 Feedings, 2 Walkings, 69.7ms\n",
      "video 1/1 (frame 461/530) /Users/namrata/Downloads/hen_test.mp4: 384x640 2 Perchings, 1 Preening, 11 Feedings, 2 Walkings, 59.1ms\n",
      "video 1/1 (frame 462/530) /Users/namrata/Downloads/hen_test.mp4: 384x640 2 Perchings, 1 Preening, 9 Feedings, 2 Walkings, 59.4ms\n",
      "video 1/1 (frame 463/530) /Users/namrata/Downloads/hen_test.mp4: 384x640 2 Perchings, 1 Preening, 9 Feedings, 2 Walkings, 64.0ms\n",
      "video 1/1 (frame 464/530) /Users/namrata/Downloads/hen_test.mp4: 384x640 2 Perchings, 1 Preening, 7 Feedings, 2 Walkings, 65.4ms\n",
      "video 1/1 (frame 465/530) /Users/namrata/Downloads/hen_test.mp4: 384x640 2 Perchings, 1 Preening, 5 Feedings, 2 Walkings, 58.3ms\n",
      "video 1/1 (frame 466/530) /Users/namrata/Downloads/hen_test.mp4: 384x640 2 Perchings, 1 Preening, 5 Feedings, 2 Walkings, 59.3ms\n",
      "video 1/1 (frame 467/530) /Users/namrata/Downloads/hen_test.mp4: 384x640 2 Perchings, 1 Preening, 6 Feedings, 2 Walkings, 66.9ms\n",
      "video 1/1 (frame 468/530) /Users/namrata/Downloads/hen_test.mp4: 384x640 2 Perchings, 1 Preening, 5 Feedings, 2 Walkings, 63.0ms\n",
      "video 1/1 (frame 469/530) /Users/namrata/Downloads/hen_test.mp4: 384x640 1 Perching, 1 Preening, 6 Feedings, 2 Walkings, 59.2ms\n",
      "video 1/1 (frame 470/530) /Users/namrata/Downloads/hen_test.mp4: 384x640 1 Perching, 6 Feedings, 3 Walkings, 59.7ms\n",
      "video 1/1 (frame 471/530) /Users/namrata/Downloads/hen_test.mp4: 384x640 1 Perching, 2 Preenings, 6 Feedings, 2 Walkings, 67.3ms\n",
      "video 1/1 (frame 472/530) /Users/namrata/Downloads/hen_test.mp4: 384x640 1 Perching, 2 Preenings, 6 Feedings, 2 Walkings, 63.9ms\n",
      "video 1/1 (frame 473/530) /Users/namrata/Downloads/hen_test.mp4: 384x640 2 Perchings, 2 Preenings, 8 Feedings, 2 Walkings, 58.4ms\n",
      "video 1/1 (frame 474/530) /Users/namrata/Downloads/hen_test.mp4: 384x640 2 Perchings, 2 Preenings, 7 Feedings, 2 Walkings, 58.4ms\n",
      "video 1/1 (frame 475/530) /Users/namrata/Downloads/hen_test.mp4: 384x640 2 Perchings, 2 Preenings, 6 Feedings, 2 Walkings, 60.8ms\n",
      "video 1/1 (frame 476/530) /Users/namrata/Downloads/hen_test.mp4: 384x640 2 Perchings, 1 Preening, 6 Feedings, 2 Walkings, 60.7ms\n",
      "video 1/1 (frame 477/530) /Users/namrata/Downloads/hen_test.mp4: 384x640 2 Perchings, 1 Preening, 7 Feedings, 2 Walkings, 64.1ms\n",
      "video 1/1 (frame 478/530) /Users/namrata/Downloads/hen_test.mp4: 384x640 2 Perchings, 1 Preening, 7 Feedings, 2 Walkings, 59.9ms\n",
      "video 1/1 (frame 479/530) /Users/namrata/Downloads/hen_test.mp4: 384x640 2 Perchings, 2 Preenings, 8 Feedings, 1 Walking, 59.3ms\n",
      "video 1/1 (frame 480/530) /Users/namrata/Downloads/hen_test.mp4: 384x640 2 Perchings, 2 Preenings, 7 Feedings, 2 Walkings, 60.5ms\n",
      "video 1/1 (frame 481/530) /Users/namrata/Downloads/hen_test.mp4: 384x640 2 Perchings, 1 Preening, 7 Feedings, 1 Walking, 63.4ms\n",
      "video 1/1 (frame 482/530) /Users/namrata/Downloads/hen_test.mp4: 384x640 2 Perchings, 1 Preening, 7 Feedings, 1 Walking, 58.9ms\n",
      "video 1/1 (frame 483/530) /Users/namrata/Downloads/hen_test.mp4: 384x640 2 Perchings, 2 Preenings, 8 Feedings, 1 Walking, 59.7ms\n",
      "video 1/1 (frame 484/530) /Users/namrata/Downloads/hen_test.mp4: 384x640 2 Perchings, 1 Preening, 8 Feedings, 1 Walking, 60.9ms\n",
      "video 1/1 (frame 485/530) /Users/namrata/Downloads/hen_test.mp4: 384x640 2 Perchings, 1 Preening, 7 Feedings, 1 Walking, 59.7ms\n",
      "video 1/1 (frame 486/530) /Users/namrata/Downloads/hen_test.mp4: 384x640 2 Perchings, 1 Preening, 7 Feedings, 2 Walkings, 59.3ms\n",
      "video 1/1 (frame 487/530) /Users/namrata/Downloads/hen_test.mp4: 384x640 2 Perchings, 1 Preening, 7 Feedings, 1 Walking, 58.7ms\n",
      "video 1/1 (frame 488/530) /Users/namrata/Downloads/hen_test.mp4: 384x640 2 Perchings, 1 Preening, 7 Feedings, 1 Walking, 59.5ms\n",
      "video 1/1 (frame 489/530) /Users/namrata/Downloads/hen_test.mp4: 384x640 2 Perchings, 1 Preening, 7 Feedings, 1 Walking, 59.4ms\n",
      "video 1/1 (frame 490/530) /Users/namrata/Downloads/hen_test.mp4: 384x640 2 Perchings, 1 Preening, 7 Feedings, 2 Walkings, 58.3ms\n",
      "video 1/1 (frame 491/530) /Users/namrata/Downloads/hen_test.mp4: 384x640 2 Perchings, 1 Preening, 7 Feedings, 2 Walkings, 59.1ms\n",
      "video 1/1 (frame 492/530) /Users/namrata/Downloads/hen_test.mp4: 384x640 2 Perchings, 1 Preening, 7 Feedings, 1 Walking, 64.2ms\n",
      "video 1/1 (frame 493/530) /Users/namrata/Downloads/hen_test.mp4: 384x640 2 Perchings, 1 Preening, 7 Feedings, 1 Walking, 58.5ms\n",
      "video 1/1 (frame 494/530) /Users/namrata/Downloads/hen_test.mp4: 384x640 2 Perchings, 1 Preening, 7 Feedings, 1 Walking, 58.0ms\n",
      "video 1/1 (frame 495/530) /Users/namrata/Downloads/hen_test.mp4: 384x640 2 Perchings, 1 Preening, 6 Feedings, 1 Walking, 58.0ms\n",
      "video 1/1 (frame 496/530) /Users/namrata/Downloads/hen_test.mp4: 384x640 2 Perchings, 1 Preening, 6 Feedings, 2 Walkings, 59.2ms\n",
      "video 1/1 (frame 497/530) /Users/namrata/Downloads/hen_test.mp4: 384x640 2 Perchings, 1 Preening, 6 Feedings, 2 Walkings, 60.6ms\n",
      "video 1/1 (frame 498/530) /Users/namrata/Downloads/hen_test.mp4: 384x640 2 Perchings, 1 Preening, 6 Feedings, 2 Walkings, 62.1ms\n",
      "video 1/1 (frame 499/530) /Users/namrata/Downloads/hen_test.mp4: 384x640 2 Perchings, 1 Preening, 6 Feedings, 2 Walkings, 73.3ms\n",
      "video 1/1 (frame 500/530) /Users/namrata/Downloads/hen_test.mp4: 384x640 2 Perchings, 1 Preening, 5 Feedings, 2 Walkings, 78.6ms\n",
      "video 1/1 (frame 501/530) /Users/namrata/Downloads/hen_test.mp4: 384x640 1 Perching, 1 Preening, 6 Feedings, 1 Walking, 69.9ms\n"
     ]
    },
    {
     "name": "stdout",
     "output_type": "stream",
     "text": [
      "video 1/1 (frame 502/530) /Users/namrata/Downloads/hen_test.mp4: 384x640 1 Perching, 1 Preening, 5 Feedings, 1 Walking, 68.5ms\n",
      "video 1/1 (frame 503/530) /Users/namrata/Downloads/hen_test.mp4: 384x640 2 Perchings, 1 Preening, 6 Feedings, 2 Walkings, 58.3ms\n",
      "video 1/1 (frame 504/530) /Users/namrata/Downloads/hen_test.mp4: 384x640 2 Perchings, 1 Preening, 6 Feedings, 2 Walkings, 60.0ms\n",
      "video 1/1 (frame 505/530) /Users/namrata/Downloads/hen_test.mp4: 384x640 2 Perchings, 1 Preening, 7 Feedings, 2 Walkings, 71.5ms\n",
      "video 1/1 (frame 506/530) /Users/namrata/Downloads/hen_test.mp4: 384x640 2 Perchings, 1 Preening, 5 Feedings, 2 Walkings, 60.8ms\n",
      "video 1/1 (frame 507/530) /Users/namrata/Downloads/hen_test.mp4: 384x640 2 Perchings, 1 Preening, 7 Feedings, 1 Walking, 61.4ms\n",
      "video 1/1 (frame 508/530) /Users/namrata/Downloads/hen_test.mp4: 384x640 2 Perchings, 1 Preening, 7 Feedings, 2 Walkings, 59.3ms\n",
      "video 1/1 (frame 509/530) /Users/namrata/Downloads/hen_test.mp4: 384x640 2 Perchings, 1 Preening, 7 Feedings, 2 Walkings, 63.7ms\n",
      "video 1/1 (frame 510/530) /Users/namrata/Downloads/hen_test.mp4: 384x640 2 Perchings, 1 Preening, 8 Feedings, 2 Walkings, 63.4ms\n",
      "video 1/1 (frame 511/530) /Users/namrata/Downloads/hen_test.mp4: 384x640 2 Perchings, 1 Preening, 8 Feedings, 2 Walkings, 59.8ms\n",
      "video 1/1 (frame 512/530) /Users/namrata/Downloads/hen_test.mp4: 384x640 2 Perchings, 1 Preening, 8 Feedings, 2 Walkings, 66.3ms\n",
      "video 1/1 (frame 513/530) /Users/namrata/Downloads/hen_test.mp4: 384x640 2 Perchings, 1 Preening, 6 Feedings, 2 Walkings, 59.5ms\n",
      "video 1/1 (frame 514/530) /Users/namrata/Downloads/hen_test.mp4: 384x640 2 Perchings, 2 Preenings, 6 Feedings, 1 Walking, 60.1ms\n",
      "video 1/1 (frame 515/530) /Users/namrata/Downloads/hen_test.mp4: 384x640 2 Perchings, 2 Preenings, 6 Feedings, 1 Walking, 59.9ms\n",
      "video 1/1 (frame 516/530) /Users/namrata/Downloads/hen_test.mp4: 384x640 1 Perching, 2 Preenings, 6 Feedings, 60.1ms\n",
      "video 1/1 (frame 517/530) /Users/namrata/Downloads/hen_test.mp4: 384x640 1 Perching, 2 Preenings, 6 Feedings, 1 Walking, 69.1ms\n",
      "video 1/1 (frame 518/530) /Users/namrata/Downloads/hen_test.mp4: 384x640 1 Perching, 2 Preenings, 6 Feedings, 59.9ms\n",
      "video 1/1 (frame 519/530) /Users/namrata/Downloads/hen_test.mp4: 384x640 1 Perching, 2 Preenings, 6 Feedings, 58.4ms\n",
      "video 1/1 (frame 520/530) /Users/namrata/Downloads/hen_test.mp4: 384x640 1 Perching, 2 Preenings, 6 Feedings, 1 Walking, 61.0ms\n",
      "video 1/1 (frame 521/530) /Users/namrata/Downloads/hen_test.mp4: 384x640 1 Perching, 2 Preenings, 6 Feedings, 1 Walking, 69.4ms\n",
      "video 1/1 (frame 522/530) /Users/namrata/Downloads/hen_test.mp4: 384x640 1 Perching, 2 Preenings, 6 Feedings, 1 Walking, 59.0ms\n",
      "video 1/1 (frame 523/530) /Users/namrata/Downloads/hen_test.mp4: 384x640 2 Perchings, 2 Preenings, 6 Feedings, 1 Walking, 58.8ms\n",
      "video 1/1 (frame 524/530) /Users/namrata/Downloads/hen_test.mp4: 384x640 2 Perchings, 2 Preenings, 6 Feedings, 1 Walking, 60.6ms\n",
      "video 1/1 (frame 525/530) /Users/namrata/Downloads/hen_test.mp4: 384x640 2 Perchings, 2 Preenings, 6 Feedings, 1 Walking, 60.7ms\n",
      "video 1/1 (frame 526/530) /Users/namrata/Downloads/hen_test.mp4: 384x640 2 Perchings, 2 Preenings, 7 Feedings, 1 Walking, 58.8ms\n",
      "video 1/1 (frame 527/530) /Users/namrata/Downloads/hen_test.mp4: 384x640 2 Perchings, 2 Preenings, 7 Feedings, 1 Walking, 55.7ms\n",
      "video 1/1 (frame 528/530) /Users/namrata/Downloads/hen_test.mp4: 384x640 2 Perchings, 2 Preenings, 8 Feedings, 1 Walking, 57.8ms\n",
      "video 1/1 (frame 529/530) /Users/namrata/Downloads/hen_test.mp4: 384x640 2 Perchings, 1 Preening, 7 Feedings, 1 Walking, 59.5ms\n",
      "video 1/1 (frame 530/530) /Users/namrata/Downloads/hen_test.mp4: 384x640 2 Perchings, 1 Preening, 7 Feedings, 1 Walking, 57.7ms\n",
      "Speed: 2.2ms preprocess, 57.6ms inference, 1.3ms postprocess per image at shape (1, 3, 384, 640)\n",
      "Results saved to \u001b[1mruns/detect/predict5\u001b[0m\n",
      "💡 Learn more at https://docs.ultralytics.com/modes/predict\n"
     ]
    }
   ],
   "source": [
    "# Running the model on sample test video\n",
    "!yolo task=detect mode=predict model=\"runs/detect/train2/weights/best.pt\" conf=0.1 source=\"hen_test.mp4\""
   ]
  },
  {
   "cell_type": "code",
   "execution_count": 4,
   "id": "765dde55",
   "metadata": {
    "scrolled": false
   },
   "outputs": [
    {
     "name": "stdout",
     "output_type": "stream",
     "text": [
      "YOLO(\n",
      "  (model): DetectionModel(\n",
      "    (model): Sequential(\n",
      "      (0): Conv(\n",
      "        (conv): Conv2d(3, 16, kernel_size=(3, 3), stride=(2, 2), padding=(1, 1), bias=False)\n",
      "        (bn): BatchNorm2d(16, eps=0.001, momentum=0.03, affine=True, track_running_stats=True)\n",
      "        (act): SiLU(inplace=True)\n",
      "      )\n",
      "      (1): Conv(\n",
      "        (conv): Conv2d(16, 32, kernel_size=(3, 3), stride=(2, 2), padding=(1, 1), bias=False)\n",
      "        (bn): BatchNorm2d(32, eps=0.001, momentum=0.03, affine=True, track_running_stats=True)\n",
      "        (act): SiLU(inplace=True)\n",
      "      )\n",
      "      (2): C2f(\n",
      "        (cv1): Conv(\n",
      "          (conv): Conv2d(32, 32, kernel_size=(1, 1), stride=(1, 1), bias=False)\n",
      "          (bn): BatchNorm2d(32, eps=0.001, momentum=0.03, affine=True, track_running_stats=True)\n",
      "          (act): SiLU(inplace=True)\n",
      "        )\n",
      "        (cv2): Conv(\n",
      "          (conv): Conv2d(48, 32, kernel_size=(1, 1), stride=(1, 1), bias=False)\n",
      "          (bn): BatchNorm2d(32, eps=0.001, momentum=0.03, affine=True, track_running_stats=True)\n",
      "          (act): SiLU(inplace=True)\n",
      "        )\n",
      "        (m): ModuleList(\n",
      "          (0): Bottleneck(\n",
      "            (cv1): Conv(\n",
      "              (conv): Conv2d(16, 16, kernel_size=(3, 3), stride=(1, 1), padding=(1, 1), bias=False)\n",
      "              (bn): BatchNorm2d(16, eps=0.001, momentum=0.03, affine=True, track_running_stats=True)\n",
      "              (act): SiLU(inplace=True)\n",
      "            )\n",
      "            (cv2): Conv(\n",
      "              (conv): Conv2d(16, 16, kernel_size=(3, 3), stride=(1, 1), padding=(1, 1), bias=False)\n",
      "              (bn): BatchNorm2d(16, eps=0.001, momentum=0.03, affine=True, track_running_stats=True)\n",
      "              (act): SiLU(inplace=True)\n",
      "            )\n",
      "          )\n",
      "        )\n",
      "      )\n",
      "      (3): Conv(\n",
      "        (conv): Conv2d(32, 64, kernel_size=(3, 3), stride=(2, 2), padding=(1, 1), bias=False)\n",
      "        (bn): BatchNorm2d(64, eps=0.001, momentum=0.03, affine=True, track_running_stats=True)\n",
      "        (act): SiLU(inplace=True)\n",
      "      )\n",
      "      (4): C2f(\n",
      "        (cv1): Conv(\n",
      "          (conv): Conv2d(64, 64, kernel_size=(1, 1), stride=(1, 1), bias=False)\n",
      "          (bn): BatchNorm2d(64, eps=0.001, momentum=0.03, affine=True, track_running_stats=True)\n",
      "          (act): SiLU(inplace=True)\n",
      "        )\n",
      "        (cv2): Conv(\n",
      "          (conv): Conv2d(128, 64, kernel_size=(1, 1), stride=(1, 1), bias=False)\n",
      "          (bn): BatchNorm2d(64, eps=0.001, momentum=0.03, affine=True, track_running_stats=True)\n",
      "          (act): SiLU(inplace=True)\n",
      "        )\n",
      "        (m): ModuleList(\n",
      "          (0-1): 2 x Bottleneck(\n",
      "            (cv1): Conv(\n",
      "              (conv): Conv2d(32, 32, kernel_size=(3, 3), stride=(1, 1), padding=(1, 1), bias=False)\n",
      "              (bn): BatchNorm2d(32, eps=0.001, momentum=0.03, affine=True, track_running_stats=True)\n",
      "              (act): SiLU(inplace=True)\n",
      "            )\n",
      "            (cv2): Conv(\n",
      "              (conv): Conv2d(32, 32, kernel_size=(3, 3), stride=(1, 1), padding=(1, 1), bias=False)\n",
      "              (bn): BatchNorm2d(32, eps=0.001, momentum=0.03, affine=True, track_running_stats=True)\n",
      "              (act): SiLU(inplace=True)\n",
      "            )\n",
      "          )\n",
      "        )\n",
      "      )\n",
      "      (5): Conv(\n",
      "        (conv): Conv2d(64, 128, kernel_size=(3, 3), stride=(2, 2), padding=(1, 1), bias=False)\n",
      "        (bn): BatchNorm2d(128, eps=0.001, momentum=0.03, affine=True, track_running_stats=True)\n",
      "        (act): SiLU(inplace=True)\n",
      "      )\n",
      "      (6): C2f(\n",
      "        (cv1): Conv(\n",
      "          (conv): Conv2d(128, 128, kernel_size=(1, 1), stride=(1, 1), bias=False)\n",
      "          (bn): BatchNorm2d(128, eps=0.001, momentum=0.03, affine=True, track_running_stats=True)\n",
      "          (act): SiLU(inplace=True)\n",
      "        )\n",
      "        (cv2): Conv(\n",
      "          (conv): Conv2d(256, 128, kernel_size=(1, 1), stride=(1, 1), bias=False)\n",
      "          (bn): BatchNorm2d(128, eps=0.001, momentum=0.03, affine=True, track_running_stats=True)\n",
      "          (act): SiLU(inplace=True)\n",
      "        )\n",
      "        (m): ModuleList(\n",
      "          (0-1): 2 x Bottleneck(\n",
      "            (cv1): Conv(\n",
      "              (conv): Conv2d(64, 64, kernel_size=(3, 3), stride=(1, 1), padding=(1, 1), bias=False)\n",
      "              (bn): BatchNorm2d(64, eps=0.001, momentum=0.03, affine=True, track_running_stats=True)\n",
      "              (act): SiLU(inplace=True)\n",
      "            )\n",
      "            (cv2): Conv(\n",
      "              (conv): Conv2d(64, 64, kernel_size=(3, 3), stride=(1, 1), padding=(1, 1), bias=False)\n",
      "              (bn): BatchNorm2d(64, eps=0.001, momentum=0.03, affine=True, track_running_stats=True)\n",
      "              (act): SiLU(inplace=True)\n",
      "            )\n",
      "          )\n",
      "        )\n",
      "      )\n",
      "      (7): Conv(\n",
      "        (conv): Conv2d(128, 256, kernel_size=(3, 3), stride=(2, 2), padding=(1, 1), bias=False)\n",
      "        (bn): BatchNorm2d(256, eps=0.001, momentum=0.03, affine=True, track_running_stats=True)\n",
      "        (act): SiLU(inplace=True)\n",
      "      )\n",
      "      (8): C2f(\n",
      "        (cv1): Conv(\n",
      "          (conv): Conv2d(256, 256, kernel_size=(1, 1), stride=(1, 1), bias=False)\n",
      "          (bn): BatchNorm2d(256, eps=0.001, momentum=0.03, affine=True, track_running_stats=True)\n",
      "          (act): SiLU(inplace=True)\n",
      "        )\n",
      "        (cv2): Conv(\n",
      "          (conv): Conv2d(384, 256, kernel_size=(1, 1), stride=(1, 1), bias=False)\n",
      "          (bn): BatchNorm2d(256, eps=0.001, momentum=0.03, affine=True, track_running_stats=True)\n",
      "          (act): SiLU(inplace=True)\n",
      "        )\n",
      "        (m): ModuleList(\n",
      "          (0): Bottleneck(\n",
      "            (cv1): Conv(\n",
      "              (conv): Conv2d(128, 128, kernel_size=(3, 3), stride=(1, 1), padding=(1, 1), bias=False)\n",
      "              (bn): BatchNorm2d(128, eps=0.001, momentum=0.03, affine=True, track_running_stats=True)\n",
      "              (act): SiLU(inplace=True)\n",
      "            )\n",
      "            (cv2): Conv(\n",
      "              (conv): Conv2d(128, 128, kernel_size=(3, 3), stride=(1, 1), padding=(1, 1), bias=False)\n",
      "              (bn): BatchNorm2d(128, eps=0.001, momentum=0.03, affine=True, track_running_stats=True)\n",
      "              (act): SiLU(inplace=True)\n",
      "            )\n",
      "          )\n",
      "        )\n",
      "      )\n",
      "      (9): SPPF(\n",
      "        (cv1): Conv(\n",
      "          (conv): Conv2d(256, 128, kernel_size=(1, 1), stride=(1, 1), bias=False)\n",
      "          (bn): BatchNorm2d(128, eps=0.001, momentum=0.03, affine=True, track_running_stats=True)\n",
      "          (act): SiLU(inplace=True)\n",
      "        )\n",
      "        (cv2): Conv(\n",
      "          (conv): Conv2d(512, 256, kernel_size=(1, 1), stride=(1, 1), bias=False)\n",
      "          (bn): BatchNorm2d(256, eps=0.001, momentum=0.03, affine=True, track_running_stats=True)\n",
      "          (act): SiLU(inplace=True)\n",
      "        )\n",
      "        (m): MaxPool2d(kernel_size=5, stride=1, padding=2, dilation=1, ceil_mode=False)\n",
      "      )\n",
      "      (10): Upsample(scale_factor=2.0, mode='nearest')\n",
      "      (11): Concat()\n",
      "      (12): C2f(\n",
      "        (cv1): Conv(\n",
      "          (conv): Conv2d(384, 128, kernel_size=(1, 1), stride=(1, 1), bias=False)\n",
      "          (bn): BatchNorm2d(128, eps=0.001, momentum=0.03, affine=True, track_running_stats=True)\n",
      "          (act): SiLU(inplace=True)\n",
      "        )\n",
      "        (cv2): Conv(\n",
      "          (conv): Conv2d(192, 128, kernel_size=(1, 1), stride=(1, 1), bias=False)\n",
      "          (bn): BatchNorm2d(128, eps=0.001, momentum=0.03, affine=True, track_running_stats=True)\n",
      "          (act): SiLU(inplace=True)\n",
      "        )\n",
      "        (m): ModuleList(\n",
      "          (0): Bottleneck(\n",
      "            (cv1): Conv(\n",
      "              (conv): Conv2d(64, 64, kernel_size=(3, 3), stride=(1, 1), padding=(1, 1), bias=False)\n",
      "              (bn): BatchNorm2d(64, eps=0.001, momentum=0.03, affine=True, track_running_stats=True)\n",
      "              (act): SiLU(inplace=True)\n",
      "            )\n",
      "            (cv2): Conv(\n",
      "              (conv): Conv2d(64, 64, kernel_size=(3, 3), stride=(1, 1), padding=(1, 1), bias=False)\n",
      "              (bn): BatchNorm2d(64, eps=0.001, momentum=0.03, affine=True, track_running_stats=True)\n",
      "              (act): SiLU(inplace=True)\n",
      "            )\n",
      "          )\n",
      "        )\n",
      "      )\n",
      "      (13): Upsample(scale_factor=2.0, mode='nearest')\n",
      "      (14): Concat()\n",
      "      (15): C2f(\n",
      "        (cv1): Conv(\n",
      "          (conv): Conv2d(192, 64, kernel_size=(1, 1), stride=(1, 1), bias=False)\n",
      "          (bn): BatchNorm2d(64, eps=0.001, momentum=0.03, affine=True, track_running_stats=True)\n",
      "          (act): SiLU(inplace=True)\n",
      "        )\n",
      "        (cv2): Conv(\n",
      "          (conv): Conv2d(96, 64, kernel_size=(1, 1), stride=(1, 1), bias=False)\n",
      "          (bn): BatchNorm2d(64, eps=0.001, momentum=0.03, affine=True, track_running_stats=True)\n",
      "          (act): SiLU(inplace=True)\n",
      "        )\n",
      "        (m): ModuleList(\n",
      "          (0): Bottleneck(\n",
      "            (cv1): Conv(\n",
      "              (conv): Conv2d(32, 32, kernel_size=(3, 3), stride=(1, 1), padding=(1, 1), bias=False)\n",
      "              (bn): BatchNorm2d(32, eps=0.001, momentum=0.03, affine=True, track_running_stats=True)\n",
      "              (act): SiLU(inplace=True)\n",
      "            )\n",
      "            (cv2): Conv(\n",
      "              (conv): Conv2d(32, 32, kernel_size=(3, 3), stride=(1, 1), padding=(1, 1), bias=False)\n",
      "              (bn): BatchNorm2d(32, eps=0.001, momentum=0.03, affine=True, track_running_stats=True)\n",
      "              (act): SiLU(inplace=True)\n",
      "            )\n",
      "          )\n",
      "        )\n",
      "      )\n",
      "      (16): Conv(\n",
      "        (conv): Conv2d(64, 64, kernel_size=(3, 3), stride=(2, 2), padding=(1, 1), bias=False)\n",
      "        (bn): BatchNorm2d(64, eps=0.001, momentum=0.03, affine=True, track_running_stats=True)\n",
      "        (act): SiLU(inplace=True)\n",
      "      )\n",
      "      (17): Concat()\n",
      "      (18): C2f(\n",
      "        (cv1): Conv(\n",
      "          (conv): Conv2d(192, 128, kernel_size=(1, 1), stride=(1, 1), bias=False)\n",
      "          (bn): BatchNorm2d(128, eps=0.001, momentum=0.03, affine=True, track_running_stats=True)\n",
      "          (act): SiLU(inplace=True)\n",
      "        )\n",
      "        (cv2): Conv(\n",
      "          (conv): Conv2d(192, 128, kernel_size=(1, 1), stride=(1, 1), bias=False)\n",
      "          (bn): BatchNorm2d(128, eps=0.001, momentum=0.03, affine=True, track_running_stats=True)\n",
      "          (act): SiLU(inplace=True)\n",
      "        )\n",
      "        (m): ModuleList(\n",
      "          (0): Bottleneck(\n",
      "            (cv1): Conv(\n",
      "              (conv): Conv2d(64, 64, kernel_size=(3, 3), stride=(1, 1), padding=(1, 1), bias=False)\n",
      "              (bn): BatchNorm2d(64, eps=0.001, momentum=0.03, affine=True, track_running_stats=True)\n",
      "              (act): SiLU(inplace=True)\n",
      "            )\n",
      "            (cv2): Conv(\n",
      "              (conv): Conv2d(64, 64, kernel_size=(3, 3), stride=(1, 1), padding=(1, 1), bias=False)\n",
      "              (bn): BatchNorm2d(64, eps=0.001, momentum=0.03, affine=True, track_running_stats=True)\n",
      "              (act): SiLU(inplace=True)\n",
      "            )\n",
      "          )\n",
      "        )\n",
      "      )\n",
      "      (19): Conv(\n",
      "        (conv): Conv2d(128, 128, kernel_size=(3, 3), stride=(2, 2), padding=(1, 1), bias=False)\n",
      "        (bn): BatchNorm2d(128, eps=0.001, momentum=0.03, affine=True, track_running_stats=True)\n",
      "        (act): SiLU(inplace=True)\n",
      "      )\n",
      "      (20): Concat()\n",
      "      (21): C2f(\n",
      "        (cv1): Conv(\n",
      "          (conv): Conv2d(384, 256, kernel_size=(1, 1), stride=(1, 1), bias=False)\n",
      "          (bn): BatchNorm2d(256, eps=0.001, momentum=0.03, affine=True, track_running_stats=True)\n",
      "          (act): SiLU(inplace=True)\n",
      "        )\n",
      "        (cv2): Conv(\n",
      "          (conv): Conv2d(384, 256, kernel_size=(1, 1), stride=(1, 1), bias=False)\n",
      "          (bn): BatchNorm2d(256, eps=0.001, momentum=0.03, affine=True, track_running_stats=True)\n",
      "          (act): SiLU(inplace=True)\n",
      "        )\n",
      "        (m): ModuleList(\n",
      "          (0): Bottleneck(\n",
      "            (cv1): Conv(\n",
      "              (conv): Conv2d(128, 128, kernel_size=(3, 3), stride=(1, 1), padding=(1, 1), bias=False)\n",
      "              (bn): BatchNorm2d(128, eps=0.001, momentum=0.03, affine=True, track_running_stats=True)\n",
      "              (act): SiLU(inplace=True)\n",
      "            )\n",
      "            (cv2): Conv(\n",
      "              (conv): Conv2d(128, 128, kernel_size=(3, 3), stride=(1, 1), padding=(1, 1), bias=False)\n",
      "              (bn): BatchNorm2d(128, eps=0.001, momentum=0.03, affine=True, track_running_stats=True)\n",
      "              (act): SiLU(inplace=True)\n",
      "            )\n",
      "          )\n",
      "        )\n",
      "      )\n",
      "      (22): Detect(\n",
      "        (cv2): ModuleList(\n",
      "          (0): Sequential(\n",
      "            (0): Conv(\n",
      "              (conv): Conv2d(64, 64, kernel_size=(3, 3), stride=(1, 1), padding=(1, 1), bias=False)\n",
      "              (bn): BatchNorm2d(64, eps=0.001, momentum=0.03, affine=True, track_running_stats=True)\n",
      "              (act): SiLU(inplace=True)\n",
      "            )\n",
      "            (1): Conv(\n",
      "              (conv): Conv2d(64, 64, kernel_size=(3, 3), stride=(1, 1), padding=(1, 1), bias=False)\n",
      "              (bn): BatchNorm2d(64, eps=0.001, momentum=0.03, affine=True, track_running_stats=True)\n",
      "              (act): SiLU(inplace=True)\n",
      "            )\n",
      "            (2): Conv2d(64, 64, kernel_size=(1, 1), stride=(1, 1))\n",
      "          )\n",
      "          (1): Sequential(\n",
      "            (0): Conv(\n",
      "              (conv): Conv2d(128, 64, kernel_size=(3, 3), stride=(1, 1), padding=(1, 1), bias=False)\n",
      "              (bn): BatchNorm2d(64, eps=0.001, momentum=0.03, affine=True, track_running_stats=True)\n",
      "              (act): SiLU(inplace=True)\n",
      "            )\n",
      "            (1): Conv(\n",
      "              (conv): Conv2d(64, 64, kernel_size=(3, 3), stride=(1, 1), padding=(1, 1), bias=False)\n",
      "              (bn): BatchNorm2d(64, eps=0.001, momentum=0.03, affine=True, track_running_stats=True)\n",
      "              (act): SiLU(inplace=True)\n",
      "            )\n",
      "            (2): Conv2d(64, 64, kernel_size=(1, 1), stride=(1, 1))\n",
      "          )\n",
      "          (2): Sequential(\n",
      "            (0): Conv(\n",
      "              (conv): Conv2d(256, 64, kernel_size=(3, 3), stride=(1, 1), padding=(1, 1), bias=False)\n",
      "              (bn): BatchNorm2d(64, eps=0.001, momentum=0.03, affine=True, track_running_stats=True)\n",
      "              (act): SiLU(inplace=True)\n",
      "            )\n",
      "            (1): Conv(\n",
      "              (conv): Conv2d(64, 64, kernel_size=(3, 3), stride=(1, 1), padding=(1, 1), bias=False)\n",
      "              (bn): BatchNorm2d(64, eps=0.001, momentum=0.03, affine=True, track_running_stats=True)\n",
      "              (act): SiLU(inplace=True)\n",
      "            )\n",
      "            (2): Conv2d(64, 64, kernel_size=(1, 1), stride=(1, 1))\n",
      "          )\n",
      "        )\n",
      "        (cv3): ModuleList(\n",
      "          (0): Sequential(\n",
      "            (0): Conv(\n",
      "              (conv): Conv2d(64, 64, kernel_size=(3, 3), stride=(1, 1), padding=(1, 1), bias=False)\n",
      "              (bn): BatchNorm2d(64, eps=0.001, momentum=0.03, affine=True, track_running_stats=True)\n",
      "              (act): SiLU(inplace=True)\n",
      "            )\n",
      "            (1): Conv(\n",
      "              (conv): Conv2d(64, 64, kernel_size=(3, 3), stride=(1, 1), padding=(1, 1), bias=False)\n",
      "              (bn): BatchNorm2d(64, eps=0.001, momentum=0.03, affine=True, track_running_stats=True)\n",
      "              (act): SiLU(inplace=True)\n",
      "            )\n",
      "            (2): Conv2d(64, 6, kernel_size=(1, 1), stride=(1, 1))\n",
      "          )\n",
      "          (1): Sequential(\n",
      "            (0): Conv(\n",
      "              (conv): Conv2d(128, 64, kernel_size=(3, 3), stride=(1, 1), padding=(1, 1), bias=False)\n",
      "              (bn): BatchNorm2d(64, eps=0.001, momentum=0.03, affine=True, track_running_stats=True)\n",
      "              (act): SiLU(inplace=True)\n",
      "            )\n",
      "            (1): Conv(\n",
      "              (conv): Conv2d(64, 64, kernel_size=(3, 3), stride=(1, 1), padding=(1, 1), bias=False)\n",
      "              (bn): BatchNorm2d(64, eps=0.001, momentum=0.03, affine=True, track_running_stats=True)\n",
      "              (act): SiLU(inplace=True)\n",
      "            )\n",
      "            (2): Conv2d(64, 6, kernel_size=(1, 1), stride=(1, 1))\n",
      "          )\n",
      "          (2): Sequential(\n",
      "            (0): Conv(\n",
      "              (conv): Conv2d(256, 64, kernel_size=(3, 3), stride=(1, 1), padding=(1, 1), bias=False)\n",
      "              (bn): BatchNorm2d(64, eps=0.001, momentum=0.03, affine=True, track_running_stats=True)\n",
      "              (act): SiLU(inplace=True)\n",
      "            )\n",
      "            (1): Conv(\n",
      "              (conv): Conv2d(64, 64, kernel_size=(3, 3), stride=(1, 1), padding=(1, 1), bias=False)\n",
      "              (bn): BatchNorm2d(64, eps=0.001, momentum=0.03, affine=True, track_running_stats=True)\n",
      "              (act): SiLU(inplace=True)\n",
      "            )\n",
      "            (2): Conv2d(64, 6, kernel_size=(1, 1), stride=(1, 1))\n",
      "          )\n",
      "        )\n",
      "        (dfl): DFL(\n",
      "          (conv): Conv2d(16, 1, kernel_size=(1, 1), stride=(1, 1), bias=False)\n",
      "        )\n",
      "      )\n",
      "    )\n",
      "  )\n",
      ")\n"
     ]
    }
   ],
   "source": [
    "print(model) #Model summary"
   ]
  }
 ],
 "metadata": {
  "kernelspec": {
   "display_name": "Python 3 (ipykernel)",
   "language": "python",
   "name": "python3"
  },
  "language_info": {
   "codemirror_mode": {
    "name": "ipython",
    "version": 3
   },
   "file_extension": ".py",
   "mimetype": "text/x-python",
   "name": "python",
   "nbconvert_exporter": "python",
   "pygments_lexer": "ipython3",
   "version": "3.11.5"
  }
 },
 "nbformat": 4,
 "nbformat_minor": 5
}
